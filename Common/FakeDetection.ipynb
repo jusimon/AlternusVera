{
  "nbformat": 4,
  "nbformat_minor": 0,
  "metadata": {
    "kernelspec": {
      "display_name": "Python 3",
      "language": "python",
      "name": "python3"
    },
    "language_info": {
      "codemirror_mode": {
        "name": "ipython",
        "version": 3
      },
      "file_extension": ".py",
      "mimetype": "text/x-python",
      "name": "python",
      "nbconvert_exporter": "python",
      "pygments_lexer": "ipython3",
      "version": "3.6.8"
    },
    "colab": {
      "name": "FakeDetection.ipynb",
      "provenance": []
    }
  },
  "cells": [
    {
      "cell_type": "code",
      "metadata": {
        "id": "9mXULsnF-osA",
        "colab_type": "code",
        "colab": {
          "base_uri": "https://localhost:8080/",
          "height": 122
        },
        "outputId": "cceff045-cef0-4a04-b21f-e1c8b5b47a54"
      },
      "source": [
        "import pandas as pd\n",
        "from google.colab import drive\n",
        "from pydrive.auth import GoogleAuth\n",
        "from pydrive.drive import GoogleDrive\n",
        "from google.colab import auth\n",
        "from oauth2client.client import GoogleCredentials\n",
        "# Authenticate and create the PyDrive client.\n",
        "auth.authenticate_user()\n",
        "gauth = GoogleAuth()\n",
        "gauth.credentials = GoogleCredentials.get_application_default()\n",
        "googleDrive = GoogleDrive(gauth)\n",
        "drive.mount('/content/gdrive')"
      ],
      "execution_count": 1,
      "outputs": [
        {
          "output_type": "stream",
          "text": [
            "Go to this URL in a browser: https://accounts.google.com/o/oauth2/auth?client_id=947318989803-6bn6qk8qdgf4n4g3pfee6491hc0brc4i.apps.googleusercontent.com&redirect_uri=urn%3aietf%3awg%3aoauth%3a2.0%3aoob&response_type=code&scope=email%20https%3a%2f%2fwww.googleapis.com%2fauth%2fdocs.test%20https%3a%2f%2fwww.googleapis.com%2fauth%2fdrive%20https%3a%2f%2fwww.googleapis.com%2fauth%2fdrive.photos.readonly%20https%3a%2f%2fwww.googleapis.com%2fauth%2fpeopleapi.readonly\n",
            "\n",
            "Enter your authorization code:\n",
            "··········\n",
            "Mounted at /content/gdrive\n"
          ],
          "name": "stdout"
        }
      ]
    },
    {
      "cell_type": "code",
      "metadata": {
        "id": "eYMQN8zQg6eP",
        "colab_type": "code",
        "colab": {}
      },
      "source": [
        "Colnames = ['Json_Id', 'Label', 'Statement', 'Subject', 'SpeakerName',\n",
        "           'JobTitle', 'StateInfo', 'partyAffiliation',\n",
        "           'BarelyTrueCounts', 'FalseCounts','HalfTrueCounts',\n",
        "           'MostlyTrueCounts','PantsOnFireCounts','Context']\n",
        "\n",
        "valid_link = \"https://drive.google.com/open?id=1gaS9R-PQvER5DE1dAgh7z6v4u_euIvrO\"\n",
        "fluff, id3 = valid_link.split('=')\n",
        "valid_filename = 'valid.tsv'\n",
        "downloaded = googleDrive.CreateFile({'id':id3}) \n",
        "downloaded.GetContentFile(valid_filename)\n",
        "valid_news = pd.read_csv(valid_filename, sep='\\t', names = Colnames,error_bad_lines=False)"
      ],
      "execution_count": 0,
      "outputs": []
    },
    {
      "cell_type": "code",
      "metadata": {
        "id": "_21xYVEAJa5J",
        "colab_type": "code",
        "colab": {}
      },
      "source": [
        "Factors = [\n",
        "           {\n",
        "               \"name\" : \"Political_Affiliation\",\n",
        "               \"git\" : \"https://github.com/jusimon/AlternusVera\",\n",
        "               \"folder\" :\"AlternusVera\",\n",
        "               \"file\" : \"Political_Affiliation\",\n",
        "               \"model\" : \"/content/gdrive/My Drive/Drifters/Models/Politcal_Affiliation_Model.pkl\"\n",
        "               }   \n",
        "           ]"
      ],
      "execution_count": 0,
      "outputs": []
    },
    {
      "cell_type": "code",
      "metadata": {
        "id": "Qd779pr8CWrs",
        "colab_type": "code",
        "colab": {
          "base_uri": "https://localhost:8080/",
          "height": 136
        },
        "outputId": "e6a53351-e302-4d31-99d7-7407526d3c2f"
      },
      "source": [
        "!rm -rf AlternusVera\n",
        "!git clone https://github.com/jusimon/AlternusVera"
      ],
      "execution_count": 4,
      "outputs": [
        {
          "output_type": "stream",
          "text": [
            "Cloning into 'AlternusVera'...\n",
            "remote: Enumerating objects: 38, done.\u001b[K\n",
            "remote: Counting objects: 100% (38/38), done.\u001b[K\n",
            "remote: Compressing objects: 100% (31/31), done.\u001b[K\n",
            "remote: Total 117 (delta 18), reused 18 (delta 6), pack-reused 79\u001b[K\n",
            "Receiving objects: 100% (117/117), 34.59 MiB | 19.71 MiB/s, done.\n",
            "Resolving deltas: 100% (52/52), done.\n"
          ],
          "name": "stdout"
        }
      ]
    },
    {
      "cell_type": "code",
      "metadata": {
        "id": "pImt1S9DCiFc",
        "colab_type": "code",
        "colab": {
          "base_uri": "https://localhost:8080/",
          "height": 85
        },
        "outputId": "db99f789-a3c8-4939-c7dd-c12e51c43efb"
      },
      "source": [
        "!ls AlternusVera/"
      ],
      "execution_count": 5,
      "outputs": [
        {
          "output_type": "stream",
          "text": [
            "AiternusVera_Iteration2a.ipynb\t\t\t Common\n",
            "AlternusVera_Iteration1.ipynb\t\t\t input_data\n",
            "AlternusVera_polical_affiliation_analysis.ipynb  Political_Affiliation.py\n",
            "AlternusVera_Political_Affiliation2.ipynb\t README.md\n"
          ],
          "name": "stdout"
        }
      ]
    },
    {
      "cell_type": "code",
      "metadata": {
        "id": "HY-5SjGUVjXG",
        "colab_type": "code",
        "colab": {}
      },
      "source": [
        "!cp AlternusVera/Political_Affiliation.py ./"
      ],
      "execution_count": 0,
      "outputs": []
    },
    {
      "cell_type": "code",
      "metadata": {
        "id": "9TnDkdhvVsE3",
        "colab_type": "code",
        "colab": {
          "base_uri": "https://localhost:8080/",
          "height": 51
        },
        "outputId": "1efc53b7-f1d3-4adc-f143-d20b19acdce5"
      },
      "source": [
        "!ls"
      ],
      "execution_count": 7,
      "outputs": [
        {
          "output_type": "stream",
          "text": [
            "adc.json      gdrive\t\t\tsample_data\n",
            "AlternusVera  Political_Affiliation.py\tvalid.tsv\n"
          ],
          "name": "stdout"
        }
      ]
    },
    {
      "cell_type": "code",
      "metadata": {
        "id": "J-3MatpaVu5M",
        "colab_type": "code",
        "colab": {}
      },
      "source": [
        "import Political_Affiliation"
      ],
      "execution_count": 0,
      "outputs": []
    },
    {
      "cell_type": "markdown",
      "metadata": {
        "id": "wG9Pc7OZ-osM",
        "colab_type": "text"
      },
      "source": [
        "##### This function calculates fakeness percentage using the weighted_percentage function passing all factors fakeness score. It calls respective factors class to get the fakeness score of individual factor"
      ]
    },
    {
      "cell_type": "code",
      "metadata": {
        "id": "EYzZP9cB-osP",
        "colab_type": "code",
        "colab": {}
      },
      "source": [
        "from gensim.models.doc2vec import Doc2Vec\n",
        "def fakecheck(dataFrame):\n",
        "  # biasedFactor = Biased_Factor(dataFrame).predict()\n",
        "  PoliticalAff = Political_Affiliation.Political_Affiliation(valid_news).predict()\n",
        "  #  Authenticity = Authenticity(dataFrame).predict()\n",
        "  #  Sensationalism = Sensationalism(dataFrame).predict()\n",
        "  # print('sensationalism_factor:',sensationalism_factor)    \n",
        "  print('political_affilication_factor:',PoliticalAff)\n",
        "  #  print('spelling_error_factor:',spelling_error_factor)\n",
        "  #  print('spam_detection_factor:',spam_detection_factor)\n",
        "  #  print('stance_detection_factor:',stance_detection_factor)\n",
        "  return weighted_percentage(PoliticalAff, 0, 0, 0)"
      ],
      "execution_count": 0,
      "outputs": []
    },
    {
      "cell_type": "code",
      "metadata": {
        "id": "rosJzHBa-osV",
        "colab_type": "code",
        "colab": {}
      },
      "source": [
        "def weighted_percentage(SensationalismF, politicalAffilitaionF, BiasedF, AuthenticityF):                       \n",
        "    SensationalismF_Weigth=.84\n",
        "    BiasedF_Weight=.53\n",
        "    politicalAffilitaionF_Weight=.65\n",
        "    AuthenticityF_Weight=.75    \n",
        "    total_weight=SensationalismF_Weigth+BiasedF_Weight+politicalAffilitaionF_Weight+AuthenticityF_Weight\n",
        "    return round((((SensationalismF*SensationalismF_Weigth)+\n",
        "            (politicalAffilitaionF*politicalAffilitaionF_Weight)+\n",
        "            (BiasedF*BiasedF_Weight)+\n",
        "            (AuthenticityF*AuthenticityF_Weight))/total_weight)*100,2)"
      ],
      "execution_count": 0,
      "outputs": []
    },
    {
      "cell_type": "code",
      "metadata": {
        "id": "nmespVOH-osb",
        "colab_type": "code",
        "colab": {
          "base_uri": "https://localhost:8080/",
          "height": 68
        },
        "outputId": "8d97ec07-2b97-4b74-d344-1bdab626dda3"
      },
      "source": [
        "print(weighted_percentage(1,1,1,1))\n",
        "print(weighted_percentage(0,0,0,0))\n",
        "print(weighted_percentage(.8,.6,1,.7))"
      ],
      "execution_count": 11,
      "outputs": [
        {
          "output_type": "stream",
          "text": [
            "100.0\n",
            "0.0\n",
            "76.43\n"
          ],
          "name": "stdout"
        }
      ]
    },
    {
      "cell_type": "markdown",
      "metadata": {
        "id": "LEXPCbGB-osh",
        "colab_type": "text"
      },
      "source": [
        "#### Check Fakeness of a news article"
      ]
    },
    {
      "cell_type": "code",
      "metadata": {
        "id": "tOpTx8zg-osi",
        "colab_type": "code",
        "colab": {
          "base_uri": "https://localhost:8080/",
          "height": 51
        },
        "outputId": "925f820a-5d09-48a6-d892-3071e8a6ae63"
      },
      "source": [
        "input_news='Obamacare will provide insurance to all non-U.S. residents, even if they are here illegally.A strong bipartisan majority in the House of Representatives voted to defund Obamacare.07732584351 - Rodger Burns - MSG = We tried to call you re your reply to our sms for a free nokia mobile + free camcorder. Please call now 08000930705 for delivery tomorrow.Amazon Enters eBook Subscription Market with Kindle Unlimited'\n",
        "fakecheck(input_news)"
      ],
      "execution_count": 14,
      "outputs": [
        {
          "output_type": "stream",
          "text": [
            "political_affilication_factor: 0.5218068535825545\n"
          ],
          "name": "stdout"
        },
        {
          "output_type": "execute_result",
          "data": {
            "text/plain": [
              "15.82"
            ]
          },
          "metadata": {
            "tags": []
          },
          "execution_count": 14
        }
      ]
    },
    {
      "cell_type": "code",
      "metadata": {
        "id": "N-99V5_N-os-",
        "colab_type": "code",
        "colab": {}
      },
      "source": [
        ""
      ],
      "execution_count": 0,
      "outputs": []
    }
  ]
}