{
  "nbformat": 4,
  "nbformat_minor": 0,
  "metadata": {
    "kernelspec": {
      "display_name": "Python 3",
      "language": "python",
      "name": "python3"
    },
    "language_info": {
      "codemirror_mode": {
        "name": "ipython",
        "version": 3
      },
      "file_extension": ".py",
      "mimetype": "text/x-python",
      "name": "python",
      "nbconvert_exporter": "python",
      "pygments_lexer": "ipython3",
      "version": "3.6.8"
    },
    "colab": {
      "name": "FakeDetection.ipynb",
      "provenance": [],
      "include_colab_link": true
    }
  },
  "cells": [
    {
      "cell_type": "markdown",
      "metadata": {
        "id": "view-in-github",
        "colab_type": "text"
      },
      "source": [
        "<a href=\"https://colab.research.google.com/github/jusimon/AlternusVera/blob/master/Common/FakeDetection.ipynb\" target=\"_parent\"><img src=\"https://colab.research.google.com/assets/colab-badge.svg\" alt=\"Open In Colab\"/></a>"
      ]
    },
    {
      "cell_type": "code",
      "metadata": {
        "id": "9mXULsnF-osA",
        "colab_type": "code",
        "colab": {}
      },
      "source": [
        "import warnings\n",
        "from google.colab import drive\n",
        "from pydrive.auth import GoogleAuth\n",
        "from pydrive.drive import GoogleDrive\n",
        "from google.colab import auth\n",
        "from oauth2client.client import GoogleCredentials\n",
        "# Authenticate and create the PyDrive client.\n",
        "auth.authenticate_user()"
      ],
      "execution_count": 0,
      "outputs": []
    },
    {
      "cell_type": "code",
      "metadata": {
        "id": "WO5SCEXZ-pOG",
        "colab_type": "code",
        "outputId": "46bc4f71-07ae-4c58-c541-f2ff667cfa3d",
        "colab": {
          "base_uri": "https://localhost:8080/",
          "height": 122
        }
      },
      "source": [
        "gauth = GoogleAuth()\n",
        "gauth.credentials = GoogleCredentials.get_application_default()\n",
        "googleDrive = GoogleDrive(gauth)\n",
        "drive.mount('/content/gdrive')"
      ],
      "execution_count": 2,
      "outputs": [
        {
          "output_type": "stream",
          "text": [
            "Go to this URL in a browser: https://accounts.google.com/o/oauth2/auth?client_id=947318989803-6bn6qk8qdgf4n4g3pfee6491hc0brc4i.apps.googleusercontent.com&redirect_uri=urn%3aietf%3awg%3aoauth%3a2.0%3aoob&response_type=code&scope=email%20https%3a%2f%2fwww.googleapis.com%2fauth%2fdocs.test%20https%3a%2f%2fwww.googleapis.com%2fauth%2fdrive%20https%3a%2f%2fwww.googleapis.com%2fauth%2fdrive.photos.readonly%20https%3a%2f%2fwww.googleapis.com%2fauth%2fpeopleapi.readonly\n",
            "\n",
            "Enter your authorization code:\n",
            "··········\n",
            "Mounted at /content/gdrive\n"
          ],
          "name": "stdout"
        }
      ]
    },
    {
      "cell_type": "code",
      "metadata": {
        "id": "Qd779pr8CWrs",
        "colab_type": "code",
        "colab": {}
      },
      "source": [
        "%%capture\n",
        "!wget https://raw.githubusercontent.com/jusimon/AlternusVera/master/Political_Affiliation.py\n",
        "!wget https://raw.githubusercontent.com/psaini79/AlternusVera/master/sensational.py\n",
        "!wget https://raw.githubusercontent.com/viswa0531/AlternusVera/master/Biased_Factor.py\n",
        "!wget https://raw.githubusercontent.com/RajiBabu/AlternusVera/master/Authenticity.py"
      ],
      "execution_count": 0,
      "outputs": []
    },
    {
      "cell_type": "code",
      "metadata": {
        "id": "J-3MatpaVu5M",
        "colab_type": "code",
        "outputId": "8c83e44d-2be3-4aef-e57a-4c33eaca0c2b",
        "colab": {
          "base_uri": "https://localhost:8080/",
          "height": 85
        }
      },
      "source": [
        "from Political_Affiliation import Political_Affiliation\n",
        "from sensational import sensational\n",
        "from Biased_Factor import BiasedDetection\n",
        "from Authenticity import Authenticity"
      ],
      "execution_count": 4,
      "outputs": [
        {
          "output_type": "stream",
          "text": [
            "[nltk_data] Downloading package punkt to /root/nltk_data...\n",
            "[nltk_data]   Unzipping tokenizers/punkt.zip.\n",
            "[nltk_data] Downloading package punkt to /root/nltk_data...\n",
            "[nltk_data]   Package punkt is already up-to-date!\n"
          ],
          "name": "stdout"
        }
      ]
    },
    {
      "cell_type": "markdown",
      "metadata": {
        "id": "wG9Pc7OZ-osM",
        "colab_type": "text"
      },
      "source": [
        "##### This function calculates fakeness percentage using the weighted_percentage function passing all factors fakeness score. It calls respective factors class to get the fakeness score of individual factor"
      ]
    },
    {
      "cell_type": "code",
      "metadata": {
        "id": "EYzZP9cB-osP",
        "colab_type": "code",
        "colab": {}
      },
      "source": [
        "from gensim.models.doc2vec import Doc2Vec\n",
        "def fakecheck(dataFrame):\n",
        "  biasedFactor = BiasedDetection(dataFrame).predict()\n",
        "  PoliticalAff = Political_Affiliation(dataFrame).predict()\n",
        "  AuthenticityFactor = Authenticity(dataFrame).predict()\n",
        "  Sensationalism = sensational(dataFrame).predict()\n",
        "\n",
        "  print('Sensationalism Factor         :',Sensationalism)    \n",
        "  print('biased Factor                 :',biasedFactor)   \n",
        "  print('political_affilication_factor :',PoliticalAff)\n",
        "  print('authenticity_factor           :',AuthenticityFactor)\n",
        "  return weighted_percentage(Sensationalism, PoliticalAff, biasedFactor, AuthenticityFactor)"
      ],
      "execution_count": 0,
      "outputs": []
    },
    {
      "cell_type": "code",
      "metadata": {
        "id": "rosJzHBa-osV",
        "colab_type": "code",
        "colab": {}
      },
      "source": [
        "def weighted_percentage(SensationalismF, politicalAffilitaionF, BiasedF, AuthenticityF):                       \n",
        "    SensationalismF_Weigth=.84\n",
        "    BiasedF_Weight=.53\n",
        "    politicalAffilitaionF_Weight=.65\n",
        "    AuthenticityF_Weight=.75    \n",
        "    total_weight=SensationalismF_Weigth+BiasedF_Weight+politicalAffilitaionF_Weight+AuthenticityF_Weight\n",
        "    return round((((SensationalismF*SensationalismF_Weigth)+\n",
        "            (politicalAffilitaionF*politicalAffilitaionF_Weight)+\n",
        "            (BiasedF*BiasedF_Weight)+\n",
        "            (AuthenticityF*AuthenticityF_Weight))/total_weight)*100,2)"
      ],
      "execution_count": 0,
      "outputs": []
    },
    {
      "cell_type": "markdown",
      "metadata": {
        "id": "LEXPCbGB-osh",
        "colab_type": "text"
      },
      "source": [
        "#### Check Fakeness of a news article"
      ]
    },
    {
      "cell_type": "code",
      "metadata": {
        "id": "tOpTx8zg-osi",
        "colab_type": "code",
        "outputId": "cc895e8b-ab07-4400-f9cc-dd4e35aeac31",
        "colab": {
          "base_uri": "https://localhost:8080/",
          "height": 102
        }
      },
      "source": [
        "warnings.filterwarnings(\"ignore\")\n",
        "input_news='Obamacare will provide insurance to all non-U.S. residents, even if they are here illegally.A strong bipartisan majority in the House of Representatives voted to defund Obamacare.07732584351 - Rodger Burns - MSG = We tried to call you re your reply to our sms for a free nokia mobile + free camcorder. Please call now 08000930705 for delivery tomorrow.Amazon Enters eBook Subscription Market with Kindle Unlimited'\n",
        "print(\"Fakeness of the news          :\", fakecheck(input_news))"
      ],
      "execution_count": 7,
      "outputs": [
        {
          "output_type": "stream",
          "text": [
            "Sensationalism Factor         : 0\n",
            "biased Factor                 : 1\n",
            "political_affilication_factor : 1\n",
            "authenticity_factor           : 1\n",
            "Fakeness of the new           : 69.68\n"
          ],
          "name": "stdout"
        }
      ]
    },
    {
      "cell_type": "code",
      "metadata": {
        "colab_type": "code",
        "outputId": "83933b3d-dfd7-4d27-c664-edeb7980869f",
        "id": "E_ZzeqEpIk3K",
        "colab": {
          "base_uri": "https://localhost:8080/",
          "height": 102
        }
      },
      "source": [
        "input_news='A strong bipartisan organization in the House of Representative is a must for any political ajenda to be successful - Mailer'\n",
        "print(\"Fakeness of the news          :\", fakecheck(input_news))"
      ],
      "execution_count": 8,
      "outputs": [
        {
          "output_type": "stream",
          "text": [
            "Sensationalism Factor         : 0\n",
            "biased Factor                 : 1\n",
            "political_affilication_factor : 0\n",
            "authenticity_factor           : 1\n",
            "Fakeness of the new           : 46.21\n"
          ],
          "name": "stdout"
        }
      ]
    },
    {
      "cell_type": "code",
      "metadata": {
        "id": "xGOi3_zEalEJ",
        "colab_type": "code",
        "outputId": "b734a112-ea39-4b83-ce95-b4c258efd60a",
        "colab": {
          "base_uri": "https://localhost:8080/",
          "height": 102
        }
      },
      "source": [
        "input_news='We would create thousands of jobs in Colorado, if the Keystone Pipeline were to be built.'\n",
        "print(\"Fakeness of the news          :\", fakecheck(input_news))"
      ],
      "execution_count": 9,
      "outputs": [
        {
          "output_type": "stream",
          "text": [
            "Sensationalism Factor         : 1\n",
            "biased Factor                 : 1\n",
            "political_affilication_factor : 1\n",
            "authenticity_factor           : 1\n",
            "Fakeness of the new           : 100.0\n"
          ],
          "name": "stdout"
        }
      ]
    }
  ]
}