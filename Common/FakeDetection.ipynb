{
  "nbformat": 4,
  "nbformat_minor": 0,
  "metadata": {
    "kernelspec": {
      "display_name": "Python 3",
      "language": "python",
      "name": "python3"
    },
    "language_info": {
      "codemirror_mode": {
        "name": "ipython",
        "version": 3
      },
      "file_extension": ".py",
      "mimetype": "text/x-python",
      "name": "python",
      "nbconvert_exporter": "python",
      "pygments_lexer": "ipython3",
      "version": "3.6.8"
    },
    "colab": {
      "name": "FakeDetection.ipynb",
      "provenance": []
    }
  },
  "cells": [
    {
      "cell_type": "code",
      "metadata": {
        "id": "9mXULsnF-osA",
        "colab_type": "code",
        "outputId": "d592b98d-04c3-4f2a-82cf-7890672667e2",
        "colab": {
          "base_uri": "https://localhost:8080/",
          "height": 34
        }
      },
      "source": [
        "import pandas as pd\n",
        "from google.colab import drive\n",
        "from pydrive.auth import GoogleAuth\n",
        "from pydrive.drive import GoogleDrive\n",
        "from google.colab import auth\n",
        "from oauth2client.client import GoogleCredentials\n",
        "# Authenticate and create the PyDrive client.\n",
        "auth.authenticate_user()\n",
        "gauth = GoogleAuth()\n",
        "gauth.credentials = GoogleCredentials.get_application_default()\n",
        "googleDrive = GoogleDrive(gauth)\n",
        "drive.mount('/content/gdrive')"
      ],
      "execution_count": 11,
      "outputs": [
        {
          "output_type": "stream",
          "text": [
            "Drive already mounted at /content/gdrive; to attempt to forcibly remount, call drive.mount(\"/content/gdrive\", force_remount=True).\n"
          ],
          "name": "stdout"
        }
      ]
    },
    {
      "cell_type": "code",
      "metadata": {
        "id": "eYMQN8zQg6eP",
        "colab_type": "code",
        "colab": {}
      },
      "source": [
        "Colnames = ['Json_Id', 'Label', 'Statement', 'Subject', 'SpeakerName',\n",
        "           'JobTitle', 'StateInfo', 'partyAffiliation',\n",
        "           'BarelyTrueCounts', 'FalseCounts','HalfTrueCounts',\n",
        "           'MostlyTrueCounts','PantsOnFireCounts','Context']\n",
        "\n",
        "valid_link = \"https://drive.google.com/open?id=1gaS9R-PQvER5DE1dAgh7z6v4u_euIvrO\"\n",
        "fluff, id3 = valid_link.split('=')\n",
        "valid_filename = 'valid.tsv'\n",
        "downloaded = googleDrive.CreateFile({'id':id3}) \n",
        "downloaded.GetContentFile(valid_filename)\n",
        "valid_news = pd.read_csv(valid_filename, sep='\\t', names = Colnames,error_bad_lines=False)"
      ],
      "execution_count": 0,
      "outputs": []
    },
    {
      "cell_type": "code",
      "metadata": {
        "id": "_21xYVEAJa5J",
        "colab_type": "code",
        "colab": {}
      },
      "source": [
        "Factors = [\n",
        "           {\n",
        "               \"name\" : \"Political_Affiliation\",\n",
        "               \"git\" : \"https://github.com/jusimon/AlternusVera\",\n",
        "               \"folder\" :\"AlternusVera\",\n",
        "               \"file\" : \"Political_Affiliation\",\n",
        "               \"model\" : \"/content/gdrive/My Drive/Drifters/Models/Politcal_Affiliation_Model.pkl\"\n",
        "               }   \n",
        "           ]"
      ],
      "execution_count": 0,
      "outputs": []
    },
    {
      "cell_type": "code",
      "metadata": {
        "id": "Qd779pr8CWrs",
        "colab_type": "code",
        "outputId": "9f06de8a-2a35-4f26-d334-b284566d6a31",
        "colab": {
          "base_uri": "https://localhost:8080/",
          "height": 136
        }
      },
      "source": [
        "!rm -rf AlternusVera\n",
        "!git clone https://github.com/jusimon/AlternusVera\n",
        "!cp AlternusVera/Political_Affiliation.py ./"
      ],
      "execution_count": 14,
      "outputs": [
        {
          "output_type": "stream",
          "text": [
            "Cloning into 'AlternusVera'...\n",
            "remote: Enumerating objects: 46, done.\u001b[K\n",
            "remote: Counting objects:   2% (1/46)\u001b[K\rremote: Counting objects:   4% (2/46)\u001b[K\rremote: Counting objects:   6% (3/46)\u001b[K\rremote: Counting objects:   8% (4/46)\u001b[K\rremote: Counting objects:  10% (5/46)\u001b[K\rremote: Counting objects:  13% (6/46)\u001b[K\rremote: Counting objects:  15% (7/46)\u001b[K\rremote: Counting objects:  17% (8/46)\u001b[K\rremote: Counting objects:  19% (9/46)\u001b[K\rremote: Counting objects:  21% (10/46)\u001b[K\rremote: Counting objects:  23% (11/46)\u001b[K\rremote: Counting objects:  26% (12/46)\u001b[K\rremote: Counting objects:  28% (13/46)\u001b[K\rremote: Counting objects:  30% (14/46)\u001b[K\rremote: Counting objects:  32% (15/46)\u001b[K\rremote: Counting objects:  34% (16/46)\u001b[K\rremote: Counting objects:  36% (17/46)\u001b[K\rremote: Counting objects:  39% (18/46)\u001b[K\rremote: Counting objects:  41% (19/46)\u001b[K\rremote: Counting objects:  43% (20/46)\u001b[K\rremote: Counting objects:  45% (21/46)\u001b[K\rremote: Counting objects:  47% (22/46)\u001b[K\rremote: Counting objects:  50% (23/46)\u001b[K\rremote: Counting objects:  52% (24/46)\u001b[K\rremote: Counting objects:  54% (25/46)\u001b[K\rremote: Counting objects:  56% (26/46)\u001b[K\rremote: Counting objects:  58% (27/46)\u001b[K\rremote: Counting objects:  60% (28/46)\u001b[K\rremote: Counting objects:  63% (29/46)\u001b[K\rremote: Counting objects:  65% (30/46)\u001b[K\rremote: Counting objects:  67% (31/46)\u001b[K\rremote: Counting objects:  69% (32/46)\u001b[K\rremote: Counting objects:  71% (33/46)\u001b[K\rremote: Counting objects:  73% (34/46)\u001b[K\rremote: Counting objects:  76% (35/46)\u001b[K\rremote: Counting objects:  78% (36/46)\u001b[K\rremote: Counting objects:  80% (37/46)\u001b[K\rremote: Counting objects:  82% (38/46)\u001b[K\rremote: Counting objects:  84% (39/46)\u001b[K\rremote: Counting objects:  86% (40/46)\u001b[K\rremote: Counting objects:  89% (41/46)\u001b[K\rremote: Counting objects:  91% (42/46)\u001b[K\rremote: Counting objects:  93% (43/46)\u001b[K\rremote: Counting objects:  95% (44/46)\u001b[K\rremote: Counting objects:  97% (45/46)\u001b[K\rremote: Counting objects: 100% (46/46)\u001b[K\rremote: Counting objects: 100% (46/46), done.\u001b[K\n",
            "remote: Compressing objects: 100% (37/37), done.\u001b[K\n",
            "remote: Total 125 (delta 22), reused 18 (delta 6), pack-reused 79\u001b[K\n",
            "Receiving objects: 100% (125/125), 34.59 MiB | 22.68 MiB/s, done.\n",
            "Resolving deltas: 100% (56/56), done.\n"
          ],
          "name": "stdout"
        }
      ]
    },
    {
      "cell_type": "code",
      "metadata": {
        "id": "XbtO2x1TgE73",
        "colab_type": "code",
        "colab": {
          "base_uri": "https://localhost:8080/",
          "height": 153
        },
        "outputId": "5b82a0cb-6035-46c9-dccd-6a872cff5911"
      },
      "source": [
        "!rm -rf AlternusVera\n",
        "!git clone https://github.com/psaini79/AlternusVera\n",
        "!cp AlternusVera/sensational.py ./"
      ],
      "execution_count": 15,
      "outputs": [
        {
          "output_type": "stream",
          "text": [
            "Cloning into 'AlternusVera'...\n",
            "remote: Enumerating objects: 26, done.\u001b[K\n",
            "remote: Counting objects:   3% (1/26)\u001b[K\rremote: Counting objects:   7% (2/26)\u001b[K\rremote: Counting objects:  11% (3/26)\u001b[K\rremote: Counting objects:  15% (4/26)\u001b[K\rremote: Counting objects:  19% (5/26)\u001b[K\rremote: Counting objects:  23% (6/26)\u001b[K\rremote: Counting objects:  26% (7/26)\u001b[K\rremote: Counting objects:  30% (8/26)\u001b[K\rremote: Counting objects:  34% (9/26)\u001b[K\rremote: Counting objects:  38% (10/26)\u001b[K\rremote: Counting objects:  42% (11/26)\u001b[K\rremote: Counting objects:  46% (12/26)\u001b[K\rremote: Counting objects:  50% (13/26)\u001b[K\rremote: Counting objects:  53% (14/26)\u001b[K\rremote: Counting objects:  57% (15/26)\u001b[K\rremote: Counting objects:  61% (16/26)\u001b[K\rremote: Counting objects:  65% (17/26)\u001b[K\rremote: Counting objects:  69% (18/26)\u001b[K\rremote: Counting objects:  73% (19/26)\u001b[K\rremote: Counting objects:  76% (20/26)\u001b[K\rremote: Counting objects:  80% (21/26)\u001b[K\rremote: Counting objects:  84% (22/26)\u001b[K\rremote: Counting objects:  88% (23/26)\u001b[K\rremote: Counting objects:  92% (24/26)\u001b[K\rremote: Counting objects:  96% (25/26)\u001b[K\rremote: Counting objects: 100% (26/26)\u001b[K\rremote: Counting objects: 100% (26/26), done.\u001b[K\n",
            "remote: Compressing objects: 100% (21/21), done.\u001b[K\n",
            "remote: Total 103 (delta 13), reused 12 (delta 4), pack-reused 77\u001b[K\n",
            "Receiving objects: 100% (103/103), 98.34 MiB | 30.61 MiB/s, done.\n",
            "Resolving deltas: 100% (38/38), done.\n",
            "Checking out files: 100% (11/11), done.\n"
          ],
          "name": "stdout"
        }
      ]
    },
    {
      "cell_type": "code",
      "metadata": {
        "id": "J-3MatpaVu5M",
        "colab_type": "code",
        "colab": {}
      },
      "source": [
        "from Political_Affiliation import Political_Affiliation\n",
        "from sensational import sensational"
      ],
      "execution_count": 0,
      "outputs": []
    },
    {
      "cell_type": "markdown",
      "metadata": {
        "id": "wG9Pc7OZ-osM",
        "colab_type": "text"
      },
      "source": [
        "##### This function calculates fakeness percentage using the weighted_percentage function passing all factors fakeness score. It calls respective factors class to get the fakeness score of individual factor"
      ]
    },
    {
      "cell_type": "code",
      "metadata": {
        "id": "EYzZP9cB-osP",
        "colab_type": "code",
        "colab": {}
      },
      "source": [
        "from gensim.models.doc2vec import Doc2Vec\n",
        "def fakecheck(dataFrame):\n",
        "  # biasedFactor = Biased_Factor(dataFrame).predict()\n",
        "  #print('calling political factor:') \n",
        " # PoliticalAff = Political_Affiliation(valid_news).predict()\n",
        "  #  Authenticity = Authenticity(dataFrame).predict()\n",
        "  print('calling sensationalism factor:') \n",
        " # Sensationalism = sensational(valid_news).predict()\n",
        "  #print('sensationalism_factor:',sensationalism)    \n",
        " # print('political_affilication_factor:',PoliticalAff)\n",
        "  #  print('spelling_error_factor:',spelling_error_factor)\n",
        "  #  print('spam_detection_factor:',spam_detection_factor)\n",
        "  #  print('stance_detection_factor:',stance_detection_factor)\n",
        "  return weighted_percentage(0,0, 0, 0)"
      ],
      "execution_count": 0,
      "outputs": []
    },
    {
      "cell_type": "code",
      "metadata": {
        "id": "rosJzHBa-osV",
        "colab_type": "code",
        "colab": {}
      },
      "source": [
        "def weighted_percentage(SensationalismF, politicalAffilitaionF, BiasedF, AuthenticityF):                       \n",
        "    SensationalismF_Weigth=.84\n",
        "    BiasedF_Weight=.53\n",
        "    politicalAffilitaionF_Weight=.65\n",
        "    AuthenticityF_Weight=.75    \n",
        "    total_weight=SensationalismF_Weigth+BiasedF_Weight+politicalAffilitaionF_Weight+AuthenticityF_Weight\n",
        "    return round((((SensationalismF*SensationalismF_Weigth)+\n",
        "            (politicalAffilitaionF*politicalAffilitaionF_Weight)+\n",
        "            (BiasedF*BiasedF_Weight)+\n",
        "            (AuthenticityF*AuthenticityF_Weight))/total_weight)*100,2)"
      ],
      "execution_count": 0,
      "outputs": []
    },
    {
      "cell_type": "code",
      "metadata": {
        "id": "nmespVOH-osb",
        "colab_type": "code",
        "outputId": "6c37fc15-5cab-4ec1-8029-135c89b9364b",
        "colab": {
          "base_uri": "https://localhost:8080/",
          "height": 68
        }
      },
      "source": [
        "print(weighted_percentage(1,1,1,1))\n",
        "print(weighted_percentage(0,0,0,0))\n",
        "print(weighted_percentage(.8,.6,1,.7))"
      ],
      "execution_count": 19,
      "outputs": [
        {
          "output_type": "stream",
          "text": [
            "100.0\n",
            "0.0\n",
            "76.43\n"
          ],
          "name": "stdout"
        }
      ]
    },
    {
      "cell_type": "markdown",
      "metadata": {
        "id": "LEXPCbGB-osh",
        "colab_type": "text"
      },
      "source": [
        "#### Check Fakeness of a news article"
      ]
    },
    {
      "cell_type": "code",
      "metadata": {
        "id": "tOpTx8zg-osi",
        "colab_type": "code",
        "outputId": "16cd4d64-f455-4dd5-d961-e3bfc7305277",
        "colab": {
          "base_uri": "https://localhost:8080/",
          "height": 336
        }
      },
      "source": [
        "input_news='Obamacare will provide insurance to all non-U.S. residents, even if they are here illegally.A strong bipartisan majority in the House of Representatives voted to defund Obamacare.07732584351 - Rodger Burns - MSG = We tried to call you re your reply to our sms for a free nokia mobile + free camcorder. Please call now 08000930705 for delivery tomorrow.Amazon Enters eBook Subscription Market with Kindle Unlimited'\n",
        "fakecheck(input_news)"
      ],
      "execution_count": 20,
      "outputs": [
        {
          "output_type": "stream",
          "text": [
            "calling sensationalism factor:\n"
          ],
          "name": "stdout"
        },
        {
          "output_type": "error",
          "ename": "NameError",
          "evalue": "ignored",
          "traceback": [
            "\u001b[0;31m---------------------------------------------------------------------------\u001b[0m",
            "\u001b[0;31mNameError\u001b[0m                                 Traceback (most recent call last)",
            "\u001b[0;32m<ipython-input-20-c8c7b281266b>\u001b[0m in \u001b[0;36m<module>\u001b[0;34m()\u001b[0m\n\u001b[1;32m      1\u001b[0m \u001b[0minput_news\u001b[0m\u001b[0;34m=\u001b[0m\u001b[0;34m'Obamacare will provide insurance to all non-U.S. residents, even if they are here illegally.A strong bipartisan majority in the House of Representatives voted to defund Obamacare.07732584351 - Rodger Burns - MSG = We tried to call you re your reply to our sms for a free nokia mobile + free camcorder. Please call now 08000930705 for delivery tomorrow.Amazon Enters eBook Subscription Market with Kindle Unlimited'\u001b[0m\u001b[0;34m\u001b[0m\u001b[0;34m\u001b[0m\u001b[0m\n\u001b[0;32m----> 2\u001b[0;31m \u001b[0mfakecheck\u001b[0m\u001b[0;34m(\u001b[0m\u001b[0minput_news\u001b[0m\u001b[0;34m)\u001b[0m\u001b[0;34m\u001b[0m\u001b[0;34m\u001b[0m\u001b[0m\n\u001b[0m",
            "\u001b[0;32m<ipython-input-17-8da020abf671>\u001b[0m in \u001b[0;36mfakecheck\u001b[0;34m(dataFrame)\u001b[0m\n\u001b[1;32m      7\u001b[0m   \u001b[0mprint\u001b[0m\u001b[0;34m(\u001b[0m\u001b[0;34m'calling sensationalism factor:'\u001b[0m\u001b[0;34m)\u001b[0m\u001b[0;34m\u001b[0m\u001b[0;34m\u001b[0m\u001b[0m\n\u001b[1;32m      8\u001b[0m  \u001b[0;31m# Sensationalism = sensational(valid_news).predict()\u001b[0m\u001b[0;34m\u001b[0m\u001b[0;34m\u001b[0m\u001b[0;34m\u001b[0m\u001b[0m\n\u001b[0;32m----> 9\u001b[0;31m   \u001b[0mprint\u001b[0m\u001b[0;34m(\u001b[0m\u001b[0;34m'sensationalism_factor:'\u001b[0m\u001b[0;34m,\u001b[0m\u001b[0msensationalism\u001b[0m\u001b[0;34m)\u001b[0m\u001b[0;34m\u001b[0m\u001b[0;34m\u001b[0m\u001b[0m\n\u001b[0m\u001b[1;32m     10\u001b[0m   \u001b[0mprint\u001b[0m\u001b[0;34m(\u001b[0m\u001b[0;34m'political_affilication_factor:'\u001b[0m\u001b[0;34m,\u001b[0m\u001b[0mPoliticalAff\u001b[0m\u001b[0;34m)\u001b[0m\u001b[0;34m\u001b[0m\u001b[0;34m\u001b[0m\u001b[0m\n\u001b[1;32m     11\u001b[0m   \u001b[0;31m#  print('spelling_error_factor:',spelling_error_factor)\u001b[0m\u001b[0;34m\u001b[0m\u001b[0;34m\u001b[0m\u001b[0;34m\u001b[0m\u001b[0m\n",
            "\u001b[0;31mNameError\u001b[0m: name 'sensationalism' is not defined"
          ]
        }
      ]
    }
  ]
}