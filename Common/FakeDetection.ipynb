{
  "nbformat": 4,
  "nbformat_minor": 0,
  "metadata": {
    "kernelspec": {
      "display_name": "Python 3",
      "language": "python",
      "name": "python3"
    },
    "language_info": {
      "codemirror_mode": {
        "name": "ipython",
        "version": 3
      },
      "file_extension": ".py",
      "mimetype": "text/x-python",
      "name": "python",
      "nbconvert_exporter": "python",
      "pygments_lexer": "ipython3",
      "version": "3.6.8"
    },
    "colab": {
      "name": "FakeDetection.ipynb",
      "provenance": [],
      "include_colab_link": true
    }
  },
  "cells": [
    {
      "cell_type": "markdown",
      "metadata": {
        "id": "view-in-github",
        "colab_type": "text"
      },
      "source": [
        "<a href=\"https://colab.research.google.com/github/jusimon/AlternusVera/blob/master/Common/FakeDetection.ipynb\" target=\"_parent\"><img src=\"https://colab.research.google.com/assets/colab-badge.svg\" alt=\"Open In Colab\"/></a>"
      ]
    },
    {
      "cell_type": "code",
      "metadata": {
        "id": "9mXULsnF-osA",
        "colab_type": "code",
        "outputId": "bc0d514e-e99e-4cc2-fb30-49e77cd8406e",
        "colab": {
          "base_uri": "https://localhost:8080/",
          "height": 122
        }
      },
      "source": [
        "from google.colab import drive\n",
        "from pydrive.auth import GoogleAuth\n",
        "from pydrive.drive import GoogleDrive\n",
        "from google.colab import auth\n",
        "from oauth2client.client import GoogleCredentials\n",
        "# Authenticate and create the PyDrive client.\n",
        "auth.authenticate_user()\n",
        "gauth = GoogleAuth()\n",
        "gauth.credentials = GoogleCredentials.get_application_default()\n",
        "googleDrive = GoogleDrive(gauth)\n",
        "drive.mount('/content/gdrive')\n"
      ],
      "execution_count": 1,
      "outputs": [
        {
          "output_type": "stream",
          "text": [
            "Go to this URL in a browser: https://accounts.google.com/o/oauth2/auth?client_id=947318989803-6bn6qk8qdgf4n4g3pfee6491hc0brc4i.apps.googleusercontent.com&redirect_uri=urn%3aietf%3awg%3aoauth%3a2.0%3aoob&response_type=code&scope=email%20https%3a%2f%2fwww.googleapis.com%2fauth%2fdocs.test%20https%3a%2f%2fwww.googleapis.com%2fauth%2fdrive%20https%3a%2f%2fwww.googleapis.com%2fauth%2fdrive.photos.readonly%20https%3a%2f%2fwww.googleapis.com%2fauth%2fpeopleapi.readonly\n",
            "\n",
            "Enter your authorization code:\n",
            "··········\n",
            "Mounted at /content/gdrive\n"
          ],
          "name": "stdout"
        }
      ]
    },
    {
      "cell_type": "code",
      "metadata": {
        "id": "Qd779pr8CWrs",
        "colab_type": "code",
        "outputId": "06a1a35b-57fe-4a99-f8ab-c1325fc7bd1e",
        "colab": {
          "base_uri": "https://localhost:8080/",
          "height": 136
        }
      },
      "source": [
        "!rm -rf AlternusVera\n",
        "!git clone https://github.com/jusimon/AlternusVera\n",
        "!cp AlternusVera/Political_Affiliation.py ./"
      ],
      "execution_count": 2,
      "outputs": [
        {
          "output_type": "stream",
          "text": [
            "Cloning into 'AlternusVera'...\n",
            "remote: Enumerating objects: 28, done.\u001b[K\n",
            "remote: Counting objects: 100% (28/28), done.\u001b[K\n",
            "remote: Compressing objects: 100% (21/21), done.\u001b[K\n",
            "remote: Total 157 (delta 12), reused 6 (delta 2), pack-reused 129\u001b[K\n",
            "Receiving objects: 100% (157/157), 34.17 MiB | 9.77 MiB/s, done.\n",
            "Resolving deltas: 100% (72/72), done.\n"
          ],
          "name": "stdout"
        }
      ]
    },
    {
      "cell_type": "code",
      "metadata": {
        "id": "XbtO2x1TgE73",
        "colab_type": "code",
        "outputId": "3c0619bd-64a7-4da1-ad63-64369b61fea0",
        "colab": {
          "base_uri": "https://localhost:8080/",
          "height": 153
        }
      },
      "source": [
        "!rm -rf AlternusVera\n",
        "!git clone https://github.com/psaini79/AlternusVera\n",
        "!cp AlternusVera/sensational.py ./"
      ],
      "execution_count": 3,
      "outputs": [
        {
          "output_type": "stream",
          "text": [
            "Cloning into 'AlternusVera'...\n",
            "remote: Enumerating objects: 39, done.\u001b[K\n",
            "remote: Counting objects: 100% (39/39), done.\u001b[K\n",
            "remote: Compressing objects: 100% (27/27), done.\u001b[K\n",
            "remote: Total 166 (delta 23), reused 25 (delta 12), pack-reused 127\u001b[K\n",
            "Receiving objects: 100% (166/166), 98.33 MiB | 12.15 MiB/s, done.\n",
            "Resolving deltas: 100% (79/79), done.\n",
            "Checking out files: 100% (12/12), done.\n"
          ],
          "name": "stdout"
        }
      ]
    },
    {
      "cell_type": "code",
      "metadata": {
        "id": "6IL34VxXCqOF",
        "colab_type": "code",
        "outputId": "2ee80ca0-85c1-4f2b-c942-707ccf1a596c",
        "colab": {
          "base_uri": "https://localhost:8080/",
          "height": 136
        }
      },
      "source": [
        "!rm -rf AlternusVera\n",
        "!git clone https://github.com/viswa0531/AlternusVera\n",
        "!cp AlternusVera/Biased_Factor.py ./"
      ],
      "execution_count": 4,
      "outputs": [
        {
          "output_type": "stream",
          "text": [
            "Cloning into 'AlternusVera'...\n",
            "remote: Enumerating objects: 6, done.\u001b[K\n",
            "remote: Counting objects: 100% (6/6), done.\u001b[K\n",
            "remote: Compressing objects: 100% (6/6), done.\u001b[K\n",
            "remote: Total 143 (delta 1), reused 0 (delta 0), pack-reused 137\u001b[K\n",
            "Receiving objects: 100% (143/143), 10.13 MiB | 6.08 MiB/s, done.\n",
            "Resolving deltas: 100% (69/69), done.\n"
          ],
          "name": "stdout"
        }
      ]
    },
    {
      "cell_type": "code",
      "metadata": {
        "id": "5gD5UTOIsRlf",
        "colab_type": "code",
        "colab": {
          "base_uri": "https://localhost:8080/",
          "height": 119
        },
        "outputId": "1c130ec3-1207-47fb-ddc0-d44e8e7aa9af"
      },
      "source": [
        "!rm -rf AlternusVera\n",
        "!git clone https://github.com/RajiBabu/AlternusVera\n",
        "!cp AlternusVera/Authenticity.py ./"
      ],
      "execution_count": 5,
      "outputs": [
        {
          "output_type": "stream",
          "text": [
            "Cloning into 'AlternusVera'...\n",
            "remote: Enumerating objects: 3, done.\u001b[K\n",
            "remote: Counting objects: 100% (3/3), done.\u001b[K\n",
            "remote: Compressing objects: 100% (3/3), done.\u001b[K\n",
            "remote: Total 91 (delta 0), reused 0 (delta 0), pack-reused 88\u001b[K\n",
            "Unpacking objects: 100% (91/91), done.\n"
          ],
          "name": "stdout"
        }
      ]
    },
    {
      "cell_type": "code",
      "metadata": {
        "id": "J-3MatpaVu5M",
        "colab_type": "code",
        "colab": {
          "base_uri": "https://localhost:8080/",
          "height": 85
        },
        "outputId": "e3079bc9-054d-4570-cb6d-ac8e01881f7a"
      },
      "source": [
        "from Political_Affiliation import Political_Affiliation\n",
        "from sensational import sensational\n",
        "from Biased_Factor import BiasedDetection\n",
        "from Authenticity import Authenticity"
      ],
      "execution_count": 6,
      "outputs": [
        {
          "output_type": "stream",
          "text": [
            "[nltk_data] Downloading package punkt to /root/nltk_data...\n",
            "[nltk_data]   Unzipping tokenizers/punkt.zip.\n",
            "[nltk_data] Downloading package punkt to /root/nltk_data...\n",
            "[nltk_data]   Package punkt is already up-to-date!\n"
          ],
          "name": "stdout"
        }
      ]
    },
    {
      "cell_type": "markdown",
      "metadata": {
        "id": "wG9Pc7OZ-osM",
        "colab_type": "text"
      },
      "source": [
        "##### This function calculates fakeness percentage using the weighted_percentage function passing all factors fakeness score. It calls respective factors class to get the fakeness score of individual factor"
      ]
    },
    {
      "cell_type": "code",
      "metadata": {
        "id": "EYzZP9cB-osP",
        "colab_type": "code",
        "colab": {}
      },
      "source": [
        "from gensim.models.doc2vec import Doc2Vec\n",
        "def fakecheck(dataFrame):\n",
        "  biasedFactor = BiasedDetection(dataFrame).predict()\n",
        "  PoliticalAff = Political_Affiliation(dataFrame).predict()\n",
        "  print('calling sensationalism factor:') \n",
        "  AuthenticityFactor = Authenticity(dataFrame).predict()\n",
        "  Sensationalism = sensational(dataFrame).predict()\n",
        "  print('Sensationalism Factor:',Sensationalism)    \n",
        "  print('biased Factor:',biasedFactor)   \n",
        "\n",
        "  print('political_affilication_factor:',PoliticalAff)\n",
        "  \n",
        "  print('authenticity_factor:',AuthenticityFactor)\n",
        "  #  print('spelling_error_factor:',spelling_error_factor)\n",
        "  #  print('spam_detection_factor:',spam_detection_factor)\n",
        "  #  print('stance_detection_factor:',stance_detection_factor)\n",
        "  return weighted_percentage(Sensationalism, PoliticalAff, biasedFactor, AuthenticityFactor)"
      ],
      "execution_count": 0,
      "outputs": []
    },
    {
      "cell_type": "code",
      "metadata": {
        "id": "rosJzHBa-osV",
        "colab_type": "code",
        "colab": {}
      },
      "source": [
        "def weighted_percentage(SensationalismF, politicalAffilitaionF, BiasedF, AuthenticityF):                       \n",
        "    SensationalismF_Weigth=.84\n",
        "    BiasedF_Weight=.53\n",
        "    politicalAffilitaionF_Weight=.65\n",
        "    AuthenticityF_Weight=.75    \n",
        "    total_weight=SensationalismF_Weigth+BiasedF_Weight+politicalAffilitaionF_Weight+AuthenticityF_Weight\n",
        "    print(\"Total Weight:\", total_weight)\n",
        "    return round((((SensationalismF*SensationalismF_Weigth)+\n",
        "            (politicalAffilitaionF*politicalAffilitaionF_Weight)+\n",
        "            (BiasedF*BiasedF_Weight)+\n",
        "            (AuthenticityF*AuthenticityF_Weight))/total_weight)*100,2)"
      ],
      "execution_count": 0,
      "outputs": []
    },
    {
      "cell_type": "markdown",
      "metadata": {
        "id": "LEXPCbGB-osh",
        "colab_type": "text"
      },
      "source": [
        "#### Check Fakeness of a news article"
      ]
    },
    {
      "cell_type": "code",
      "metadata": {
        "id": "tOpTx8zg-osi",
        "colab_type": "code",
        "outputId": "1e267982-75b4-4873-85e5-843c59004bf5",
        "colab": {
          "base_uri": "https://localhost:8080/",
          "height": 292
        }
      },
      "source": [
        "input_news='Obamacare will provide insurance to all non-U.S. residents, even if they are here illegally.A strong bipartisan majority in the House of Representatives voted to defund Obamacare.07732584351 - Rodger Burns - MSG = We tried to call you re your reply to our sms for a free nokia mobile + free camcorder. Please call now 08000930705 for delivery tomorrow.Amazon Enters eBook Subscription Market with Kindle Unlimited'\n",
        "fakecheck(input_news)"
      ],
      "execution_count": 9,
      "outputs": [
        {
          "output_type": "stream",
          "text": [
            "calling sensationalism factor:\n"
          ],
          "name": "stdout"
        },
        {
          "output_type": "stream",
          "text": [
            "/usr/local/lib/python3.6/dist-packages/smart_open/smart_open_lib.py:402: UserWarning: This function is deprecated, use smart_open.open instead. See the migration notes for details: https://github.com/RaRe-Technologies/smart_open/blob/master/README.rst#migrating-to-the-new-open-function\n",
            "  'See the migration notes for details: %s' % _MIGRATION_NOTES_URL\n",
            "/usr/local/lib/python3.6/dist-packages/gensim/matutils.py:737: FutureWarning: Conversion of the second argument of issubdtype from `int` to `np.signedinteger` is deprecated. In future, it will be treated as `np.int64 == np.dtype(int).type`.\n",
            "  if np.issubdtype(vec.dtype, np.int):\n",
            "/usr/local/lib/python3.6/dist-packages/smart_open/smart_open_lib.py:402: UserWarning: This function is deprecated, use smart_open.open instead. See the migration notes for details: https://github.com/RaRe-Technologies/smart_open/blob/master/README.rst#migrating-to-the-new-open-function\n",
            "  'See the migration notes for details: %s' % _MIGRATION_NOTES_URL\n",
            "/usr/local/lib/python3.6/dist-packages/gensim/matutils.py:737: FutureWarning: Conversion of the second argument of issubdtype from `int` to `np.signedinteger` is deprecated. In future, it will be treated as `np.int64 == np.dtype(int).type`.\n",
            "  if np.issubdtype(vec.dtype, np.int):\n"
          ],
          "name": "stderr"
        },
        {
          "output_type": "stream",
          "text": [
            "Sensationalism Factor: 0\n",
            "biased Factor: 0\n",
            "political_affilication_factor: 1\n",
            "authenticity_factor: 1\n",
            "Total Weight: 2.77\n"
          ],
          "name": "stdout"
        },
        {
          "output_type": "execute_result",
          "data": {
            "text/plain": [
              "50.54"
            ]
          },
          "metadata": {
            "tags": []
          },
          "execution_count": 9
        }
      ]
    },
    {
      "cell_type": "code",
      "metadata": {
        "colab_type": "code",
        "outputId": "5b94ba14-2cb7-4542-d464-aca056d1afa5",
        "id": "E_ZzeqEpIk3K",
        "colab": {
          "base_uri": "https://localhost:8080/",
          "height": 292
        }
      },
      "source": [
        "input_news='A strong bipartisan organization in the House of Representative is a must for any political ajenda to be successful - Mailer'\n",
        "fakecheck(input_news)"
      ],
      "execution_count": 15,
      "outputs": [
        {
          "output_type": "stream",
          "text": [
            "calling sensationalism factor:\n"
          ],
          "name": "stdout"
        },
        {
          "output_type": "stream",
          "text": [
            "/usr/local/lib/python3.6/dist-packages/smart_open/smart_open_lib.py:402: UserWarning: This function is deprecated, use smart_open.open instead. See the migration notes for details: https://github.com/RaRe-Technologies/smart_open/blob/master/README.rst#migrating-to-the-new-open-function\n",
            "  'See the migration notes for details: %s' % _MIGRATION_NOTES_URL\n",
            "/usr/local/lib/python3.6/dist-packages/gensim/matutils.py:737: FutureWarning: Conversion of the second argument of issubdtype from `int` to `np.signedinteger` is deprecated. In future, it will be treated as `np.int64 == np.dtype(int).type`.\n",
            "  if np.issubdtype(vec.dtype, np.int):\n",
            "/usr/local/lib/python3.6/dist-packages/smart_open/smart_open_lib.py:402: UserWarning: This function is deprecated, use smart_open.open instead. See the migration notes for details: https://github.com/RaRe-Technologies/smart_open/blob/master/README.rst#migrating-to-the-new-open-function\n",
            "  'See the migration notes for details: %s' % _MIGRATION_NOTES_URL\n"
          ],
          "name": "stderr"
        },
        {
          "output_type": "stream",
          "text": [
            "Sensationalism Factor: 0\n",
            "biased Factor: 0\n",
            "political_affilication_factor: 0\n",
            "authenticity_factor: 1\n",
            "Total Weight: 2.77\n"
          ],
          "name": "stdout"
        },
        {
          "output_type": "stream",
          "text": [
            "/usr/local/lib/python3.6/dist-packages/gensim/matutils.py:737: FutureWarning: Conversion of the second argument of issubdtype from `int` to `np.signedinteger` is deprecated. In future, it will be treated as `np.int64 == np.dtype(int).type`.\n",
            "  if np.issubdtype(vec.dtype, np.int):\n"
          ],
          "name": "stderr"
        },
        {
          "output_type": "execute_result",
          "data": {
            "text/plain": [
              "27.08"
            ]
          },
          "metadata": {
            "tags": []
          },
          "execution_count": 15
        }
      ]
    },
    {
      "cell_type": "code",
      "metadata": {
        "id": "lYTXExnx8VVv",
        "colab_type": "code",
        "colab": {}
      },
      "source": [
        ""
      ],
      "execution_count": 0,
      "outputs": []
    }
  ]
}