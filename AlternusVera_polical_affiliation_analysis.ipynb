{
  "nbformat": 4,
  "nbformat_minor": 0,
  "metadata": {
    "kernelspec": {
      "display_name": "Python 3",
      "language": "python",
      "name": "python3"
    },
    "language_info": {
      "codemirror_mode": {
        "name": "ipython",
        "version": 3
      },
      "file_extension": ".py",
      "mimetype": "text/x-python",
      "name": "python",
      "nbconvert_exporter": "python",
      "pygments_lexer": "ipython3",
      "version": "3.6.8"
    },
    "colab": {
      "name": "AlternusVera_polical_affiliation_analysis.ipynb",
      "provenance": []
    }
  },
  "cells": [
    {
      "cell_type": "markdown",
      "metadata": {
        "id": "jXTVQ-A9luDI",
        "colab_type": "text"
      },
      "source": [
        "#### Alternus Vera \n",
        "\n",
        "Course code : **CMPE-257** \n",
        "    \n",
        "Group name : **Drifters**\n",
        "    \n",
        "Name: **Julian S. Simon (013793273)** \n",
        "\n",
        "-----\n",
        "\n",
        "GitHub URL: \n",
        "\n",
        "\n",
        "### Liar Liar Pants on Fire Dataset Description \n",
        "- It has 3 files test, training and valid.\n",
        "- Each file has 14 columns\n",
        "    \n",
        "    Column 1: the ID of the statement ([ID].json).\n",
        "    \n",
        "    Column 2: the label.\n",
        "    \n",
        "    Column 3: the statement.\n",
        "    \n",
        "    Column 4: the subject(s).\n",
        "    \n",
        "    Column 5: the speaker.\n",
        "    \n",
        "    Column 6: the speaker's job title.\n",
        "    \n",
        "    Column 7: the state info.\n",
        "    \n",
        "    Column 8: the party affiliation.\n",
        "    \n",
        "    Column 9-13: the total credit history count, including the current statement.\n",
        "    \n",
        "    Column 14: the context (venue / location of the speech or statement).\n",
        "\n",
        "### Process of My Approach \n",
        "- Load the Data\n",
        "- Distillation Process\n",
        "    - Data Cleaning and Text Preprocessing\n",
        "    - Visualization\n",
        "    - Lemmatization\n",
        "    - Stemming\n",
        "    - Spell Check\n",
        "    - Dictionary check\n",
        "- **Feature 1 :** Political affiliation\n",
        "    - LDA Topic Modelling\n",
        "    - Doc2Vec \n",
        "    - TF-IDF\n",
        "    - LDA using TF-IDF\n",
        "    - Sentiment analysis \n",
        "- Rating \n",
        "- Vectorization\n",
        "- Merge all features and individual contributions\n",
        "- Form Polynomial Equation \n",
        "    \n",
        "\n",
        "### Feature Selection\n",
        "- **Polical Affiliation**\n",
        "- **Bias**\n",
        "- **Sensational Analysis**\n",
        "- **Credibility**\n",
        "\n",
        "\n",
        "### Team Contributions example:\n",
        "\n",
        "|Features  |  Member |\n",
        "|-----|-----|\n",
        "| Political Affiliation                  |  Julian S. Simon |  \n",
        "| Bias                                   |  ViswanathSingh Kambam | \n",
        "| Sensational Analysis                   |  Paramdeep Saini |   \n",
        "| Credibility                            |  Rajalakshmi Babu |\n",
        "\n",
        " \n",
        "#### Enrichment Dataset Details\n",
        "\n",
        "  - Sensational Words Dictionary\n",
        "  - PoliticalFact Fake news and Real News Content\n",
        "  - Spam Dictionary\n",
        "  - Kaggle Data (https://www.kaggle.com/mrisdal/fake-news)\n",
        "\n",
        "#### Libraries Used \n",
        "\n",
        "- NLTK \n",
        "- Gensim \n",
        "- Numpy\n",
        "- Pandas\n",
        "- CSV\n",
        "- WordCloud\n",
        "- Seaborn\n",
        "- Scipy\n",
        "- Regualr Expression\n",
        "- Matplotlib\n",
        "- Sklearn \n",
        "\n",
        "#### Political Affiliation\n",
        "Political affiliation is nothing but having official connection to a news by a party. Political affliation towards certain political parties, political leaders can influence fake news origin. An unbiased view on media reports requires an understanding of the political bias of media content. \n",
        "\n",
        "#### What did I try and What worked? \n",
        "\n",
        "To begin with we had to understand the dataset. So, I have divided the dataset into test and train. The dataset had number of columns and every column was interrelated with each other. So, I decided to visualize the dataset to understand it better. From the political affiliation column, the party with the highest number of news is arranged in the decending order to findout the party which has more news. The labels are plotted against the highest number of party so that it is easy to findout how each each parities can influence the fake new detection. TF-IDF, Word2Vec and Doc2Vec approach using the dictionary of words and its polarity for vectorization. Sentimental analysis is applied on the bag of words to find the positive negative and neutral analysis. This scores are mapped to the get the fake news detection. \n",
        "\n",
        "#### What did not work?\n",
        "\n",
        "Using political affiliation alone as a feature did not yield a great result. As explained about analysing with sentimental analysis gives the better result. The accuracy found by this model seems be at around 44% in average run of different algorithms such as Linear Regression, Random Forest and Naive Bayes. \n",
        "\n"
      ]
    },
    {
      "cell_type": "markdown",
      "metadata": {
        "id": "LMO81tmGluDL",
        "colab_type": "text"
      },
      "source": [
        "#### Read Data"
      ]
    },
    {
      "cell_type": "code",
      "metadata": {
        "id": "sZYW1LYhluDN",
        "colab_type": "code",
        "colab": {
          "base_uri": "https://localhost:8080/",
          "height": 34
        },
        "outputId": "12b00b5a-0ceb-4bbe-c379-06dace99fac2"
      },
      "source": [
        "# read data into a dataframe\n",
        "import pandas as pd\n",
        "import seaborn as sns; sns.set() \n",
        "from sklearn.cluster import KMeans\n",
        "import matplotlib.pyplot as plt\n",
        "from sklearn.metrics import classification_report,confusion_matrix\n",
        "from google.colab import drive\n",
        "from pydrive.auth import GoogleAuth\n",
        "from pydrive.drive import GoogleDrive\n",
        "from google.colab import auth\n",
        "from oauth2client.client import GoogleCredentials\n",
        "# Authenticate and create the PyDrive client.\n",
        "auth.authenticate_user()\n",
        "gauth = GoogleAuth()\n",
        "gauth.credentials = GoogleCredentials.get_application_default()\n",
        "googleDrive = GoogleDrive(gauth)\n",
        "drive.mount('/content/gdrive')\n",
        "\n",
        "#dfs_train=train_news\n",
        "#dfs=train_news\n",
        "pd.set_option('display.max_columns', 500)\n",
        "\n",
        "fileList = [\n",
        "            {'filename':'test.csv', 'link':'https://drive.google.com/open?id=1GNIaryVWkTYEv7aU7xCg0bzpNXKnYnSk'}, \n",
        "            {'filename':'train.csv','link':'https://drive.google.com/open?id=1kqCYbfVoHXE3qjjcZR6L0degFuQ0EJGc'},\n",
        "            {'filename':'valid.csv','link':'https://drive.google.com/open?id=1gq7xgR9pG7G22STzQV8WYgySGcRP2hks'}\n",
        "            ]"
      ],
      "execution_count": 1,
      "outputs": [
        {
          "output_type": "stream",
          "text": [
            "Drive already mounted at /content/gdrive; to attempt to forcibly remount, call drive.mount(\"/content/gdrive\", force_remount=True).\n"
          ],
          "name": "stdout"
        }
      ]
    },
    {
      "cell_type": "code",
      "metadata": {
        "id": "gspcDZXfLYI7",
        "colab_type": "code",
        "colab": {}
      },
      "source": [
        "def load_data(fileList):\n",
        "  dfs = {}\n",
        "  \n",
        "  colnames = ['jsonid', 'label', 'headline_text', 'subject', 'speaker', 'speakerjobtitle', 'stateinfo','partyaffiliation', 'barelytruecounts', 'falsecounts','halftruecounts','mostlytrueocunts','pantsonfirecounts','context']\n",
        "\n",
        "  for file in fileList:\n",
        "    name, id = file['filename'].split('.')\n",
        "    link, id = file['link'].split('=')\n",
        "   # print(name, id)\n",
        "    downloaded = googleDrive.CreateFile({'id':id}) \n",
        "    downloaded.GetContentFile(file['filename'])  \n",
        "    dfs[name] =  pd.read_csv(file['filename'], sep='\\t', names = colnames, error_bad_lines=False)\n",
        "   # print(df)\n",
        "  return dfs"
      ],
      "execution_count": 0,
      "outputs": []
    },
    {
      "cell_type": "code",
      "metadata": {
        "id": "Z0GX0o0oLbto",
        "colab_type": "code",
        "colab": {}
      },
      "source": [
        "ret_dfs = load_data(fileList)\n",
        "dfs_train = ret_dfs['train']\n",
        "dfs = dfs_train\n"
      ],
      "execution_count": 0,
      "outputs": []
    },
    {
      "cell_type": "markdown",
      "metadata": {
        "id": "Ie32eUJoluEF",
        "colab_type": "text"
      },
      "source": [
        "> Print all the columns for better understanding of the dataset"
      ]
    },
    {
      "cell_type": "code",
      "metadata": {
        "id": "zl6FFwV3luEG",
        "colab_type": "code",
        "outputId": "e10cdbba-cd0e-40de-e107-ea107a881755",
        "colab": {
          "base_uri": "https://localhost:8080/",
          "height": 289
        }
      },
      "source": [
        "print(\"Number of Rows and Columns::\", dfs.shape)\n",
        "print(dfs_train.loc[0])"
      ],
      "execution_count": 4,
      "outputs": [
        {
          "output_type": "stream",
          "text": [
            "Number of Rows and Columns:: (10240, 14)\n",
            "jsonid                                                       2635.json\n",
            "label                                                            false\n",
            "headline_text        Says the Annies List political group supports ...\n",
            "subject                                                       abortion\n",
            "speaker                                                   dwayne-bohac\n",
            "speakerjobtitle                                   State representative\n",
            "stateinfo                                                        Texas\n",
            "partyaffiliation                                            republican\n",
            "barelytruecounts                                                     0\n",
            "falsecounts                                                          1\n",
            "halftruecounts                                                       0\n",
            "mostlytrueocunts                                                     0\n",
            "pantsonfirecounts                                                    0\n",
            "context                                                       a mailer\n",
            "Name: 0, dtype: object\n"
          ],
          "name": "stdout"
        }
      ]
    },
    {
      "cell_type": "markdown",
      "metadata": {
        "id": "UXCsaOr_luES",
        "colab_type": "text"
      },
      "source": [
        "#### Cleaning and Preprocessing"
      ]
    },
    {
      "cell_type": "code",
      "metadata": {
        "id": "1PvVzJT4luET",
        "colab_type": "code",
        "colab": {}
      },
      "source": [
        "X_train=dfs[\"partyaffiliation\"]\n",
        "Y_train=dfs[\"label\"]"
      ],
      "execution_count": 0,
      "outputs": []
    },
    {
      "cell_type": "code",
      "metadata": {
        "id": "purf8zhZluEX",
        "colab_type": "code",
        "colab": {}
      },
      "source": [
        "CT = pd.crosstab(dfs_train['partyaffiliation'],dfs_train['label'],margins=True)"
      ],
      "execution_count": 0,
      "outputs": []
    },
    {
      "cell_type": "markdown",
      "metadata": {
        "id": "Vip5sYCIluEa",
        "colab_type": "text"
      },
      "source": [
        ">  Identify the labels for different party affiliations"
      ]
    },
    {
      "cell_type": "code",
      "metadata": {
        "id": "MZ2-mmdPluEb",
        "colab_type": "code",
        "outputId": "cb11749d-88eb-4e39-baed-8993af08cedd",
        "colab": {
          "base_uri": "https://localhost:8080/",
          "height": 824
        }
      },
      "source": [
        "CT.sort_values('All', ascending=False)"
      ],
      "execution_count": 7,
      "outputs": [
        {
          "output_type": "execute_result",
          "data": {
            "text/html": [
              "<div>\n",
              "<style scoped>\n",
              "    .dataframe tbody tr th:only-of-type {\n",
              "        vertical-align: middle;\n",
              "    }\n",
              "\n",
              "    .dataframe tbody tr th {\n",
              "        vertical-align: top;\n",
              "    }\n",
              "\n",
              "    .dataframe thead th {\n",
              "        text-align: right;\n",
              "    }\n",
              "</style>\n",
              "<table border=\"1\" class=\"dataframe\">\n",
              "  <thead>\n",
              "    <tr style=\"text-align: right;\">\n",
              "      <th>label</th>\n",
              "      <th>barely-true</th>\n",
              "      <th>false</th>\n",
              "      <th>half-true</th>\n",
              "      <th>mostly-true</th>\n",
              "      <th>pants-fire</th>\n",
              "      <th>true</th>\n",
              "      <th>All</th>\n",
              "    </tr>\n",
              "    <tr>\n",
              "      <th>partyaffiliation</th>\n",
              "      <th></th>\n",
              "      <th></th>\n",
              "      <th></th>\n",
              "      <th></th>\n",
              "      <th></th>\n",
              "      <th></th>\n",
              "      <th></th>\n",
              "    </tr>\n",
              "  </thead>\n",
              "  <tbody>\n",
              "    <tr>\n",
              "      <th>All</th>\n",
              "      <td>1654</td>\n",
              "      <td>1993</td>\n",
              "      <td>2114</td>\n",
              "      <td>1962</td>\n",
              "      <td>839</td>\n",
              "      <td>1676</td>\n",
              "      <td>10238</td>\n",
              "    </tr>\n",
              "    <tr>\n",
              "      <th>republican</th>\n",
              "      <td>832</td>\n",
              "      <td>1028</td>\n",
              "      <td>890</td>\n",
              "      <td>707</td>\n",
              "      <td>380</td>\n",
              "      <td>660</td>\n",
              "      <td>4497</td>\n",
              "    </tr>\n",
              "    <tr>\n",
              "      <th>democrat</th>\n",
              "      <td>463</td>\n",
              "      <td>511</td>\n",
              "      <td>750</td>\n",
              "      <td>801</td>\n",
              "      <td>153</td>\n",
              "      <td>658</td>\n",
              "      <td>3336</td>\n",
              "    </tr>\n",
              "    <tr>\n",
              "      <th>none</th>\n",
              "      <td>261</td>\n",
              "      <td>326</td>\n",
              "      <td>327</td>\n",
              "      <td>315</td>\n",
              "      <td>269</td>\n",
              "      <td>246</td>\n",
              "      <td>1744</td>\n",
              "    </tr>\n",
              "    <tr>\n",
              "      <th>organization</th>\n",
              "      <td>45</td>\n",
              "      <td>50</td>\n",
              "      <td>59</td>\n",
              "      <td>24</td>\n",
              "      <td>17</td>\n",
              "      <td>24</td>\n",
              "      <td>219</td>\n",
              "    </tr>\n",
              "    <tr>\n",
              "      <th>independent</th>\n",
              "      <td>19</td>\n",
              "      <td>18</td>\n",
              "      <td>27</td>\n",
              "      <td>51</td>\n",
              "      <td>3</td>\n",
              "      <td>29</td>\n",
              "      <td>147</td>\n",
              "    </tr>\n",
              "    <tr>\n",
              "      <th>newsmaker</th>\n",
              "      <td>7</td>\n",
              "      <td>9</td>\n",
              "      <td>11</td>\n",
              "      <td>11</td>\n",
              "      <td>3</td>\n",
              "      <td>15</td>\n",
              "      <td>56</td>\n",
              "    </tr>\n",
              "    <tr>\n",
              "      <th>libertarian</th>\n",
              "      <td>4</td>\n",
              "      <td>6</td>\n",
              "      <td>12</td>\n",
              "      <td>9</td>\n",
              "      <td>3</td>\n",
              "      <td>6</td>\n",
              "      <td>40</td>\n",
              "    </tr>\n",
              "    <tr>\n",
              "      <th>activist</th>\n",
              "      <td>7</td>\n",
              "      <td>7</td>\n",
              "      <td>9</td>\n",
              "      <td>11</td>\n",
              "      <td>0</td>\n",
              "      <td>5</td>\n",
              "      <td>39</td>\n",
              "    </tr>\n",
              "    <tr>\n",
              "      <th>journalist</th>\n",
              "      <td>5</td>\n",
              "      <td>10</td>\n",
              "      <td>6</td>\n",
              "      <td>11</td>\n",
              "      <td>1</td>\n",
              "      <td>5</td>\n",
              "      <td>38</td>\n",
              "    </tr>\n",
              "    <tr>\n",
              "      <th>columnist</th>\n",
              "      <td>5</td>\n",
              "      <td>10</td>\n",
              "      <td>3</td>\n",
              "      <td>5</td>\n",
              "      <td>1</td>\n",
              "      <td>11</td>\n",
              "      <td>35</td>\n",
              "    </tr>\n",
              "    <tr>\n",
              "      <th>talk-show-host</th>\n",
              "      <td>2</td>\n",
              "      <td>9</td>\n",
              "      <td>6</td>\n",
              "      <td>0</td>\n",
              "      <td>4</td>\n",
              "      <td>5</td>\n",
              "      <td>26</td>\n",
              "    </tr>\n",
              "    <tr>\n",
              "      <th>state-official</th>\n",
              "      <td>1</td>\n",
              "      <td>1</td>\n",
              "      <td>8</td>\n",
              "      <td>6</td>\n",
              "      <td>0</td>\n",
              "      <td>4</td>\n",
              "      <td>20</td>\n",
              "    </tr>\n",
              "    <tr>\n",
              "      <th>labor-leader</th>\n",
              "      <td>2</td>\n",
              "      <td>2</td>\n",
              "      <td>1</td>\n",
              "      <td>3</td>\n",
              "      <td>1</td>\n",
              "      <td>2</td>\n",
              "      <td>11</td>\n",
              "    </tr>\n",
              "    <tr>\n",
              "      <th>tea-party-member</th>\n",
              "      <td>0</td>\n",
              "      <td>2</td>\n",
              "      <td>4</td>\n",
              "      <td>3</td>\n",
              "      <td>1</td>\n",
              "      <td>0</td>\n",
              "      <td>10</td>\n",
              "    </tr>\n",
              "    <tr>\n",
              "      <th>business-leader</th>\n",
              "      <td>0</td>\n",
              "      <td>1</td>\n",
              "      <td>0</td>\n",
              "      <td>1</td>\n",
              "      <td>2</td>\n",
              "      <td>5</td>\n",
              "      <td>9</td>\n",
              "    </tr>\n",
              "    <tr>\n",
              "      <th>green</th>\n",
              "      <td>0</td>\n",
              "      <td>1</td>\n",
              "      <td>0</td>\n",
              "      <td>0</td>\n",
              "      <td>1</td>\n",
              "      <td>1</td>\n",
              "      <td>3</td>\n",
              "    </tr>\n",
              "    <tr>\n",
              "      <th>education-official</th>\n",
              "      <td>0</td>\n",
              "      <td>0</td>\n",
              "      <td>0</td>\n",
              "      <td>2</td>\n",
              "      <td>0</td>\n",
              "      <td>0</td>\n",
              "      <td>2</td>\n",
              "    </tr>\n",
              "    <tr>\n",
              "      <th>liberal-party-canada</th>\n",
              "      <td>0</td>\n",
              "      <td>0</td>\n",
              "      <td>0</td>\n",
              "      <td>1</td>\n",
              "      <td>0</td>\n",
              "      <td>0</td>\n",
              "      <td>1</td>\n",
              "    </tr>\n",
              "    <tr>\n",
              "      <th>government-body</th>\n",
              "      <td>0</td>\n",
              "      <td>0</td>\n",
              "      <td>0</td>\n",
              "      <td>1</td>\n",
              "      <td>0</td>\n",
              "      <td>0</td>\n",
              "      <td>1</td>\n",
              "    </tr>\n",
              "    <tr>\n",
              "      <th>ocean-state-tea-party-action</th>\n",
              "      <td>1</td>\n",
              "      <td>0</td>\n",
              "      <td>0</td>\n",
              "      <td>0</td>\n",
              "      <td>0</td>\n",
              "      <td>0</td>\n",
              "      <td>1</td>\n",
              "    </tr>\n",
              "    <tr>\n",
              "      <th>democratic-farmer-labor</th>\n",
              "      <td>0</td>\n",
              "      <td>0</td>\n",
              "      <td>1</td>\n",
              "      <td>0</td>\n",
              "      <td>0</td>\n",
              "      <td>0</td>\n",
              "      <td>1</td>\n",
              "    </tr>\n",
              "    <tr>\n",
              "      <th>constitution-party</th>\n",
              "      <td>0</td>\n",
              "      <td>1</td>\n",
              "      <td>0</td>\n",
              "      <td>0</td>\n",
              "      <td>0</td>\n",
              "      <td>0</td>\n",
              "      <td>1</td>\n",
              "    </tr>\n",
              "    <tr>\n",
              "      <th>Moderate</th>\n",
              "      <td>0</td>\n",
              "      <td>1</td>\n",
              "      <td>0</td>\n",
              "      <td>0</td>\n",
              "      <td>0</td>\n",
              "      <td>0</td>\n",
              "      <td>1</td>\n",
              "    </tr>\n",
              "  </tbody>\n",
              "</table>\n",
              "</div>"
            ],
            "text/plain": [
              "label                         barely-true  false  half-true  mostly-true  \\\n",
              "partyaffiliation                                                           \n",
              "All                                  1654   1993       2114         1962   \n",
              "republican                            832   1028        890          707   \n",
              "democrat                              463    511        750          801   \n",
              "none                                  261    326        327          315   \n",
              "organization                           45     50         59           24   \n",
              "independent                            19     18         27           51   \n",
              "newsmaker                               7      9         11           11   \n",
              "libertarian                             4      6         12            9   \n",
              "activist                                7      7          9           11   \n",
              "journalist                              5     10          6           11   \n",
              "columnist                               5     10          3            5   \n",
              "talk-show-host                          2      9          6            0   \n",
              "state-official                          1      1          8            6   \n",
              "labor-leader                            2      2          1            3   \n",
              "tea-party-member                        0      2          4            3   \n",
              "business-leader                         0      1          0            1   \n",
              "green                                   0      1          0            0   \n",
              "education-official                      0      0          0            2   \n",
              "liberal-party-canada                    0      0          0            1   \n",
              "government-body                         0      0          0            1   \n",
              "ocean-state-tea-party-action            1      0          0            0   \n",
              "democratic-farmer-labor                 0      0          1            0   \n",
              "constitution-party                      0      1          0            0   \n",
              "Moderate                                0      1          0            0   \n",
              "\n",
              "label                         pants-fire  true    All  \n",
              "partyaffiliation                                       \n",
              "All                                  839  1676  10238  \n",
              "republican                           380   660   4497  \n",
              "democrat                             153   658   3336  \n",
              "none                                 269   246   1744  \n",
              "organization                          17    24    219  \n",
              "independent                            3    29    147  \n",
              "newsmaker                              3    15     56  \n",
              "libertarian                            3     6     40  \n",
              "activist                               0     5     39  \n",
              "journalist                             1     5     38  \n",
              "columnist                              1    11     35  \n",
              "talk-show-host                         4     5     26  \n",
              "state-official                         0     4     20  \n",
              "labor-leader                           1     2     11  \n",
              "tea-party-member                       1     0     10  \n",
              "business-leader                        2     5      9  \n",
              "green                                  1     1      3  \n",
              "education-official                     0     0      2  \n",
              "liberal-party-canada                   0     0      1  \n",
              "government-body                        0     0      1  \n",
              "ocean-state-tea-party-action           0     0      1  \n",
              "democratic-farmer-labor                0     0      1  \n",
              "constitution-party                     0     0      1  \n",
              "Moderate                               0     0      1  "
            ]
          },
          "metadata": {
            "tags": []
          },
          "execution_count": 7
        }
      ]
    },
    {
      "cell_type": "markdown",
      "metadata": {
        "id": "G2zf5Ap1luEf",
        "colab_type": "text"
      },
      "source": [
        "> Find the total number of times each party was mentioned in the dataset. From this we can infer the that which parties are in the news and which are not."
      ]
    },
    {
      "cell_type": "code",
      "metadata": {
        "id": "l82EyImWluEg",
        "colab_type": "code",
        "outputId": "0796b48b-a09b-4099-97a9-e4f1aca38e65",
        "colab": {
          "base_uri": "https://localhost:8080/",
          "height": 417
        }
      },
      "source": [
        "import matplotlib.pyplot as plt\n",
        "fig, ax = plt.subplots()\n",
        "ax1 = dfs['partyaffiliation'].value_counts().sort_index(ascending=True).head(10264).plot(kind='bar', ax=ax, legend=True)"
      ],
      "execution_count": 8,
      "outputs": [
        {
          "output_type": "display_data",
          "data": {
            "image/png": "[encoded data removed]",
            "text/plain": [
              "<Figure size 432x288 with 1 Axes>"
            ]
          },
          "metadata": {
            "tags": []
          }
        }
      ]
    },
    {
      "cell_type": "markdown",
      "metadata": {
        "id": "KhQAmun3luEk",
        "colab_type": "text"
      },
      "source": [
        "> Visualize the value barely-true for the entire dataset"
      ]
    },
    {
      "cell_type": "code",
      "metadata": {
        "id": "ekexoUK0luEl",
        "colab_type": "code",
        "outputId": "55a10687-3c8b-44c0-b7ab-55714dfe7ca6",
        "colab": {
          "base_uri": "https://localhost:8080/",
          "height": 285
        }
      },
      "source": [
        "import seaborn as sns\n",
        "sns.countplot(x=\"barely-true\", data=CT,order=CT[\"barely-true\"].value_counts().iloc[:5].index)\n",
        "plt.show()"
      ],
      "execution_count": 9,
      "outputs": [
        {
          "output_type": "display_data",
          "data": {
            "image/png": "[encoded data removed]",
            "text/plain": [
              "<Figure size 432x288 with 1 Axes>"
            ]
          },
          "metadata": {
            "tags": []
          }
        }
      ]
    },
    {
      "cell_type": "markdown",
      "metadata": {
        "id": "EL_-ovHOluEp",
        "colab_type": "text"
      },
      "source": [
        "##### Read the Label \n",
        "> Print the values such as false, half-false, true, etc. for the party replublican. \n",
        "  From this we can visualize the true and false news about a particular party. "
      ]
    },
    {
      "cell_type": "code",
      "metadata": {
        "id": "q2-g7i-nluEq",
        "colab_type": "code",
        "outputId": "cf7a2b8c-11bd-4a7e-ae07-5605645b812c",
        "colab": {
          "base_uri": "https://localhost:8080/",
          "height": 153
        }
      },
      "source": [
        "import numpy as np\n",
        "mask = np.column_stack([dfs[col].str.contains(\"republican\") for col in ['partyaffiliation']])\n",
        "print (mask)\n",
        "unique, counts = np.unique(mask, return_counts=True)\n",
        "dict(zip(unique, counts))"
      ],
      "execution_count": 10,
      "outputs": [
        {
          "output_type": "stream",
          "text": [
            "[[True]\n",
            " [False]\n",
            " [False]\n",
            " ...\n",
            " [True]\n",
            " [False]\n",
            " [True]]\n"
          ],
          "name": "stdout"
        },
        {
          "output_type": "execute_result",
          "data": {
            "text/plain": [
              "{False: 136, nan: 1, True: 2818}"
            ]
          },
          "metadata": {
            "tags": []
          },
          "execution_count": 10
        }
      ]
    },
    {
      "cell_type": "code",
      "metadata": {
        "id": "I_pS2FWfluEu",
        "colab_type": "code",
        "colab": {}
      },
      "source": [
        "dfs['mask'] = mask"
      ],
      "execution_count": 0,
      "outputs": []
    },
    {
      "cell_type": "code",
      "metadata": {
        "id": "81tLi3AXluEz",
        "colab_type": "code",
        "outputId": "d1b3e002-27dd-4ffd-ae08-a6e0cdfd0a6d",
        "colab": {
          "base_uri": "https://localhost:8080/",
          "height": 322
        }
      },
      "source": [
        "import matplotlib.pyplot as plt\n",
        "fig, ax = plt.subplots()\n",
        "ax1 = dfs[dfs['mask']==True]['label'].value_counts().plot(kind='bar', ax=ax, legend=True)"
      ],
      "execution_count": 12,
      "outputs": [
        {
          "output_type": "display_data",
          "data": {
            "image/png": "[encoded data removed]",
            "text/plain": [
              "<Figure size 432x288 with 1 Axes>"
            ]
          },
          "metadata": {
            "tags": []
          }
        }
      ]
    },
    {
      "cell_type": "code",
      "metadata": {
        "id": "zG8_rrA9luE2",
        "colab_type": "code",
        "outputId": "5bca28f8-ac50-4562-95d0-ffa63b1ca044",
        "colab": {
          "base_uri": "https://localhost:8080/",
          "height": 153
        }
      },
      "source": [
        "import numpy as np\n",
        "mask = np.column_stack([dfs[col].str.contains(\"democrat\") for col in ['partyaffiliation']])\n",
        "print (mask)\n",
        "unique, counts = np.unique(mask, return_counts=True)\n",
        "dict(zip(unique, counts))"
      ],
      "execution_count": 13,
      "outputs": [
        {
          "output_type": "stream",
          "text": [
            "[[False]\n",
            " [True]\n",
            " [True]\n",
            " ...\n",
            " [False]\n",
            " [True]\n",
            " [False]]\n"
          ],
          "name": "stdout"
        },
        {
          "output_type": "execute_result",
          "data": {
            "text/plain": [
              "{False: 1972, nan: 1, True: 3337}"
            ]
          },
          "metadata": {
            "tags": []
          },
          "execution_count": 13
        }
      ]
    },
    {
      "cell_type": "code",
      "metadata": {
        "id": "QKo0DZx5luE6",
        "colab_type": "code",
        "colab": {}
      },
      "source": [
        "dfs['mask'] = mask"
      ],
      "execution_count": 0,
      "outputs": []
    },
    {
      "cell_type": "code",
      "metadata": {
        "id": "yzBnkm_VluE9",
        "colab_type": "code",
        "outputId": "a239e0ef-c764-4ef7-b715-88db5b3caba9",
        "colab": {
          "base_uri": "https://localhost:8080/",
          "height": 322
        }
      },
      "source": [
        "import matplotlib.pyplot as plt\n",
        "fig, ax = plt.subplots()\n",
        "ax1 = dfs[dfs['mask']==True]['label'].value_counts().plot(kind='bar', ax=ax, legend=True)"
      ],
      "execution_count": 15,
      "outputs": [
        {
          "output_type": "display_data",
          "data": {
            "image/png": "[encoded data removed]",
            "text/plain": [
              "<Figure size 432x288 with 1 Axes>"
            ]
          },
          "metadata": {
            "tags": []
          }
        }
      ]
    },
    {
      "cell_type": "markdown",
      "metadata": {
        "id": "udQg8o8lluFC",
        "colab_type": "text"
      },
      "source": [
        "##### Lemmatization"
      ]
    },
    {
      "cell_type": "code",
      "metadata": {
        "id": "sx9lZ3UbluFE",
        "colab_type": "code",
        "outputId": "6c69cd34-602c-43b8-bdb8-f684b8c50de3",
        "colab": {
          "base_uri": "https://localhost:8080/",
          "height": 136
        }
      },
      "source": [
        "import gensim\n",
        "from gensim.utils import simple_preprocess\n",
        "from gensim.parsing.preprocessing import STOPWORDS\n",
        "from nltk.stem import WordNetLemmatizer, SnowballStemmer\n",
        "from nltk.stem.porter import *\n",
        "import numpy as np\n",
        "np.random.seed(2018)\n",
        "import nltk\n",
        "nltk.download('wordnet')\n",
        "nltk.download('punkt')\n",
        "nltk.download('stopwords')"
      ],
      "execution_count": 16,
      "outputs": [
        {
          "output_type": "stream",
          "text": [
            "[nltk_data] Downloading package wordnet to /root/nltk_data...\n",
            "[nltk_data]   Package wordnet is already up-to-date!\n",
            "[nltk_data] Downloading package punkt to /root/nltk_data...\n",
            "[nltk_data]   Package punkt is already up-to-date!\n",
            "[nltk_data] Downloading package stopwords to /root/nltk_data...\n",
            "[nltk_data]   Package stopwords is already up-to-date!\n"
          ],
          "name": "stdout"
        },
        {
          "output_type": "execute_result",
          "data": {
            "text/plain": [
              "True"
            ]
          },
          "metadata": {
            "tags": []
          },
          "execution_count": 16
        }
      ]
    },
    {
      "cell_type": "code",
      "metadata": {
        "id": "gMc_0QBqluFH",
        "colab_type": "code",
        "outputId": "f0f1c542-4684-45fc-c849-fb283d917a38",
        "colab": {
          "base_uri": "https://localhost:8080/",
          "height": 34
        }
      },
      "source": [
        "WordNetLemmatizer().lemmatize('went', pos='v')"
      ],
      "execution_count": 17,
      "outputs": [
        {
          "output_type": "execute_result",
          "data": {
            "text/plain": [
              "'go'"
            ]
          },
          "metadata": {
            "tags": []
          },
          "execution_count": 17
        }
      ]
    },
    {
      "cell_type": "code",
      "metadata": {
        "id": "62i6JC3EluFL",
        "colab_type": "code",
        "outputId": "912498ed-c7a3-417b-beac-656a63aa5525",
        "colab": {
          "base_uri": "https://localhost:8080/",
          "height": 638
        }
      },
      "source": [
        "stemmer = SnowballStemmer('english')\n",
        "original_words = ['caresses', 'flies', 'dies', 'mules', 'denied','died', 'agreed', 'owned', \n",
        "           'humbled', 'sized','meeting', 'stating', 'siezing', 'itemization','sensational', \n",
        "           'traditional', 'reference', 'colonizer','plotted']\n",
        "singles = [stemmer.stem(plural) for plural in original_words]\n",
        "pd.DataFrame(data = {'original word': original_words, 'stemmed': singles})"
      ],
      "execution_count": 18,
      "outputs": [
        {
          "output_type": "execute_result",
          "data": {
            "text/html": [
              "<div>\n",
              "<style scoped>\n",
              "    .dataframe tbody tr th:only-of-type {\n",
              "        vertical-align: middle;\n",
              "    }\n",
              "\n",
              "    .dataframe tbody tr th {\n",
              "        vertical-align: top;\n",
              "    }\n",
              "\n",
              "    .dataframe thead th {\n",
              "        text-align: right;\n",
              "    }\n",
              "</style>\n",
              "<table border=\"1\" class=\"dataframe\">\n",
              "  <thead>\n",
              "    <tr style=\"text-align: right;\">\n",
              "      <th></th>\n",
              "      <th>original word</th>\n",
              "      <th>stemmed</th>\n",
              "    </tr>\n",
              "  </thead>\n",
              "  <tbody>\n",
              "    <tr>\n",
              "      <th>0</th>\n",
              "      <td>caresses</td>\n",
              "      <td>caress</td>\n",
              "    </tr>\n",
              "    <tr>\n",
              "      <th>1</th>\n",
              "      <td>flies</td>\n",
              "      <td>fli</td>\n",
              "    </tr>\n",
              "    <tr>\n",
              "      <th>2</th>\n",
              "      <td>dies</td>\n",
              "      <td>die</td>\n",
              "    </tr>\n",
              "    <tr>\n",
              "      <th>3</th>\n",
              "      <td>mules</td>\n",
              "      <td>mule</td>\n",
              "    </tr>\n",
              "    <tr>\n",
              "      <th>4</th>\n",
              "      <td>denied</td>\n",
              "      <td>deni</td>\n",
              "    </tr>\n",
              "    <tr>\n",
              "      <th>5</th>\n",
              "      <td>died</td>\n",
              "      <td>die</td>\n",
              "    </tr>\n",
              "    <tr>\n",
              "      <th>6</th>\n",
              "      <td>agreed</td>\n",
              "      <td>agre</td>\n",
              "    </tr>\n",
              "    <tr>\n",
              "      <th>7</th>\n",
              "      <td>owned</td>\n",
              "      <td>own</td>\n",
              "    </tr>\n",
              "    <tr>\n",
              "      <th>8</th>\n",
              "      <td>humbled</td>\n",
              "      <td>humbl</td>\n",
              "    </tr>\n",
              "    <tr>\n",
              "      <th>9</th>\n",
              "      <td>sized</td>\n",
              "      <td>size</td>\n",
              "    </tr>\n",
              "    <tr>\n",
              "      <th>10</th>\n",
              "      <td>meeting</td>\n",
              "      <td>meet</td>\n",
              "    </tr>\n",
              "    <tr>\n",
              "      <th>11</th>\n",
              "      <td>stating</td>\n",
              "      <td>state</td>\n",
              "    </tr>\n",
              "    <tr>\n",
              "      <th>12</th>\n",
              "      <td>siezing</td>\n",
              "      <td>siez</td>\n",
              "    </tr>\n",
              "    <tr>\n",
              "      <th>13</th>\n",
              "      <td>itemization</td>\n",
              "      <td>item</td>\n",
              "    </tr>\n",
              "    <tr>\n",
              "      <th>14</th>\n",
              "      <td>sensational</td>\n",
              "      <td>sensat</td>\n",
              "    </tr>\n",
              "    <tr>\n",
              "      <th>15</th>\n",
              "      <td>traditional</td>\n",
              "      <td>tradit</td>\n",
              "    </tr>\n",
              "    <tr>\n",
              "      <th>16</th>\n",
              "      <td>reference</td>\n",
              "      <td>refer</td>\n",
              "    </tr>\n",
              "    <tr>\n",
              "      <th>17</th>\n",
              "      <td>colonizer</td>\n",
              "      <td>colon</td>\n",
              "    </tr>\n",
              "    <tr>\n",
              "      <th>18</th>\n",
              "      <td>plotted</td>\n",
              "      <td>plot</td>\n",
              "    </tr>\n",
              "  </tbody>\n",
              "</table>\n",
              "</div>"
            ],
            "text/plain": [
              "   original word stemmed\n",
              "0       caresses  caress\n",
              "1          flies     fli\n",
              "2           dies     die\n",
              "3          mules    mule\n",
              "4         denied    deni\n",
              "5           died     die\n",
              "6         agreed    agre\n",
              "7          owned     own\n",
              "8        humbled   humbl\n",
              "9          sized    size\n",
              "10       meeting    meet\n",
              "11       stating   state\n",
              "12       siezing    siez\n",
              "13   itemization    item\n",
              "14   sensational  sensat\n",
              "15   traditional  tradit\n",
              "16     reference   refer\n",
              "17     colonizer   colon\n",
              "18       plotted    plot"
            ]
          },
          "metadata": {
            "tags": []
          },
          "execution_count": 18
        }
      ]
    },
    {
      "cell_type": "code",
      "metadata": {
        "id": "6N9uib0BluFP",
        "colab_type": "code",
        "colab": {}
      },
      "source": [
        "def lemmatize_stemming(text):\n",
        "        return stemmer.stem(WordNetLemmatizer().lemmatize(text, pos='v'))\n",
        "\n",
        "def preprocess(text):\n",
        "    result = []\n",
        "    sdds= gensim.utils.simple_preprocess(text)\n",
        "    for token in sdds:\n",
        "        if token not in gensim.parsing.preprocessing.STOPWORDS and len(token) > 3:\n",
        "            result.append(lemmatize_stemming(token))\n",
        "    return result"
      ],
      "execution_count": 0,
      "outputs": []
    },
    {
      "cell_type": "markdown",
      "metadata": {
        "id": "poBVqXRbluFS",
        "colab_type": "text"
      },
      "source": [
        "#### Validation"
      ]
    },
    {
      "cell_type": "code",
      "metadata": {
        "id": "F8D2gzg0luFT",
        "colab_type": "code",
        "outputId": "f6916574-9a67-460a-f28f-41e26d6af5dd",
        "colab": {
          "base_uri": "https://localhost:8080/",
          "height": 0
        }
      },
      "source": [
        "doc_sample = dfs_train[dfs_train['jsonid'] == '2635.json'][\"headline_text\"][0]\n",
        "\n",
        "print('original document: ')\n",
        "words = []\n",
        "for word in doc_sample.split(' '):\n",
        "    words.append(word)\n",
        "print(words)\n",
        "print('\\n\\n tokenized and lemmatized document: ')\n",
        "print(preprocess(doc_sample))"
      ],
      "execution_count": 20,
      "outputs": [
        {
          "output_type": "stream",
          "text": [
            "original document: \n",
            "['Says', 'the', 'Annies', 'List', 'political', 'group', 'supports', 'third-trimester', 'abortions', 'on', 'demand.']\n",
            "\n",
            "\n",
            " tokenized and lemmatized document: \n",
            "['say', 'anni', 'list', 'polit', 'group', 'support', 'trimest', 'abort', 'demand']\n"
          ],
          "name": "stdout"
        }
      ]
    },
    {
      "cell_type": "code",
      "metadata": {
        "id": "-8GIBsrtluFd",
        "colab_type": "code",
        "outputId": "970f80e3-9259-44a3-b709-ed7d47129e20",
        "colab": {
          "base_uri": "https://localhost:8080/",
          "height": 0
        }
      },
      "source": [
        "# do for all documents\n",
        "processed_docs = dfs_train['headline_text'].map(preprocess)\n",
        "processed_docs[:10]"
      ],
      "execution_count": 21,
      "outputs": [
        {
          "output_type": "execute_result",
          "data": {
            "text/plain": [
              "0    [say, anni, list, polit, group, support, trime...\n",
              "1    [declin, coal, start, start, natur, take, star...\n",
              "2    [hillari, clinton, agre, john, mccain, vote, g...\n",
              "3    [health, care, reform, legisl, like, mandat, f...\n",
              "4                    [econom, turnaround, start, term]\n",
              "5    [chicago, bear, start, quarterback, year, tota...\n",
              "6               [dunnam, live, district, repres, year]\n",
              "7    [person, stage, work, activ, year, pass, russ,...\n",
              "8    [take, million, oregon, lotteri, fund, port, n...\n",
              "9    [say, primari, oppon, glenn, grothman, leibham...\n",
              "Name: headline_text, dtype: object"
            ]
          },
          "metadata": {
            "tags": []
          },
          "execution_count": 21
        }
      ]
    },
    {
      "cell_type": "markdown",
      "metadata": {
        "id": "o6E9LglIluFh",
        "colab_type": "text"
      },
      "source": [
        "#### Doc2Vector with Dictionary"
      ]
    },
    {
      "cell_type": "code",
      "metadata": {
        "id": "Xu-1ET93luFi",
        "colab_type": "code",
        "outputId": "c360d2ce-ebd9-4abb-e27c-53be1638fda4",
        "colab": {
          "base_uri": "https://localhost:8080/",
          "height": 0
        }
      },
      "source": [
        "dictionary = gensim.corpora.Dictionary(processed_docs)\n",
        "count = 0\n",
        "for k, v in dictionary.iteritems():\n",
        "    print(k, v)\n",
        "    count += 1\n",
        "    if count > 10:\n",
        "        break"
      ],
      "execution_count": 22,
      "outputs": [
        {
          "output_type": "stream",
          "text": [
            "0 abort\n",
            "1 anni\n",
            "2 demand\n",
            "3 group\n",
            "4 list\n",
            "5 polit\n",
            "6 say\n",
            "7 support\n",
            "8 trimest\n",
            "9 administr\n",
            "10 begin\n"
          ],
          "name": "stdout"
        }
      ]
    },
    {
      "cell_type": "markdown",
      "metadata": {
        "id": "tREQagcIluFl",
        "colab_type": "text"
      },
      "source": [
        "#### Dedup the words and apply the doc2bow"
      ]
    },
    {
      "cell_type": "code",
      "metadata": {
        "id": "ZIFkxFLdluFn",
        "colab_type": "code",
        "outputId": "c254dc85-d086-49b5-9f83-9f9a36f5fc55",
        "colab": {
          "base_uri": "https://localhost:8080/",
          "height": 0
        }
      },
      "source": [
        "# remove all words that appear too many or too few times and restrict to 100000 words\n",
        "dictionary.filter_extremes(no_below=15, no_above=0.5, keep_n=100000)\n",
        "print(dictionary)"
      ],
      "execution_count": 23,
      "outputs": [
        {
          "output_type": "stream",
          "text": [
            "Dictionary(1072 unique tokens: ['abort', 'demand', 'group', 'list', 'polit']...)\n"
          ],
          "name": "stdout"
        }
      ]
    },
    {
      "cell_type": "code",
      "metadata": {
        "id": "B9Pk6bSIluFs",
        "colab_type": "code",
        "outputId": "179dc023-b179-42ef-f74c-bfaf6c5b1061",
        "colab": {
          "base_uri": "https://localhost:8080/",
          "height": 0
        }
      },
      "source": [
        "bow_corpus = [dictionary.doc2bow(doc) for doc in processed_docs]\n",
        "bow_corpus[10][0]"
      ],
      "execution_count": 24,
      "outputs": [
        {
          "output_type": "execute_result",
          "data": {
            "text/plain": [
              "(24, 2)"
            ]
          },
          "metadata": {
            "tags": []
          },
          "execution_count": 24
        }
      ]
    },
    {
      "cell_type": "code",
      "metadata": {
        "id": "c5OqTU17luFw",
        "colab_type": "code",
        "outputId": "278d7a96-ae44-4d71-bf8c-30a0c1d0d258",
        "colab": {
          "base_uri": "https://localhost:8080/",
          "height": 0
        }
      },
      "source": [
        "# corpus and frequency count for each document\n",
        "bow_doc_4310 = bow_corpus[4310]\n",
        "for i in range(len(bow_doc_4310)):\n",
        "    print(\"Word {} (\\\"{}\\\") appears {} time.\".format(bow_doc_4310[i][0], \n",
        "                                               dictionary[bow_doc_4310[i][0]], \n",
        "bow_doc_4310[i][1]))\n",
        "print(len(bow_corpus))"
      ],
      "execution_count": 25,
      "outputs": [
        {
          "output_type": "stream",
          "text": [
            "Word 7 (\"administr\") appears 1 time.\n",
            "Word 85 (\"economi\") appears 1 time.\n",
            "Word 127 (\"scott\") appears 1 time.\n",
            "Word 128 (\"walker\") appears 1 time.\n",
            "Word 182 (\"member\") appears 2 time.\n",
            "Word 254 (\"job\") appears 1 time.\n",
            "Word 277 (\"public\") appears 1 time.\n",
            "Word 323 (\"hear\") appears 1 time.\n",
            "Word 542 (\"charg\") appears 1 time.\n",
            "Word 792 (\"talk\") appears 1 time.\n",
            "Word 1023 (\"field\") appears 1 time.\n",
            "10240\n"
          ],
          "name": "stdout"
        }
      ]
    },
    {
      "cell_type": "code",
      "metadata": {
        "id": "nOKpss5VluFz",
        "colab_type": "code",
        "colab": {}
      },
      "source": [
        "from gensim import corpora, models\n",
        "\n",
        "tfidf = models.TfidfModel(bow_corpus)"
      ],
      "execution_count": 0,
      "outputs": []
    },
    {
      "cell_type": "code",
      "metadata": {
        "id": "eaLmS_ijluF2",
        "colab_type": "code",
        "colab": {}
      },
      "source": [
        "corpus_tfidf = tfidf[bow_corpus]"
      ],
      "execution_count": 0,
      "outputs": []
    },
    {
      "cell_type": "code",
      "metadata": {
        "id": "qt_2WxWIluF4",
        "colab_type": "code",
        "outputId": "7107e36a-796d-420a-9dcb-1265beb93b7b",
        "colab": {
          "base_uri": "https://localhost:8080/",
          "height": 0
        }
      },
      "source": [
        "from pprint import pprint\n",
        "\n",
        "for doc in corpus_tfidf:\n",
        "    pprint(doc)\n",
        "    break"
      ],
      "execution_count": 28,
      "outputs": [
        {
          "output_type": "stream",
          "text": [
            "[(0, 0.3397402827336795),\n",
            " (1, 0.5002880765433487),\n",
            " (2, 0.4088224168287155),\n",
            " (3, 0.4639566513984633),\n",
            " (4, 0.40750764496407926),\n",
            " (5, 0.10879086838115597),\n",
            " (6, 0.27202739591951525)]\n"
          ],
          "name": "stdout"
        }
      ]
    },
    {
      "cell_type": "markdown",
      "metadata": {
        "id": "hvRp_Ts1luF7",
        "colab_type": "text"
      },
      "source": [
        "#### Apply LDA"
      ]
    },
    {
      "cell_type": "code",
      "metadata": {
        "id": "8Z-QGk8ZluF9",
        "colab_type": "code",
        "colab": {}
      },
      "source": [
        "lda_model = gensim.models.LdaMulticore(bow_corpus, num_topics=10, id2word=dictionary, passes=2, workers=2)"
      ],
      "execution_count": 0,
      "outputs": []
    },
    {
      "cell_type": "code",
      "metadata": {
        "id": "42LKSgahluGA",
        "colab_type": "code",
        "outputId": "daf5b9d1-f115-427d-d608-44de402f5168",
        "colab": {
          "base_uri": "https://localhost:8080/",
          "height": 0
        }
      },
      "source": [
        "for idx, topic in lda_model.print_topics(-1):\n",
        "    print('Topic: {} \\nWords: {}'.format(idx, topic))"
      ],
      "execution_count": 30,
      "outputs": [
        {
          "output_type": "stream",
          "text": [
            "Topic: 0 \n",
            "Words: 0.058*\"say\" + 0.025*\"state\" + 0.018*\"vote\" + 0.016*\"texa\" + 0.015*\"american\" + 0.011*\"percent\" + 0.011*\"billion\" + 0.011*\"year\" + 0.010*\"million\" + 0.009*\"clinton\"\n",
            "Topic: 1 \n",
            "Words: 0.039*\"say\" + 0.015*\"vote\" + 0.015*\"american\" + 0.014*\"care\" + 0.012*\"state\" + 0.011*\"obamacar\" + 0.011*\"trump\" + 0.010*\"kill\" + 0.010*\"year\" + 0.009*\"republican\"\n",
            "Topic: 2 \n",
            "Words: 0.056*\"obama\" + 0.043*\"presid\" + 0.042*\"say\" + 0.034*\"barack\" + 0.019*\"year\" + 0.015*\"illeg\" + 0.014*\"time\" + 0.013*\"rate\" + 0.012*\"immigr\" + 0.010*\"support\"\n",
            "Topic: 3 \n",
            "Words: 0.043*\"say\" + 0.034*\"state\" + 0.034*\"health\" + 0.028*\"care\" + 0.014*\"plan\" + 0.013*\"want\" + 0.012*\"job\" + 0.012*\"romney\" + 0.010*\"year\" + 0.010*\"scott\"\n",
            "Topic: 4 \n",
            "Words: 0.051*\"percent\" + 0.027*\"say\" + 0.027*\"year\" + 0.018*\"state\" + 0.012*\"plan\" + 0.010*\"employe\" + 0.009*\"public\" + 0.008*\"averag\" + 0.008*\"privat\" + 0.007*\"secur\"\n",
            "Topic: 5 \n",
            "Words: 0.041*\"say\" + 0.023*\"school\" + 0.022*\"vote\" + 0.017*\"year\" + 0.016*\"democrat\" + 0.014*\"spend\" + 0.011*\"peopl\" + 0.011*\"obama\" + 0.011*\"million\" + 0.010*\"public\"\n",
            "Topic: 6 \n",
            "Words: 0.035*\"year\" + 0.032*\"tax\" + 0.028*\"percent\" + 0.022*\"say\" + 0.022*\"rais\" + 0.013*\"nation\" + 0.012*\"take\" + 0.012*\"state\" + 0.012*\"debt\" + 0.011*\"billion\"\n",
            "Topic: 7 \n",
            "Words: 0.026*\"say\" + 0.023*\"peopl\" + 0.020*\"percent\" + 0.018*\"american\" + 0.016*\"dont\" + 0.015*\"time\" + 0.014*\"spend\" + 0.012*\"year\" + 0.012*\"job\" + 0.010*\"obama\"\n",
            "Topic: 8 \n",
            "Words: 0.033*\"say\" + 0.020*\"state\" + 0.020*\"million\" + 0.014*\"job\" + 0.014*\"year\" + 0.013*\"creat\" + 0.010*\"peopl\" + 0.009*\"half\" + 0.009*\"wisconsin\" + 0.008*\"citi\"\n",
            "Topic: 9 \n",
            "Words: 0.037*\"state\" + 0.033*\"say\" + 0.017*\"unit\" + 0.016*\"percent\" + 0.014*\"govern\" + 0.013*\"vote\" + 0.011*\"cost\" + 0.011*\"feder\" + 0.010*\"colleg\" + 0.010*\"obama\"\n"
          ],
          "name": "stdout"
        }
      ]
    },
    {
      "cell_type": "markdown",
      "metadata": {
        "id": "OB-OC20TluGJ",
        "colab_type": "text"
      },
      "source": [
        "#### Apply TF-IDF"
      ]
    },
    {
      "cell_type": "code",
      "metadata": {
        "id": "lLI3xuHIluGK",
        "colab_type": "code",
        "colab": {}
      },
      "source": [
        "lda_model_tfidf = gensim.models.LdaMulticore(corpus_tfidf, num_topics=10, id2word=dictionary, passes=2, workers=4)"
      ],
      "execution_count": 0,
      "outputs": []
    },
    {
      "cell_type": "code",
      "metadata": {
        "id": "6yvdU6VtluGO",
        "colab_type": "code",
        "outputId": "33e63ad5-728b-4b1c-f641-a7873ab2fa6f",
        "colab": {
          "base_uri": "https://localhost:8080/",
          "height": 0
        }
      },
      "source": [
        "for idx, topic in lda_model_tfidf.print_topics(-1):\n",
        "    print('Topic: {} Word: {}'.format(idx, topic))"
      ],
      "execution_count": 32,
      "outputs": [
        {
          "output_type": "stream",
          "text": [
            "Topic: 0 Word: 0.014*\"say\" + 0.010*\"romney\" + 0.010*\"state\" + 0.009*\"mitt\" + 0.009*\"dollar\" + 0.008*\"year\" + 0.008*\"money\" + 0.008*\"trillion\" + 0.008*\"abort\" + 0.008*\"spend\"\n",
            "Topic: 1 Word: 0.015*\"say\" + 0.013*\"year\" + 0.011*\"percent\" + 0.009*\"obama\" + 0.009*\"state\" + 0.009*\"economi\" + 0.008*\"presid\" + 0.007*\"nation\" + 0.007*\"spend\" + 0.007*\"unemploy\"\n",
            "Topic: 2 Word: 0.013*\"job\" + 0.012*\"say\" + 0.011*\"vote\" + 0.009*\"percent\" + 0.008*\"year\" + 0.008*\"state\" + 0.007*\"creat\" + 0.007*\"govern\" + 0.007*\"offic\" + 0.006*\"american\"\n",
            "Topic: 3 Word: 0.012*\"state\" + 0.011*\"say\" + 0.011*\"billion\" + 0.011*\"fund\" + 0.011*\"spend\" + 0.010*\"million\" + 0.010*\"illeg\" + 0.010*\"percent\" + 0.009*\"immigr\" + 0.009*\"health\"\n",
            "Topic: 4 Word: 0.013*\"say\" + 0.009*\"state\" + 0.008*\"year\" + 0.008*\"school\" + 0.008*\"public\" + 0.007*\"percent\" + 0.007*\"island\" + 0.007*\"million\" + 0.007*\"obama\" + 0.007*\"rhode\"\n",
            "Topic: 5 Word: 0.019*\"obama\" + 0.015*\"presid\" + 0.013*\"say\" + 0.011*\"barack\" + 0.010*\"year\" + 0.010*\"tax\" + 0.010*\"billion\" + 0.010*\"state\" + 0.009*\"budget\" + 0.009*\"care\"\n",
            "Topic: 6 Word: 0.014*\"say\" + 0.013*\"texa\" + 0.012*\"percent\" + 0.012*\"state\" + 0.010*\"school\" + 0.010*\"year\" + 0.009*\"republican\" + 0.009*\"vote\" + 0.008*\"mccain\" + 0.007*\"worker\"\n",
            "Topic: 7 Word: 0.017*\"percent\" + 0.014*\"health\" + 0.013*\"care\" + 0.011*\"say\" + 0.011*\"state\" + 0.010*\"american\" + 0.009*\"vote\" + 0.008*\"presid\" + 0.008*\"year\" + 0.007*\"like\"\n",
            "Topic: 8 Word: 0.011*\"say\" + 0.009*\"percent\" + 0.008*\"republican\" + 0.008*\"reagan\" + 0.007*\"romney\" + 0.007*\"rais\" + 0.007*\"ronald\" + 0.007*\"support\" + 0.007*\"state\" + 0.006*\"dont\"\n",
            "Topic: 9 Word: 0.013*\"america\" + 0.012*\"say\" + 0.011*\"year\" + 0.011*\"highest\" + 0.010*\"tax\" + 0.009*\"million\" + 0.009*\"state\" + 0.008*\"peopl\" + 0.008*\"nation\" + 0.008*\"rate\"\n"
          ],
          "name": "stdout"
        }
      ]
    },
    {
      "cell_type": "code",
      "metadata": {
        "id": "x8MbyZ1GluGR",
        "colab_type": "code",
        "outputId": "d10ad405-624a-42ce-8015-5ce028b48357",
        "colab": {
          "base_uri": "https://localhost:8080/",
          "height": 0
        }
      },
      "source": [
        "for index, score in sorted(lda_model[bow_corpus[4310]], key=lambda tup: -1*tup[1]):\n",
        "    print(\"\\nScore: {}\\t \\nTopic: {}\".format(score, lda_model.print_topic(index, 10)))"
      ],
      "execution_count": 33,
      "outputs": [
        {
          "output_type": "stream",
          "text": [
            "\n",
            "Score: 0.7752928137779236\t \n",
            "Topic: 0.041*\"say\" + 0.023*\"school\" + 0.022*\"vote\" + 0.017*\"year\" + 0.016*\"democrat\" + 0.014*\"spend\" + 0.011*\"peopl\" + 0.011*\"obama\" + 0.011*\"million\" + 0.010*\"public\"\n",
            "\n",
            "Score: 0.16315273940563202\t \n",
            "Topic: 0.033*\"say\" + 0.020*\"state\" + 0.020*\"million\" + 0.014*\"job\" + 0.014*\"year\" + 0.013*\"creat\" + 0.010*\"peopl\" + 0.009*\"half\" + 0.009*\"wisconsin\" + 0.008*\"citi\"\n"
          ],
          "name": "stdout"
        }
      ]
    },
    {
      "cell_type": "code",
      "metadata": {
        "id": "0ZG61p-RluGV",
        "colab_type": "code",
        "outputId": "b3f7c95d-a636-4c28-889e-ca94bd111232",
        "colab": {
          "base_uri": "https://localhost:8080/",
          "height": 0
        }
      },
      "source": [
        "for index, score in sorted(lda_model_tfidf[bow_corpus[4310]], key=lambda tup: -1*tup[1]):\n",
        "    print(\"\\nScore: {}\\t \\nTopic: {}\".format(score, lda_model_tfidf.print_topic(index, 10)))"
      ],
      "execution_count": 34,
      "outputs": [
        {
          "output_type": "stream",
          "text": [
            "\n",
            "Score: 0.5504457950592041\t \n",
            "Topic: 0.014*\"say\" + 0.013*\"texa\" + 0.012*\"percent\" + 0.012*\"state\" + 0.010*\"school\" + 0.010*\"year\" + 0.009*\"republican\" + 0.009*\"vote\" + 0.008*\"mccain\" + 0.007*\"worker\"\n",
            "\n",
            "Score: 0.38800138235092163\t \n",
            "Topic: 0.015*\"say\" + 0.013*\"year\" + 0.011*\"percent\" + 0.009*\"obama\" + 0.009*\"state\" + 0.009*\"economi\" + 0.008*\"presid\" + 0.007*\"nation\" + 0.007*\"spend\" + 0.007*\"unemploy\"\n"
          ],
          "name": "stdout"
        }
      ]
    },
    {
      "cell_type": "markdown",
      "metadata": {
        "id": "4qaV4Mn2luGc",
        "colab_type": "text"
      },
      "source": [
        "#### Classifying sample documents using LDA bag of words model."
      ]
    },
    {
      "cell_type": "code",
      "metadata": {
        "id": "t02hR8ijluGd",
        "colab_type": "code",
        "outputId": "461b6a38-5ed1-4e97-c95b-630763f5bf2a",
        "colab": {
          "base_uri": "https://localhost:8080/",
          "height": 51
        }
      },
      "source": [
        "unseen_document = 'Obama immigration plan to bring undocumented did not help with the mainstream politics as Legal immigrants are still struggling to get their green card.'\n",
        "bow_vector = dictionary.doc2bow(preprocess(unseen_document))\n",
        "for index, score in sorted(lda_model[bow_vector], key=lambda tup: -1*tup[1]):\n",
        "    print(\"Score: {}\\t Topic: {}\".format(score, lda_model.print_topic(index, 5)))"
      ],
      "execution_count": 35,
      "outputs": [
        {
          "output_type": "stream",
          "text": [
            "Score: 0.46712446212768555\t Topic: 0.033*\"say\" + 0.020*\"state\" + 0.020*\"million\" + 0.014*\"job\" + 0.014*\"year\"\n",
            "Score: 0.4661940038204193\t Topic: 0.041*\"say\" + 0.023*\"school\" + 0.022*\"vote\" + 0.017*\"year\" + 0.016*\"democrat\"\n"
          ],
          "name": "stdout"
        }
      ]
    },
    {
      "cell_type": "code",
      "metadata": {
        "id": "L5xxRFpDluGn",
        "colab_type": "code",
        "outputId": "5524616e-5955-416d-db26-5cef3f8500df",
        "colab": {
          "base_uri": "https://localhost:8080/",
          "height": 843
        }
      },
      "source": [
        "dfTwoCols= dfs_train[['label','subject']]\n",
        "dfTwoCols.groupby(\"label\").count().plot(kind='bar')\n",
        "dfTwoCols['verdict'] = dfTwoCols['label'].map({False: 0, True: 1, 'barely-true':0, 'half-true':1,'mostly-true':1,'pants-fire':0})\n",
        "dfTwoCols"
      ],
      "execution_count": 36,
      "outputs": [
        {
          "output_type": "stream",
          "text": [
            "/usr/local/lib/python3.6/dist-packages/ipykernel_launcher.py:3: SettingWithCopyWarning: \n",
            "A value is trying to be set on a copy of a slice from a DataFrame.\n",
            "Try using .loc[row_indexer,col_indexer] = value instead\n",
            "\n",
            "See the caveats in the documentation: http://pandas.pydata.org/pandas-docs/stable/user_guide/indexing.html#returning-a-view-versus-a-copy\n",
            "  This is separate from the ipykernel package so we can avoid doing imports until\n"
          ],
          "name": "stderr"
        },
        {
          "output_type": "execute_result",
          "data": {
            "text/html": [
              "<div>\n",
              "<style scoped>\n",
              "    .dataframe tbody tr th:only-of-type {\n",
              "        vertical-align: middle;\n",
              "    }\n",
              "\n",
              "    .dataframe tbody tr th {\n",
              "        vertical-align: top;\n",
              "    }\n",
              "\n",
              "    .dataframe thead th {\n",
              "        text-align: right;\n",
              "    }\n",
              "</style>\n",
              "<table border=\"1\" class=\"dataframe\">\n",
              "  <thead>\n",
              "    <tr style=\"text-align: right;\">\n",
              "      <th></th>\n",
              "      <th>label</th>\n",
              "      <th>subject</th>\n",
              "      <th>verdict</th>\n",
              "    </tr>\n",
              "  </thead>\n",
              "  <tbody>\n",
              "    <tr>\n",
              "      <th>0</th>\n",
              "      <td>false</td>\n",
              "      <td>abortion</td>\n",
              "      <td>NaN</td>\n",
              "    </tr>\n",
              "    <tr>\n",
              "      <th>1</th>\n",
              "      <td>half-true</td>\n",
              "      <td>energy,history,job-accomplishments</td>\n",
              "      <td>1.0</td>\n",
              "    </tr>\n",
              "    <tr>\n",
              "      <th>2</th>\n",
              "      <td>mostly-true</td>\n",
              "      <td>foreign-policy</td>\n",
              "      <td>1.0</td>\n",
              "    </tr>\n",
              "    <tr>\n",
              "      <th>3</th>\n",
              "      <td>false</td>\n",
              "      <td>health-care</td>\n",
              "      <td>NaN</td>\n",
              "    </tr>\n",
              "    <tr>\n",
              "      <th>4</th>\n",
              "      <td>half-true</td>\n",
              "      <td>economy,jobs</td>\n",
              "      <td>1.0</td>\n",
              "    </tr>\n",
              "    <tr>\n",
              "      <th>...</th>\n",
              "      <td>...</td>\n",
              "      <td>...</td>\n",
              "      <td>...</td>\n",
              "    </tr>\n",
              "    <tr>\n",
              "      <th>10235</th>\n",
              "      <td>mostly-true</td>\n",
              "      <td>animals,elections</td>\n",
              "      <td>1.0</td>\n",
              "    </tr>\n",
              "    <tr>\n",
              "      <th>10236</th>\n",
              "      <td>mostly-true</td>\n",
              "      <td>elections</td>\n",
              "      <td>1.0</td>\n",
              "    </tr>\n",
              "    <tr>\n",
              "      <th>10237</th>\n",
              "      <td>half-true</td>\n",
              "      <td>retirement,social-security</td>\n",
              "      <td>1.0</td>\n",
              "    </tr>\n",
              "    <tr>\n",
              "      <th>10238</th>\n",
              "      <td>false</td>\n",
              "      <td>florida,foreign-policy</td>\n",
              "      <td>NaN</td>\n",
              "    </tr>\n",
              "    <tr>\n",
              "      <th>10239</th>\n",
              "      <td>pants-fire</td>\n",
              "      <td>health-care,veterans</td>\n",
              "      <td>0.0</td>\n",
              "    </tr>\n",
              "  </tbody>\n",
              "</table>\n",
              "<p>10240 rows × 3 columns</p>\n",
              "</div>"
            ],
            "text/plain": [
              "             label                             subject  verdict\n",
              "0            false                            abortion      NaN\n",
              "1        half-true  energy,history,job-accomplishments      1.0\n",
              "2      mostly-true                      foreign-policy      1.0\n",
              "3            false                         health-care      NaN\n",
              "4        half-true                        economy,jobs      1.0\n",
              "...            ...                                 ...      ...\n",
              "10235  mostly-true                   animals,elections      1.0\n",
              "10236  mostly-true                           elections      1.0\n",
              "10237    half-true          retirement,social-security      1.0\n",
              "10238        false              florida,foreign-policy      NaN\n",
              "10239   pants-fire                health-care,veterans      0.0\n",
              "\n",
              "[10240 rows x 3 columns]"
            ]
          },
          "metadata": {
            "tags": []
          },
          "execution_count": 36
        },
        {
          "output_type": "display_data",
          "data": {
            "image/png": "[encoded data removed]",
            "text/plain": [
              "<Figure size 432x288 with 1 Axes>"
            ]
          },
          "metadata": {
            "tags": []
          }
        }
      ]
    },
    {
      "cell_type": "code",
      "metadata": {
        "id": "2Ih8Gg0hluGq",
        "colab_type": "code",
        "outputId": "faa7e1fc-ec89-4497-b8b9-1ac6d012685b",
        "colab": {
          "base_uri": "https://localhost:8080/",
          "height": 881
        }
      },
      "source": [
        "dfs_train_sensa= dfs_train\n",
        "dfs_train_sensa['verdict']=dfTwoCols['verdict']\n",
        "dfs_train_sensa"
      ],
      "execution_count": 37,
      "outputs": [
        {
          "output_type": "execute_result",
          "data": {
            "text/html": [
              "<div>\n",
              "<style scoped>\n",
              "    .dataframe tbody tr th:only-of-type {\n",
              "        vertical-align: middle;\n",
              "    }\n",
              "\n",
              "    .dataframe tbody tr th {\n",
              "        vertical-align: top;\n",
              "    }\n",
              "\n",
              "    .dataframe thead th {\n",
              "        text-align: right;\n",
              "    }\n",
              "</style>\n",
              "<table border=\"1\" class=\"dataframe\">\n",
              "  <thead>\n",
              "    <tr style=\"text-align: right;\">\n",
              "      <th></th>\n",
              "      <th>jsonid</th>\n",
              "      <th>label</th>\n",
              "      <th>headline_text</th>\n",
              "      <th>subject</th>\n",
              "      <th>speaker</th>\n",
              "      <th>speakerjobtitle</th>\n",
              "      <th>stateinfo</th>\n",
              "      <th>partyaffiliation</th>\n",
              "      <th>barelytruecounts</th>\n",
              "      <th>falsecounts</th>\n",
              "      <th>halftruecounts</th>\n",
              "      <th>mostlytrueocunts</th>\n",
              "      <th>pantsonfirecounts</th>\n",
              "      <th>context</th>\n",
              "      <th>mask</th>\n",
              "      <th>verdict</th>\n",
              "    </tr>\n",
              "  </thead>\n",
              "  <tbody>\n",
              "    <tr>\n",
              "      <th>0</th>\n",
              "      <td>2635.json</td>\n",
              "      <td>false</td>\n",
              "      <td>Says the Annies List political group supports ...</td>\n",
              "      <td>abortion</td>\n",
              "      <td>dwayne-bohac</td>\n",
              "      <td>State representative</td>\n",
              "      <td>Texas</td>\n",
              "      <td>republican</td>\n",
              "      <td>0.0</td>\n",
              "      <td>1.0</td>\n",
              "      <td>0.0</td>\n",
              "      <td>0.0</td>\n",
              "      <td>0.0</td>\n",
              "      <td>a mailer</td>\n",
              "      <td>False</td>\n",
              "      <td>NaN</td>\n",
              "    </tr>\n",
              "    <tr>\n",
              "      <th>1</th>\n",
              "      <td>10540.json</td>\n",
              "      <td>half-true</td>\n",
              "      <td>When did the decline of coal start? It started...</td>\n",
              "      <td>energy,history,job-accomplishments</td>\n",
              "      <td>scott-surovell</td>\n",
              "      <td>State delegate</td>\n",
              "      <td>Virginia</td>\n",
              "      <td>democrat</td>\n",
              "      <td>0.0</td>\n",
              "      <td>0.0</td>\n",
              "      <td>1.0</td>\n",
              "      <td>1.0</td>\n",
              "      <td>0.0</td>\n",
              "      <td>a floor speech.</td>\n",
              "      <td>True</td>\n",
              "      <td>1.0</td>\n",
              "    </tr>\n",
              "    <tr>\n",
              "      <th>2</th>\n",
              "      <td>324.json</td>\n",
              "      <td>mostly-true</td>\n",
              "      <td>Hillary Clinton agrees with John McCain \"by vo...</td>\n",
              "      <td>foreign-policy</td>\n",
              "      <td>barack-obama</td>\n",
              "      <td>President</td>\n",
              "      <td>Illinois</td>\n",
              "      <td>democrat</td>\n",
              "      <td>70.0</td>\n",
              "      <td>71.0</td>\n",
              "      <td>160.0</td>\n",
              "      <td>163.0</td>\n",
              "      <td>9.0</td>\n",
              "      <td>Denver</td>\n",
              "      <td>True</td>\n",
              "      <td>1.0</td>\n",
              "    </tr>\n",
              "    <tr>\n",
              "      <th>3</th>\n",
              "      <td>1123.json</td>\n",
              "      <td>false</td>\n",
              "      <td>Health care reform legislation is likely to ma...</td>\n",
              "      <td>health-care</td>\n",
              "      <td>blog-posting</td>\n",
              "      <td>NaN</td>\n",
              "      <td>NaN</td>\n",
              "      <td>none</td>\n",
              "      <td>7.0</td>\n",
              "      <td>19.0</td>\n",
              "      <td>3.0</td>\n",
              "      <td>5.0</td>\n",
              "      <td>44.0</td>\n",
              "      <td>a news release</td>\n",
              "      <td>False</td>\n",
              "      <td>NaN</td>\n",
              "    </tr>\n",
              "    <tr>\n",
              "      <th>4</th>\n",
              "      <td>9028.json</td>\n",
              "      <td>half-true</td>\n",
              "      <td>The economic turnaround started at the end of ...</td>\n",
              "      <td>economy,jobs</td>\n",
              "      <td>charlie-crist</td>\n",
              "      <td>NaN</td>\n",
              "      <td>Florida</td>\n",
              "      <td>democrat</td>\n",
              "      <td>15.0</td>\n",
              "      <td>9.0</td>\n",
              "      <td>20.0</td>\n",
              "      <td>19.0</td>\n",
              "      <td>2.0</td>\n",
              "      <td>an interview on CNN</td>\n",
              "      <td>True</td>\n",
              "      <td>1.0</td>\n",
              "    </tr>\n",
              "    <tr>\n",
              "      <th>...</th>\n",
              "      <td>...</td>\n",
              "      <td>...</td>\n",
              "      <td>...</td>\n",
              "      <td>...</td>\n",
              "      <td>...</td>\n",
              "      <td>...</td>\n",
              "      <td>...</td>\n",
              "      <td>...</td>\n",
              "      <td>...</td>\n",
              "      <td>...</td>\n",
              "      <td>...</td>\n",
              "      <td>...</td>\n",
              "      <td>...</td>\n",
              "      <td>...</td>\n",
              "      <td>...</td>\n",
              "      <td>...</td>\n",
              "    </tr>\n",
              "    <tr>\n",
              "      <th>10235</th>\n",
              "      <td>5473.json</td>\n",
              "      <td>mostly-true</td>\n",
              "      <td>There are a larger number of shark attacks in ...</td>\n",
              "      <td>animals,elections</td>\n",
              "      <td>aclu-florida</td>\n",
              "      <td>NaN</td>\n",
              "      <td>Florida</td>\n",
              "      <td>none</td>\n",
              "      <td>0.0</td>\n",
              "      <td>1.0</td>\n",
              "      <td>1.0</td>\n",
              "      <td>1.0</td>\n",
              "      <td>0.0</td>\n",
              "      <td>interview on \"The Colbert Report\"</td>\n",
              "      <td>False</td>\n",
              "      <td>1.0</td>\n",
              "    </tr>\n",
              "    <tr>\n",
              "      <th>10236</th>\n",
              "      <td>3408.json</td>\n",
              "      <td>mostly-true</td>\n",
              "      <td>Democrats have now become the party of the [At...</td>\n",
              "      <td>elections</td>\n",
              "      <td>alan-powell</td>\n",
              "      <td>NaN</td>\n",
              "      <td>Georgia</td>\n",
              "      <td>republican</td>\n",
              "      <td>0.0</td>\n",
              "      <td>0.0</td>\n",
              "      <td>0.0</td>\n",
              "      <td>1.0</td>\n",
              "      <td>0.0</td>\n",
              "      <td>an interview</td>\n",
              "      <td>False</td>\n",
              "      <td>1.0</td>\n",
              "    </tr>\n",
              "    <tr>\n",
              "      <th>10237</th>\n",
              "      <td>3959.json</td>\n",
              "      <td>half-true</td>\n",
              "      <td>Says an alternative to Social Security that op...</td>\n",
              "      <td>retirement,social-security</td>\n",
              "      <td>herman-cain</td>\n",
              "      <td>NaN</td>\n",
              "      <td>Georgia</td>\n",
              "      <td>republican</td>\n",
              "      <td>4.0</td>\n",
              "      <td>11.0</td>\n",
              "      <td>5.0</td>\n",
              "      <td>3.0</td>\n",
              "      <td>3.0</td>\n",
              "      <td>a Republican presidential debate</td>\n",
              "      <td>False</td>\n",
              "      <td>1.0</td>\n",
              "    </tr>\n",
              "    <tr>\n",
              "      <th>10238</th>\n",
              "      <td>2253.json</td>\n",
              "      <td>false</td>\n",
              "      <td>On lifting the U.S. Cuban embargo and allowing...</td>\n",
              "      <td>florida,foreign-policy</td>\n",
              "      <td>jeff-greene</td>\n",
              "      <td>NaN</td>\n",
              "      <td>Florida</td>\n",
              "      <td>democrat</td>\n",
              "      <td>3.0</td>\n",
              "      <td>1.0</td>\n",
              "      <td>3.0</td>\n",
              "      <td>0.0</td>\n",
              "      <td>0.0</td>\n",
              "      <td>a televised debate on Miami's WPLG-10 against ...</td>\n",
              "      <td>True</td>\n",
              "      <td>NaN</td>\n",
              "    </tr>\n",
              "    <tr>\n",
              "      <th>10239</th>\n",
              "      <td>1155.json</td>\n",
              "      <td>pants-fire</td>\n",
              "      <td>The Department of Veterans Affairs has a manua...</td>\n",
              "      <td>health-care,veterans</td>\n",
              "      <td>michael-steele</td>\n",
              "      <td>chairman of the Republican National Committee</td>\n",
              "      <td>Maryland</td>\n",
              "      <td>republican</td>\n",
              "      <td>0.0</td>\n",
              "      <td>1.0</td>\n",
              "      <td>1.0</td>\n",
              "      <td>0.0</td>\n",
              "      <td>2.0</td>\n",
              "      <td>a Fox News interview</td>\n",
              "      <td>False</td>\n",
              "      <td>0.0</td>\n",
              "    </tr>\n",
              "  </tbody>\n",
              "</table>\n",
              "<p>10240 rows × 16 columns</p>\n",
              "</div>"
            ],
            "text/plain": [
              "           jsonid        label  \\\n",
              "0       2635.json        false   \n",
              "1      10540.json    half-true   \n",
              "2        324.json  mostly-true   \n",
              "3       1123.json        false   \n",
              "4       9028.json    half-true   \n",
              "...           ...          ...   \n",
              "10235   5473.json  mostly-true   \n",
              "10236   3408.json  mostly-true   \n",
              "10237   3959.json    half-true   \n",
              "10238   2253.json        false   \n",
              "10239   1155.json   pants-fire   \n",
              "\n",
              "                                           headline_text  \\\n",
              "0      Says the Annies List political group supports ...   \n",
              "1      When did the decline of coal start? It started...   \n",
              "2      Hillary Clinton agrees with John McCain \"by vo...   \n",
              "3      Health care reform legislation is likely to ma...   \n",
              "4      The economic turnaround started at the end of ...   \n",
              "...                                                  ...   \n",
              "10235  There are a larger number of shark attacks in ...   \n",
              "10236  Democrats have now become the party of the [At...   \n",
              "10237  Says an alternative to Social Security that op...   \n",
              "10238  On lifting the U.S. Cuban embargo and allowing...   \n",
              "10239  The Department of Veterans Affairs has a manua...   \n",
              "\n",
              "                                  subject         speaker  \\\n",
              "0                                abortion    dwayne-bohac   \n",
              "1      energy,history,job-accomplishments  scott-surovell   \n",
              "2                          foreign-policy    barack-obama   \n",
              "3                             health-care    blog-posting   \n",
              "4                            economy,jobs   charlie-crist   \n",
              "...                                   ...             ...   \n",
              "10235                   animals,elections    aclu-florida   \n",
              "10236                           elections     alan-powell   \n",
              "10237          retirement,social-security     herman-cain   \n",
              "10238              florida,foreign-policy     jeff-greene   \n",
              "10239                health-care,veterans  michael-steele   \n",
              "\n",
              "                                     speakerjobtitle stateinfo  \\\n",
              "0                               State representative     Texas   \n",
              "1                                     State delegate  Virginia   \n",
              "2                                          President  Illinois   \n",
              "3                                                NaN       NaN   \n",
              "4                                                NaN   Florida   \n",
              "...                                              ...       ...   \n",
              "10235                                            NaN   Florida   \n",
              "10236                                            NaN   Georgia   \n",
              "10237                                            NaN   Georgia   \n",
              "10238                                            NaN   Florida   \n",
              "10239  chairman of the Republican National Committee  Maryland   \n",
              "\n",
              "      partyaffiliation  barelytruecounts  falsecounts  halftruecounts  \\\n",
              "0           republican               0.0          1.0             0.0   \n",
              "1             democrat               0.0          0.0             1.0   \n",
              "2             democrat              70.0         71.0           160.0   \n",
              "3                 none               7.0         19.0             3.0   \n",
              "4             democrat              15.0          9.0            20.0   \n",
              "...                ...               ...          ...             ...   \n",
              "10235             none               0.0          1.0             1.0   \n",
              "10236       republican               0.0          0.0             0.0   \n",
              "10237       republican               4.0         11.0             5.0   \n",
              "10238         democrat               3.0          1.0             3.0   \n",
              "10239       republican               0.0          1.0             1.0   \n",
              "\n",
              "       mostlytrueocunts  pantsonfirecounts  \\\n",
              "0                   0.0                0.0   \n",
              "1                   1.0                0.0   \n",
              "2                 163.0                9.0   \n",
              "3                   5.0               44.0   \n",
              "4                  19.0                2.0   \n",
              "...                 ...                ...   \n",
              "10235               1.0                0.0   \n",
              "10236               1.0                0.0   \n",
              "10237               3.0                3.0   \n",
              "10238               0.0                0.0   \n",
              "10239               0.0                2.0   \n",
              "\n",
              "                                                 context   mask  verdict  \n",
              "0                                               a mailer  False      NaN  \n",
              "1                                        a floor speech.   True      1.0  \n",
              "2                                                 Denver   True      1.0  \n",
              "3                                         a news release  False      NaN  \n",
              "4                                    an interview on CNN   True      1.0  \n",
              "...                                                  ...    ...      ...  \n",
              "10235                  interview on \"The Colbert Report\"  False      1.0  \n",
              "10236                                       an interview  False      1.0  \n",
              "10237                   a Republican presidential debate  False      1.0  \n",
              "10238  a televised debate on Miami's WPLG-10 against ...   True      NaN  \n",
              "10239                               a Fox News interview  False      0.0  \n",
              "\n",
              "[10240 rows x 16 columns]"
            ]
          },
          "metadata": {
            "tags": []
          },
          "execution_count": 37
        }
      ]
    },
    {
      "cell_type": "code",
      "metadata": {
        "id": "W9XYrW-RluGv",
        "colab_type": "code",
        "outputId": "e0290896-82ae-42e2-b1d5-36d4eabd9838",
        "colab": {
          "base_uri": "https://localhost:8080/",
          "height": 34
        }
      },
      "source": [
        "from nltk.corpus import wordnet as wn\n",
        "\n",
        "def preprocess(raw_news):\n",
        "    import nltk    \n",
        "    news = re.sub(\"[^a-zA-Z]\", \" \", raw_news)    \n",
        "    news =  news.lower()     \n",
        "    news_words = nltk.word_tokenize( news)        \n",
        "    stops = set(nltk.corpus.stopwords.words(\"english\"))       \n",
        "    words = [w for w in  news_words  if not w in stops]        \n",
        "    stems = [nltk.stem.SnowballStemmer('english').stem(w) for w in words]     \n",
        "    return \" \".join(stems)\n",
        "\n",
        "\n",
        "import re\n",
        "dfs['stemmed'] = dfs[\"headline_text\"].apply(preprocess) \n",
        "#testing['statement'] = testing[\"statement\"].apply(cleaning)\n",
        "print(len(dfs), \"headline_text\")\n",
        "#print(len(testing), \"statements\")\n",
        "\n",
        "pos_family = {\n",
        "    'noun' : ['NN','NNS','NNP','NNPS'],\n",
        "    'pron' : ['PRP','PRP$','WP','WP$'],\n",
        "    'verb' : ['VB','VBD','VBG','VBN','VBP','VBZ'],\n",
        "    'adj' :  ['JJ','JJR','JJS'],\n",
        "    'adv' : ['RB','RBR','RBS','WRB']\n",
        "}\n",
        "\n",
        "def lemmatize(self, word, pos=wn.NOUN):\n",
        "    lemmas = wordnet._morphy(word, pos)\n",
        "    return min(lemmas, key=len) if lemmas else word"
      ],
      "execution_count": 38,
      "outputs": [
        {
          "output_type": "stream",
          "text": [
            "10240 headline_text\n"
          ],
          "name": "stdout"
        }
      ]
    },
    {
      "cell_type": "code",
      "metadata": {
        "id": "iJaA7I8UluGz",
        "colab_type": "code",
        "outputId": "ccb426b5-49b3-4640-b64f-00d1afb25d5e",
        "colab": {
          "base_uri": "https://localhost:8080/",
          "height": 34
        }
      },
      "source": [
        "from nltk.stem.porter import PorterStemmer\n",
        "from nltk.corpus import stopwords\n",
        "import nltk\n",
        "import time\n",
        "def initial_clean(text):\n",
        "    \"\"\"\n",
        "    Function to clean text of websites, email addresess and any punctuation\n",
        "    We also lower case the text\n",
        "    \"\"\"\n",
        "    text = re.sub(\"((\\S+)?(http(s)?)(\\S+))|((\\S+)?(www)(\\S+))|((\\S+)?(\\@)(\\S+)?)\", \" \", text)\n",
        "    text = re.sub(\"[^a-zA-Z ]\", \"\", text)\n",
        "    text = text.lower() # lower case the text\n",
        "    text = nltk.word_tokenize(text)\n",
        "    return text\n",
        "\n",
        "stop_words = stopwords.words('english')\n",
        "def remove_stop_words(text):\n",
        "    \"\"\"\n",
        "    Function that removes all stopwords from text\n",
        "    \"\"\"\n",
        "    return [word for word in text if word not in stop_words]\n",
        "\n",
        "stemmer = PorterStemmer()\n",
        "def stem_words(text):\n",
        "    \"\"\"\n",
        "    Function to stem words, so plural and singular are treated the same\n",
        "    \"\"\"\n",
        "    try:\n",
        "        text = [stemmer.stem(word) for word in text]\n",
        "        text = [word for word in text if len(word) > 1] # make sure we have no 1 letter words\n",
        "    except IndexError: # the word \"oed\" broke this, so needed try except\n",
        "        pass\n",
        "    return text\n",
        "\n",
        "def apply_all(text):\n",
        "    \"\"\"\n",
        "    This function applies all the functions above into one\n",
        "    \"\"\"\n",
        "    return stem_words(remove_stop_words(initial_clean(text)))\n",
        "# clean text and title and create new column \"tokenized\"\n",
        "t1 = time.time()\n",
        "dfs['tokenized'] = dfs['headline_text'].apply(apply_all)\n",
        "t2 = time.time()\n",
        "print(\"Time to clean and tokenize\", len(dfs), \"articles:\", (t2-t1)/60, \"min\")"
      ],
      "execution_count": 39,
      "outputs": [
        {
          "output_type": "stream",
          "text": [
            "Time to clean and tokenize 10240 articles: 0.0784292737642924 min\n"
          ],
          "name": "stdout"
        }
      ]
    },
    {
      "cell_type": "code",
      "metadata": {
        "id": "hsA8ekWfluG5",
        "colab_type": "code",
        "colab": {}
      },
      "source": [
        "import string\n",
        "def text_process(text):\n",
        "    '''\n",
        "    Takes in a string of text, then performs the following:\n",
        "    1. Remove all punctuation\n",
        "    2. Remove all stopwords\n",
        "    3. Return the cleaned text as a list of words\n",
        "    '''\n",
        "    nopunc = [char for char in text if char not in string.punctuation]\n",
        "    nopunc = ''.join(nopunc)\n",
        "    \n",
        "    return [word for word in nopunc.split() if word.lower() not in stopwords.words('english')]"
      ],
      "execution_count": 0,
      "outputs": []
    },
    {
      "cell_type": "code",
      "metadata": {
        "id": "IjE-b4sVluG7",
        "colab_type": "code",
        "colab": {}
      },
      "source": [
        "testing = dfs['headline_text']"
      ],
      "execution_count": 0,
      "outputs": []
    },
    {
      "cell_type": "code",
      "metadata": {
        "id": "30ilfJWLluG_",
        "colab_type": "code",
        "outputId": "de31bb4d-4579-4e13-a553-5f97211b1d69",
        "colab": {
          "base_uri": "https://localhost:8080/",
          "height": 105
        }
      },
      "source": [
        "import nltk\n",
        "nltk.download('vader_lexicon')\n",
        "from nltk.sentiment.vader import SentimentIntensityAnalyzer"
      ],
      "execution_count": 42,
      "outputs": [
        {
          "output_type": "stream",
          "text": [
            "[nltk_data] Downloading package vader_lexicon to /root/nltk_data...\n",
            "[nltk_data]   Package vader_lexicon is already up-to-date!\n"
          ],
          "name": "stdout"
        },
        {
          "output_type": "stream",
          "text": [
            "/usr/local/lib/python3.6/dist-packages/nltk/twitter/__init__.py:20: UserWarning: The twython library has not been installed. Some functionality from the twitter package will not be available.\n",
            "  warnings.warn(\"The twython library has not been installed. \"\n"
          ],
          "name": "stderr"
        }
      ]
    },
    {
      "cell_type": "markdown",
      "metadata": {
        "id": "50epyOWPluHE",
        "colab_type": "text"
      },
      "source": [
        "### Apply Sentimental Analysis"
      ]
    },
    {
      "cell_type": "code",
      "metadata": {
        "id": "n0rjQxWfluHH",
        "colab_type": "code",
        "colab": {}
      },
      "source": [
        "sid = SentimentIntensityAnalyzer()"
      ],
      "execution_count": 0,
      "outputs": []
    },
    {
      "cell_type": "code",
      "metadata": {
        "id": "ELpaiUFrluHK",
        "colab_type": "code",
        "outputId": "150b7837-eb43-479b-d0d4-77edcb157b8c",
        "colab": {
          "base_uri": "https://localhost:8080/",
          "height": 476
        }
      },
      "source": [
        "count=0\n",
        "for x in testing:\n",
        "    if count<3:\n",
        "        print(x)\n",
        "        ss = sid.polarity_scores(x)\n",
        "        for k in sorted(ss):\n",
        "            print(\"{0}:{1},\".format (k, ss[k]), end =\"\\n\\n\")\n",
        "            print\n",
        "    count+=1"
      ],
      "execution_count": 44,
      "outputs": [
        {
          "output_type": "stream",
          "text": [
            "Says the Annies List political group supports third-trimester abortions on demand.\n",
            "compound:0.25,\n",
            "\n",
            "neg:0.115,\n",
            "\n",
            "neu:0.692,\n",
            "\n",
            "pos:0.192,\n",
            "\n",
            "When did the decline of coal start? It started when natural gas took off that started to begin in (President George W.) Bushs administration.\n",
            "compound:0.3612,\n",
            "\n",
            "neg:0.0,\n",
            "\n",
            "neu:0.902,\n",
            "\n",
            "pos:0.098,\n",
            "\n",
            "Hillary Clinton agrees with John McCain \"by voting to give George Bush the benefit of the doubt on Iran.\"\n",
            "compound:0.3182,\n",
            "\n",
            "neg:0.107,\n",
            "\n",
            "neu:0.687,\n",
            "\n",
            "pos:0.206,\n",
            "\n"
          ],
          "name": "stdout"
        }
      ]
    },
    {
      "cell_type": "markdown",
      "metadata": {
        "id": "kOXop_goluHQ",
        "colab_type": "text"
      },
      "source": [
        "### Sentimetal Polarity Summary"
      ]
    },
    {
      "cell_type": "code",
      "metadata": {
        "id": "arHlpkWVluHR",
        "colab_type": "code",
        "outputId": "e566405f-018f-45f6-aea5-2819900f0066",
        "colab": {
          "base_uri": "https://localhost:8080/",
          "height": 34
        }
      },
      "source": [
        "sentiment_polarity = [] \n",
        "\n",
        "from nltk.sentiment.vader import SentimentIntensityAnalyzer\n",
        "# install Vader and make sure you download the lexicon as well\n",
        "sid = SentimentIntensityAnalyzer()\n",
        "# this step will return an error if you have not installed the lexicon\n",
        "summary = {\"positive\":0,\"neutral\":0,\"negative\":0}\n",
        "for x in dfs['headline_text']: \n",
        "    ss = sid.polarity_scores(x)\n",
        "    if ss[\"compound\"] == 0.0: \n",
        "        summary[\"neutral\"] +=1\n",
        "        sentiment_polarity.append(\"neutral\")\n",
        "        \n",
        "    elif ss[\"compound\"] > 0.0:\n",
        "        summary[\"positive\"] +=1\n",
        "        sentiment_polarity.append(\"positive\")\n",
        "     \n",
        "    else:\n",
        "        summary[\"negative\"] +=1\n",
        "        sentiment_polarity.append(\"negative\")\n",
        "        \n",
        "print(summary)\n",
        "dfs['sentiment_polarity'] = sentiment_polarity"
      ],
      "execution_count": 45,
      "outputs": [
        {
          "output_type": "stream",
          "text": [
            "{'positive': 3350, 'neutral': 3488, 'negative': 3402}\n"
          ],
          "name": "stdout"
        }
      ]
    },
    {
      "cell_type": "code",
      "metadata": {
        "id": "JKwlujgIluHZ",
        "colab_type": "code",
        "outputId": "d83f2c67-c1ae-4517-faa3-9d4202922e60",
        "colab": {
          "base_uri": "https://localhost:8080/",
          "height": 34
        }
      },
      "source": [
        "from os import path\n",
        "#train_path = Path('.')\n",
        "import pandas as pd\n",
        "\n",
        "\n",
        "headers = ['id','label','statement','subject',\n",
        "           'speaker','job_title', 'state', \n",
        "           'affliation','barely_true','false',\n",
        "           'half_true', 'mostly_true','pants_on_fire', \n",
        "           'venue']\n",
        "print (len(headers))\n",
        "#train_df = pd.read_csv('input_data/dataset/train.csv', names=headers, delimiter='\\t')\n",
        "#valid_df = pd.read_csv('input_data/dataset/valid.csv', names=headers, delimiter='\\t')\n",
        "#liar_test_df = pd.read_csv('test.csv',names=headers, delimiter='\\t')\n",
        "#train_df['statement'].head()\n",
        "train_df = ret_dfs['train']\n",
        "valid_df = ret_dfs['valid']"
      ],
      "execution_count": 46,
      "outputs": [
        {
          "output_type": "stream",
          "text": [
            "14\n"
          ],
          "name": "stdout"
        }
      ]
    },
    {
      "cell_type": "code",
      "metadata": {
        "id": "4DDQppG0luHe",
        "colab_type": "code",
        "colab": {}
      },
      "source": [
        "word_vector_input_dataset = []\n",
        "word_vector_input_dataset = train_df.headline_text.tolist()"
      ],
      "execution_count": 0,
      "outputs": []
    },
    {
      "cell_type": "markdown",
      "metadata": {
        "id": "V65TnTfYluHg",
        "colab_type": "text"
      },
      "source": [
        "### Create and Save the model"
      ]
    },
    {
      "cell_type": "code",
      "metadata": {
        "id": "g-ELiEljluHh",
        "colab_type": "code",
        "outputId": "2d98fa5b-351c-4315-95aa-8b4fcc03eea9",
        "colab": {
          "base_uri": "https://localhost:8080/",
          "height": 275
        }
      },
      "source": [
        "from gensim.models.doc2vec import Doc2Vec, TaggedDocument\n",
        "from nltk.tokenize import word_tokenize\n",
        "data = word_vector_input_dataset\n",
        "tagged_data = []\n",
        "exception_count = 0\n",
        "for i, _d in enumerate(data):\n",
        "    try:\n",
        "        tagged_data.append(TaggedDocument(words=word_tokenize(_d.lower()), tags=[str(i)]))\n",
        "    except:\n",
        "        exception_count+=1\n",
        "### Train doc2vec embeddings \n",
        "print (\"Total number of custom documents:\",len(tagged_data))\n",
        "max_epochs = 10\n",
        "vec_size = 10\n",
        "alpha = 0.025\n",
        "\n",
        "model = Doc2Vec(vector_size=vec_size,\n",
        "                alpha=alpha, \n",
        "                min_alpha=0.00025,\n",
        "                min_count=10,\n",
        "                dm =1)\n",
        "  \n",
        "model.build_vocab(tagged_data)\n",
        "\n",
        "for epoch in range(max_epochs):\n",
        "    print('iteration {0}'.format(epoch))\n",
        "    model.train(tagged_data,\n",
        "                total_examples=model.corpus_count,\n",
        "                epochs=model.epochs)\n",
        "    # decrease the learning rate\n",
        "    model.alpha -= 0.0002\n",
        "    # fix the learning rate, no decay\n",
        "    model.min_alpha = model.alpha\n",
        "model_name = '/content/gdrive/My Drive/Drifters/Models/PoliticalAffiliation.model'\n",
        "model.save(model_name)\n",
        "print(\"Model Saved\")"
      ],
      "execution_count": 48,
      "outputs": [
        {
          "output_type": "stream",
          "text": [
            "Total number of custom documents: 10240\n",
            "iteration 0\n",
            "iteration 1\n",
            "iteration 2\n",
            "iteration 3\n",
            "iteration 4\n",
            "iteration 5\n",
            "iteration 6\n",
            "iteration 7\n",
            "iteration 8\n",
            "iteration 9\n",
            "Model Saved\n"
          ],
          "name": "stdout"
        },
        {
          "output_type": "stream",
          "text": [
            "/usr/local/lib/python3.6/dist-packages/smart_open/smart_open_lib.py:402: UserWarning: This function is deprecated, use smart_open.open instead. See the migration notes for details: https://github.com/RaRe-Technologies/smart_open/blob/master/README.rst#migrating-to-the-new-open-function\n",
            "  'See the migration notes for details: %s' % _MIGRATION_NOTES_URL\n"
          ],
          "name": "stderr"
        }
      ]
    },
    {
      "cell_type": "code",
      "metadata": {
        "id": "GSK9QdriluH2",
        "colab_type": "code",
        "outputId": "7ef5f26c-9e64-4382-a0c3-3aa09c07b3fa",
        "colab": {
          "base_uri": "https://localhost:8080/",
          "height": 122
        }
      },
      "source": [
        "from gensim.models.doc2vec import Doc2Vec, TaggedDocument\n",
        "from nltk.tokenize import word_tokenize\n",
        "text = \"obama supports third trimester abortion\"\n",
        "dvmodel= Doc2Vec.load(model_name) ### Using a earlier trained model d2v.model \n",
        "test_sentence= [dvmodel.infer_vector(word_tokenize(text))]\n",
        "print (test_sentence)"
      ],
      "execution_count": 49,
      "outputs": [
        {
          "output_type": "stream",
          "text": [
            "[array([ 0.16837949,  0.1927219 , -0.02469639,  0.14444748, -0.01919257,\n",
            "        0.08020215, -0.03064355,  0.0300297 , -0.14492758,  0.0827276 ],\n",
            "      dtype=float32)]\n"
          ],
          "name": "stdout"
        },
        {
          "output_type": "stream",
          "text": [
            "/usr/local/lib/python3.6/dist-packages/smart_open/smart_open_lib.py:402: UserWarning: This function is deprecated, use smart_open.open instead. See the migration notes for details: https://github.com/RaRe-Technologies/smart_open/blob/master/README.rst#migrating-to-the-new-open-function\n",
            "  'See the migration notes for details: %s' % _MIGRATION_NOTES_URL\n"
          ],
          "name": "stderr"
        }
      ]
    },
    {
      "cell_type": "code",
      "metadata": {
        "id": "aXrnKnIEluH4",
        "colab_type": "code",
        "colab": {}
      },
      "source": [
        "statements = train_df.headline_text.tolist()\n",
        "statements_wv = [dvmodel.infer_vector(word_tokenize(x)) for x in statements]"
      ],
      "execution_count": 0,
      "outputs": []
    },
    {
      "cell_type": "code",
      "metadata": {
        "id": "S50sT1xcluH6",
        "colab_type": "code",
        "colab": {}
      },
      "source": [
        "dataframe = pd.DataFrame(statements_wv)\n",
        "#dataframe['affliation'] = pd.Series(tr_affliation)\n",
        "dataframe['stateinfo'] = pd.Series(train_df.stateinfo)\n",
        "dataframe['speakerjobtitle'] = pd.Series(train_df.speakerjobtitle)\n",
        "dataframe['context'] = pd.Series(train_df.context)\n",
        "dataframe.columns=['0','1','2','3','4','5','6','7','8','9','state','job_title','context']\n",
        "dataframe['label'] = pd.Series(train_df.label)"
      ],
      "execution_count": 0,
      "outputs": []
    },
    {
      "cell_type": "code",
      "metadata": {
        "id": "PYQ5s0sFluH8",
        "colab_type": "code",
        "outputId": "e44db3d8-6a76-434e-e027-77f9e30eca9a",
        "colab": {
          "base_uri": "https://localhost:8080/",
          "height": 204
        }
      },
      "source": [
        "dataframe.head()"
      ],
      "execution_count": 52,
      "outputs": [
        {
          "output_type": "execute_result",
          "data": {
            "text/html": [
              "<div>\n",
              "<style scoped>\n",
              "    .dataframe tbody tr th:only-of-type {\n",
              "        vertical-align: middle;\n",
              "    }\n",
              "\n",
              "    .dataframe tbody tr th {\n",
              "        vertical-align: top;\n",
              "    }\n",
              "\n",
              "    .dataframe thead th {\n",
              "        text-align: right;\n",
              "    }\n",
              "</style>\n",
              "<table border=\"1\" class=\"dataframe\">\n",
              "  <thead>\n",
              "    <tr style=\"text-align: right;\">\n",
              "      <th></th>\n",
              "      <th>0</th>\n",
              "      <th>1</th>\n",
              "      <th>2</th>\n",
              "      <th>3</th>\n",
              "      <th>4</th>\n",
              "      <th>5</th>\n",
              "      <th>6</th>\n",
              "      <th>7</th>\n",
              "      <th>8</th>\n",
              "      <th>9</th>\n",
              "      <th>state</th>\n",
              "      <th>job_title</th>\n",
              "      <th>context</th>\n",
              "      <th>label</th>\n",
              "    </tr>\n",
              "  </thead>\n",
              "  <tbody>\n",
              "    <tr>\n",
              "      <th>0</th>\n",
              "      <td>0.044887</td>\n",
              "      <td>0.649508</td>\n",
              "      <td>-0.127486</td>\n",
              "      <td>0.244291</td>\n",
              "      <td>-0.300956</td>\n",
              "      <td>0.330897</td>\n",
              "      <td>-0.361380</td>\n",
              "      <td>0.113201</td>\n",
              "      <td>-0.067937</td>\n",
              "      <td>0.434179</td>\n",
              "      <td>Texas</td>\n",
              "      <td>State representative</td>\n",
              "      <td>a mailer</td>\n",
              "      <td>false</td>\n",
              "    </tr>\n",
              "    <tr>\n",
              "      <th>1</th>\n",
              "      <td>0.230614</td>\n",
              "      <td>0.428849</td>\n",
              "      <td>0.277214</td>\n",
              "      <td>-0.147722</td>\n",
              "      <td>0.064087</td>\n",
              "      <td>-0.273332</td>\n",
              "      <td>-0.256857</td>\n",
              "      <td>0.317407</td>\n",
              "      <td>-0.577247</td>\n",
              "      <td>0.673826</td>\n",
              "      <td>Virginia</td>\n",
              "      <td>State delegate</td>\n",
              "      <td>a floor speech.</td>\n",
              "      <td>half-true</td>\n",
              "    </tr>\n",
              "    <tr>\n",
              "      <th>2</th>\n",
              "      <td>0.138187</td>\n",
              "      <td>0.768753</td>\n",
              "      <td>-0.122391</td>\n",
              "      <td>0.345116</td>\n",
              "      <td>-0.158405</td>\n",
              "      <td>0.344591</td>\n",
              "      <td>-0.440161</td>\n",
              "      <td>0.256312</td>\n",
              "      <td>0.040355</td>\n",
              "      <td>0.409103</td>\n",
              "      <td>Illinois</td>\n",
              "      <td>President</td>\n",
              "      <td>Denver</td>\n",
              "      <td>mostly-true</td>\n",
              "    </tr>\n",
              "    <tr>\n",
              "      <th>3</th>\n",
              "      <td>-0.081118</td>\n",
              "      <td>0.186955</td>\n",
              "      <td>0.000348</td>\n",
              "      <td>0.148170</td>\n",
              "      <td>0.133216</td>\n",
              "      <td>0.091156</td>\n",
              "      <td>-0.177932</td>\n",
              "      <td>-0.088167</td>\n",
              "      <td>0.027543</td>\n",
              "      <td>-0.155472</td>\n",
              "      <td>NaN</td>\n",
              "      <td>NaN</td>\n",
              "      <td>a news release</td>\n",
              "      <td>false</td>\n",
              "    </tr>\n",
              "    <tr>\n",
              "      <th>4</th>\n",
              "      <td>-0.020690</td>\n",
              "      <td>0.461611</td>\n",
              "      <td>0.199205</td>\n",
              "      <td>-0.006423</td>\n",
              "      <td>-0.230663</td>\n",
              "      <td>0.002898</td>\n",
              "      <td>-0.332194</td>\n",
              "      <td>0.122975</td>\n",
              "      <td>-0.090153</td>\n",
              "      <td>0.219651</td>\n",
              "      <td>Florida</td>\n",
              "      <td>NaN</td>\n",
              "      <td>an interview on CNN</td>\n",
              "      <td>half-true</td>\n",
              "    </tr>\n",
              "  </tbody>\n",
              "</table>\n",
              "</div>"
            ],
            "text/plain": [
              "          0         1         2         3         4         5         6  \\\n",
              "0  0.044887  0.649508 -0.127486  0.244291 -0.300956  0.330897 -0.361380   \n",
              "1  0.230614  0.428849  0.277214 -0.147722  0.064087 -0.273332 -0.256857   \n",
              "2  0.138187  0.768753 -0.122391  0.345116 -0.158405  0.344591 -0.440161   \n",
              "3 -0.081118  0.186955  0.000348  0.148170  0.133216  0.091156 -0.177932   \n",
              "4 -0.020690  0.461611  0.199205 -0.006423 -0.230663  0.002898 -0.332194   \n",
              "\n",
              "          7         8         9     state             job_title  \\\n",
              "0  0.113201 -0.067937  0.434179     Texas  State representative   \n",
              "1  0.317407 -0.577247  0.673826  Virginia        State delegate   \n",
              "2  0.256312  0.040355  0.409103  Illinois             President   \n",
              "3 -0.088167  0.027543 -0.155472       NaN                   NaN   \n",
              "4  0.122975 -0.090153  0.219651   Florida                   NaN   \n",
              "\n",
              "               context        label  \n",
              "0             a mailer        false  \n",
              "1      a floor speech.    half-true  \n",
              "2               Denver  mostly-true  \n",
              "3       a news release        false  \n",
              "4  an interview on CNN    half-true  "
            ]
          },
          "metadata": {
            "tags": []
          },
          "execution_count": 52
        }
      ]
    },
    {
      "cell_type": "markdown",
      "metadata": {
        "id": "LVubI8rOluH_",
        "colab_type": "text"
      },
      "source": [
        "#### Test the data"
      ]
    },
    {
      "cell_type": "code",
      "metadata": {
        "id": "jWWY2FogluIA",
        "colab_type": "code",
        "outputId": "7686a681-32b5-4b0f-e0d1-dbdbf05967b5",
        "colab": {
          "base_uri": "https://localhost:8080/",
          "height": 255
        }
      },
      "source": [
        "headers = ['id','label','statement','subject',\n",
        "           'speaker','job_title', 'state', \n",
        "           'affliation','barely_true','false',\n",
        "           'half_true', 'mostly_true','pants_on_fire', \n",
        "           'venue']\n",
        "#dfs_test = pd.read_csv('input_data/dataset/test.csv', names=headers, delimiter='\\t')\n",
        "dfs_test = ret_dfs['test']\n",
        "dfs=dfs_test\n",
        "msg_test=dfs_test[\"headline_text\"]\n",
        "dfTwoCols_test= dfs_test[['label','subject']]\n",
        "dfTwoCols_test['verdict'] = dfTwoCols_test['label'].map({'false': 0, 'true': 1, 'barely-true':0, 'half-true':1,'mostly-true':1,'pants-fire':0})\n",
        "dfTwoCols_test\n",
        "class_test=np.array(dfTwoCols_test[\"verdict\"])\n",
        "print(class_test)\n",
        "class_test=class_test.reshape(-1,1)\n",
        "print(class_test)"
      ],
      "execution_count": 54,
      "outputs": [
        {
          "output_type": "stream",
          "text": [
            "[1 0 0 ... 0 0 0]\n",
            "[[1]\n",
            " [0]\n",
            " [0]\n",
            " ...\n",
            " [0]\n",
            " [0]\n",
            " [0]]\n"
          ],
          "name": "stdout"
        },
        {
          "output_type": "stream",
          "text": [
            "/usr/local/lib/python3.6/dist-packages/ipykernel_launcher.py:11: SettingWithCopyWarning: \n",
            "A value is trying to be set on a copy of a slice from a DataFrame.\n",
            "Try using .loc[row_indexer,col_indexer] = value instead\n",
            "\n",
            "See the caveats in the documentation: http://pandas.pydata.org/pandas-docs/stable/user_guide/indexing.html#returning-a-view-versus-a-copy\n",
            "  # This is added back by InteractiveShellApp.init_path()\n"
          ],
          "name": "stderr"
        }
      ]
    },
    {
      "cell_type": "code",
      "metadata": {
        "scrolled": false,
        "id": "jRUYxQM0luIF",
        "colab_type": "code",
        "outputId": "930ec8c1-1486-43d7-f3ff-be25b410cd70",
        "colab": {
          "base_uri": "https://localhost:8080/",
          "height": 898
        }
      },
      "source": [
        "dfs_test_sensa=dfs_test\n",
        "dfs_test_sensa['verdict']=dfTwoCols_test['verdict']\n",
        "dfs_test_sensa"
      ],
      "execution_count": 55,
      "outputs": [
        {
          "output_type": "execute_result",
          "data": {
            "text/html": [
              "<div>\n",
              "<style scoped>\n",
              "    .dataframe tbody tr th:only-of-type {\n",
              "        vertical-align: middle;\n",
              "    }\n",
              "\n",
              "    .dataframe tbody tr th {\n",
              "        vertical-align: top;\n",
              "    }\n",
              "\n",
              "    .dataframe thead th {\n",
              "        text-align: right;\n",
              "    }\n",
              "</style>\n",
              "<table border=\"1\" class=\"dataframe\">\n",
              "  <thead>\n",
              "    <tr style=\"text-align: right;\">\n",
              "      <th></th>\n",
              "      <th>jsonid</th>\n",
              "      <th>label</th>\n",
              "      <th>headline_text</th>\n",
              "      <th>subject</th>\n",
              "      <th>speaker</th>\n",
              "      <th>speakerjobtitle</th>\n",
              "      <th>stateinfo</th>\n",
              "      <th>partyaffiliation</th>\n",
              "      <th>barelytruecounts</th>\n",
              "      <th>falsecounts</th>\n",
              "      <th>halftruecounts</th>\n",
              "      <th>mostlytrueocunts</th>\n",
              "      <th>pantsonfirecounts</th>\n",
              "      <th>context</th>\n",
              "      <th>verdict</th>\n",
              "    </tr>\n",
              "  </thead>\n",
              "  <tbody>\n",
              "    <tr>\n",
              "      <th>0</th>\n",
              "      <td>11972.json</td>\n",
              "      <td>true</td>\n",
              "      <td>Building a wall on the U.S.-Mexico border will...</td>\n",
              "      <td>immigration</td>\n",
              "      <td>rick-perry</td>\n",
              "      <td>Governor</td>\n",
              "      <td>Texas</td>\n",
              "      <td>republican</td>\n",
              "      <td>30</td>\n",
              "      <td>30</td>\n",
              "      <td>42</td>\n",
              "      <td>23</td>\n",
              "      <td>18</td>\n",
              "      <td>Radio interview</td>\n",
              "      <td>1</td>\n",
              "    </tr>\n",
              "    <tr>\n",
              "      <th>1</th>\n",
              "      <td>11685.json</td>\n",
              "      <td>false</td>\n",
              "      <td>Wisconsin is on pace to double the number of l...</td>\n",
              "      <td>jobs</td>\n",
              "      <td>katrina-shankland</td>\n",
              "      <td>State representative</td>\n",
              "      <td>Wisconsin</td>\n",
              "      <td>democrat</td>\n",
              "      <td>2</td>\n",
              "      <td>1</td>\n",
              "      <td>0</td>\n",
              "      <td>0</td>\n",
              "      <td>0</td>\n",
              "      <td>a news conference</td>\n",
              "      <td>0</td>\n",
              "    </tr>\n",
              "    <tr>\n",
              "      <th>2</th>\n",
              "      <td>11096.json</td>\n",
              "      <td>false</td>\n",
              "      <td>Says John McCain has done nothing to help the ...</td>\n",
              "      <td>military,veterans,voting-record</td>\n",
              "      <td>donald-trump</td>\n",
              "      <td>President-Elect</td>\n",
              "      <td>New York</td>\n",
              "      <td>republican</td>\n",
              "      <td>63</td>\n",
              "      <td>114</td>\n",
              "      <td>51</td>\n",
              "      <td>37</td>\n",
              "      <td>61</td>\n",
              "      <td>comments on ABC's This Week.</td>\n",
              "      <td>0</td>\n",
              "    </tr>\n",
              "    <tr>\n",
              "      <th>3</th>\n",
              "      <td>5209.json</td>\n",
              "      <td>half-true</td>\n",
              "      <td>Suzanne Bonamici supports a plan that will cut...</td>\n",
              "      <td>medicare,message-machine-2012,campaign-adverti...</td>\n",
              "      <td>rob-cornilles</td>\n",
              "      <td>consultant</td>\n",
              "      <td>Oregon</td>\n",
              "      <td>republican</td>\n",
              "      <td>1</td>\n",
              "      <td>1</td>\n",
              "      <td>3</td>\n",
              "      <td>1</td>\n",
              "      <td>1</td>\n",
              "      <td>a radio show</td>\n",
              "      <td>1</td>\n",
              "    </tr>\n",
              "    <tr>\n",
              "      <th>4</th>\n",
              "      <td>9524.json</td>\n",
              "      <td>pants-fire</td>\n",
              "      <td>When asked by a reporter whether hes at the ce...</td>\n",
              "      <td>campaign-finance,legal-issues,campaign-adverti...</td>\n",
              "      <td>state-democratic-party-wisconsin</td>\n",
              "      <td>NaN</td>\n",
              "      <td>Wisconsin</td>\n",
              "      <td>democrat</td>\n",
              "      <td>5</td>\n",
              "      <td>7</td>\n",
              "      <td>2</td>\n",
              "      <td>2</td>\n",
              "      <td>7</td>\n",
              "      <td>a web video</td>\n",
              "      <td>0</td>\n",
              "    </tr>\n",
              "    <tr>\n",
              "      <th>...</th>\n",
              "      <td>...</td>\n",
              "      <td>...</td>\n",
              "      <td>...</td>\n",
              "      <td>...</td>\n",
              "      <td>...</td>\n",
              "      <td>...</td>\n",
              "      <td>...</td>\n",
              "      <td>...</td>\n",
              "      <td>...</td>\n",
              "      <td>...</td>\n",
              "      <td>...</td>\n",
              "      <td>...</td>\n",
              "      <td>...</td>\n",
              "      <td>...</td>\n",
              "      <td>...</td>\n",
              "    </tr>\n",
              "    <tr>\n",
              "      <th>1262</th>\n",
              "      <td>7334.json</td>\n",
              "      <td>half-true</td>\n",
              "      <td>Says his budget provides the highest state fun...</td>\n",
              "      <td>education</td>\n",
              "      <td>rick-scott</td>\n",
              "      <td>Governor</td>\n",
              "      <td>Florida</td>\n",
              "      <td>republican</td>\n",
              "      <td>28</td>\n",
              "      <td>23</td>\n",
              "      <td>38</td>\n",
              "      <td>34</td>\n",
              "      <td>7</td>\n",
              "      <td>a news conference</td>\n",
              "      <td>1</td>\n",
              "    </tr>\n",
              "    <tr>\n",
              "      <th>1263</th>\n",
              "      <td>9788.json</td>\n",
              "      <td>barely-true</td>\n",
              "      <td>Ive been here almost every day.</td>\n",
              "      <td>civil-rights,crime,criminal-justice</td>\n",
              "      <td>jay-nixon</td>\n",
              "      <td>Governor</td>\n",
              "      <td>Missouri</td>\n",
              "      <td>democrat</td>\n",
              "      <td>2</td>\n",
              "      <td>0</td>\n",
              "      <td>0</td>\n",
              "      <td>1</td>\n",
              "      <td>0</td>\n",
              "      <td>on ABC's \"This Week\"</td>\n",
              "      <td>0</td>\n",
              "    </tr>\n",
              "    <tr>\n",
              "      <th>1264</th>\n",
              "      <td>10710.json</td>\n",
              "      <td>barely-true</td>\n",
              "      <td>In the early 1980s, Sen. Edward Kennedy secret...</td>\n",
              "      <td>bipartisanship,congress,foreign-policy,history</td>\n",
              "      <td>mackubin-thomas-owens</td>\n",
              "      <td>senior fellow, Foreign Policy Research Institute</td>\n",
              "      <td>Rhode Island</td>\n",
              "      <td>columnist</td>\n",
              "      <td>1</td>\n",
              "      <td>0</td>\n",
              "      <td>0</td>\n",
              "      <td>0</td>\n",
              "      <td>0</td>\n",
              "      <td>a commentary in The Providence Journal</td>\n",
              "      <td>0</td>\n",
              "    </tr>\n",
              "    <tr>\n",
              "      <th>1265</th>\n",
              "      <td>3186.json</td>\n",
              "      <td>barely-true</td>\n",
              "      <td>Says an EPA permit languished under Strickland...</td>\n",
              "      <td>environment,government-efficiency</td>\n",
              "      <td>john-kasich</td>\n",
              "      <td>Governor of Ohio as of Jan. 10, 2011</td>\n",
              "      <td>Ohio</td>\n",
              "      <td>republican</td>\n",
              "      <td>9</td>\n",
              "      <td>8</td>\n",
              "      <td>10</td>\n",
              "      <td>18</td>\n",
              "      <td>3</td>\n",
              "      <td>a news conference</td>\n",
              "      <td>0</td>\n",
              "    </tr>\n",
              "    <tr>\n",
              "      <th>1266</th>\n",
              "      <td>6743.json</td>\n",
              "      <td>false</td>\n",
              "      <td>Says the governor is going around the state ta...</td>\n",
              "      <td>state-budget,state-finances,taxes</td>\n",
              "      <td>john-burzichelli</td>\n",
              "      <td>NaN</td>\n",
              "      <td>NaN</td>\n",
              "      <td>democrat</td>\n",
              "      <td>1</td>\n",
              "      <td>1</td>\n",
              "      <td>0</td>\n",
              "      <td>0</td>\n",
              "      <td>0</td>\n",
              "      <td>an interview with NJToday</td>\n",
              "      <td>0</td>\n",
              "    </tr>\n",
              "  </tbody>\n",
              "</table>\n",
              "<p>1267 rows × 15 columns</p>\n",
              "</div>"
            ],
            "text/plain": [
              "          jsonid        label  \\\n",
              "0     11972.json         true   \n",
              "1     11685.json        false   \n",
              "2     11096.json        false   \n",
              "3      5209.json    half-true   \n",
              "4      9524.json   pants-fire   \n",
              "...          ...          ...   \n",
              "1262   7334.json    half-true   \n",
              "1263   9788.json  barely-true   \n",
              "1264  10710.json  barely-true   \n",
              "1265   3186.json  barely-true   \n",
              "1266   6743.json        false   \n",
              "\n",
              "                                          headline_text  \\\n",
              "0     Building a wall on the U.S.-Mexico border will...   \n",
              "1     Wisconsin is on pace to double the number of l...   \n",
              "2     Says John McCain has done nothing to help the ...   \n",
              "3     Suzanne Bonamici supports a plan that will cut...   \n",
              "4     When asked by a reporter whether hes at the ce...   \n",
              "...                                                 ...   \n",
              "1262  Says his budget provides the highest state fun...   \n",
              "1263                    Ive been here almost every day.   \n",
              "1264  In the early 1980s, Sen. Edward Kennedy secret...   \n",
              "1265  Says an EPA permit languished under Strickland...   \n",
              "1266  Says the governor is going around the state ta...   \n",
              "\n",
              "                                                subject  \\\n",
              "0                                           immigration   \n",
              "1                                                  jobs   \n",
              "2                       military,veterans,voting-record   \n",
              "3     medicare,message-machine-2012,campaign-adverti...   \n",
              "4     campaign-finance,legal-issues,campaign-adverti...   \n",
              "...                                                 ...   \n",
              "1262                                          education   \n",
              "1263                civil-rights,crime,criminal-justice   \n",
              "1264     bipartisanship,congress,foreign-policy,history   \n",
              "1265                  environment,government-efficiency   \n",
              "1266                  state-budget,state-finances,taxes   \n",
              "\n",
              "                               speaker  \\\n",
              "0                           rick-perry   \n",
              "1                    katrina-shankland   \n",
              "2                         donald-trump   \n",
              "3                        rob-cornilles   \n",
              "4     state-democratic-party-wisconsin   \n",
              "...                                ...   \n",
              "1262                        rick-scott   \n",
              "1263                         jay-nixon   \n",
              "1264             mackubin-thomas-owens   \n",
              "1265                       john-kasich   \n",
              "1266                  john-burzichelli   \n",
              "\n",
              "                                       speakerjobtitle     stateinfo  \\\n",
              "0                                             Governor         Texas   \n",
              "1                                 State representative     Wisconsin   \n",
              "2                                      President-Elect      New York   \n",
              "3                                           consultant        Oregon   \n",
              "4                                                  NaN     Wisconsin   \n",
              "...                                                ...           ...   \n",
              "1262                                          Governor       Florida   \n",
              "1263                                          Governor      Missouri   \n",
              "1264  senior fellow, Foreign Policy Research Institute  Rhode Island   \n",
              "1265              Governor of Ohio as of Jan. 10, 2011          Ohio   \n",
              "1266                                               NaN           NaN   \n",
              "\n",
              "     partyaffiliation  barelytruecounts  falsecounts  halftruecounts  \\\n",
              "0          republican                30           30              42   \n",
              "1            democrat                 2            1               0   \n",
              "2          republican                63          114              51   \n",
              "3          republican                 1            1               3   \n",
              "4            democrat                 5            7               2   \n",
              "...               ...               ...          ...             ...   \n",
              "1262       republican                28           23              38   \n",
              "1263         democrat                 2            0               0   \n",
              "1264        columnist                 1            0               0   \n",
              "1265       republican                 9            8              10   \n",
              "1266         democrat                 1            1               0   \n",
              "\n",
              "      mostlytrueocunts  pantsonfirecounts  \\\n",
              "0                   23                 18   \n",
              "1                    0                  0   \n",
              "2                   37                 61   \n",
              "3                    1                  1   \n",
              "4                    2                  7   \n",
              "...                ...                ...   \n",
              "1262                34                  7   \n",
              "1263                 1                  0   \n",
              "1264                 0                  0   \n",
              "1265                18                  3   \n",
              "1266                 0                  0   \n",
              "\n",
              "                                     context  verdict  \n",
              "0                            Radio interview        1  \n",
              "1                          a news conference        0  \n",
              "2               comments on ABC's This Week.        0  \n",
              "3                               a radio show        1  \n",
              "4                                a web video        0  \n",
              "...                                      ...      ...  \n",
              "1262                       a news conference        1  \n",
              "1263                    on ABC's \"This Week\"        0  \n",
              "1264  a commentary in The Providence Journal        0  \n",
              "1265                       a news conference        0  \n",
              "1266               an interview with NJToday        0  \n",
              "\n",
              "[1267 rows x 15 columns]"
            ]
          },
          "metadata": {
            "tags": []
          },
          "execution_count": 55
        }
      ]
    },
    {
      "cell_type": "code",
      "metadata": {
        "id": "ks5T5hxVluII",
        "colab_type": "code",
        "colab": {}
      },
      "source": [
        "x_train=dfs_train_sensa[dfs_train_sensa.columns[14]]\n",
        "y_train=dfs_train_sensa['verdict']\n",
        "x_test= dfs_test_sensa[dfs_test_sensa.columns[14]]\n",
        "y_test = dfs_test_sensa['verdict']"
      ],
      "execution_count": 0,
      "outputs": []
    },
    {
      "cell_type": "code",
      "metadata": {
        "id": "pEcWU0VEluIK",
        "colab_type": "code",
        "outputId": "e5d32b69-ce50-4ebd-877b-a207f70ffebc",
        "colab": {
          "base_uri": "https://localhost:8080/",
          "height": 34
        }
      },
      "source": [
        "from sklearn import preprocessing\n",
        "le = preprocessing.LabelEncoder()\n",
        "x_train=le.fit_transform(x_train)\n",
        "#x_train=le.transform(x_train)\n",
        "y_train=le.fit_transform(y_train)\n",
        "y_train"
      ],
      "execution_count": 57,
      "outputs": [
        {
          "output_type": "execute_result",
          "data": {
            "text/plain": [
              "array([3672,    1,    1, ...,    1, 2267,    0])"
            ]
          },
          "metadata": {
            "tags": []
          },
          "execution_count": 57
        }
      ]
    },
    {
      "cell_type": "code",
      "metadata": {
        "id": "CGtIKq75luIM",
        "colab_type": "code",
        "outputId": "69848139-b9cd-4535-ad5b-4f4ec6e7dcca",
        "colab": {
          "base_uri": "https://localhost:8080/",
          "height": 1000
        }
      },
      "source": [
        "x_train=np.array(x_train)\n",
        "x_train=x_train.reshape(-1,1)\n",
        "x_train = [x for x in x_train if str(x) != 'nan']\n",
        "#print(x_train)\n",
        "x_test=np.array(x_test)\n",
        "x_test=x_test.reshape(-1,1)\n",
        "x_test = [x for x in x_test if str(x) != 'nan']\n",
        "y_train=np.array(y_train).reshape(-1,1)\n",
        "y_train = [x for x in y_train if str(x) != 'nan']\n",
        "y_train "
      ],
      "execution_count": 58,
      "outputs": [
        {
          "output_type": "execute_result",
          "data": {
            "text/plain": [
              "[array([3672]),\n",
              " array([1]),\n",
              " array([1]),\n",
              " array([377]),\n",
              " array([1]),\n",
              " array([367]),\n",
              " array([0]),\n",
              " array([1]),\n",
              " array([1]),\n",
              " array([1]),\n",
              " array([1]),\n",
              " array([1]),\n",
              " array([285]),\n",
              " array([1]),\n",
              " array([0]),\n",
              " array([1]),\n",
              " array([269]),\n",
              " array([0]),\n",
              " array([1]),\n",
              " array([1]),\n",
              " array([315]),\n",
              " array([1]),\n",
              " array([1]),\n",
              " array([1]),\n",
              " array([0]),\n",
              " array([604]),\n",
              " array([1]),\n",
              " array([1]),\n",
              " array([577]),\n",
              " array([1]),\n",
              " array([640]),\n",
              " array([0]),\n",
              " array([648]),\n",
              " array([1]),\n",
              " array([1]),\n",
              " array([506]),\n",
              " array([505]),\n",
              " array([462]),\n",
              " array([0]),\n",
              " array([478]),\n",
              " array([494]),\n",
              " array([1]),\n",
              " array([0]),\n",
              " array([0]),\n",
              " array([524]),\n",
              " array([1]),\n",
              " array([0]),\n",
              " array([195]),\n",
              " array([0]),\n",
              " array([247]),\n",
              " array([0]),\n",
              " array([0]),\n",
              " array([164]),\n",
              " array([156]),\n",
              " array([0]),\n",
              " array([1]),\n",
              " array([1]),\n",
              " array([0]),\n",
              " array([21]),\n",
              " array([1]),\n",
              " array([123]),\n",
              " array([1]),\n",
              " array([229]),\n",
              " array([1]),\n",
              " array([94]),\n",
              " array([0]),\n",
              " array([45]),\n",
              " array([52]),\n",
              " array([0]),\n",
              " array([0]),\n",
              " array([1258]),\n",
              " array([0]),\n",
              " array([1]),\n",
              " array([1]),\n",
              " array([1]),\n",
              " array([1305]),\n",
              " array([1313]),\n",
              " array([0]),\n",
              " array([1316]),\n",
              " array([1]),\n",
              " array([1294]),\n",
              " array([1]),\n",
              " array([1134]),\n",
              " array([1137]),\n",
              " array([1151]),\n",
              " array([1]),\n",
              " array([1]),\n",
              " array([1]),\n",
              " array([0]),\n",
              " array([1144]),\n",
              " array([1208]),\n",
              " array([1187]),\n",
              " array([1]),\n",
              " array([1]),\n",
              " array([0]),\n",
              " array([0]),\n",
              " array([1440]),\n",
              " array([1]),\n",
              " array([1455]),\n",
              " array([1]),\n",
              " array([1489]),\n",
              " array([0]),\n",
              " array([1]),\n",
              " array([1]),\n",
              " array([1506]),\n",
              " array([1512]),\n",
              " array([1]),\n",
              " array([1371]),\n",
              " array([1]),\n",
              " array([1334]),\n",
              " array([1]),\n",
              " array([1]),\n",
              " array([1]),\n",
              " array([0]),\n",
              " array([1406]),\n",
              " array([1]),\n",
              " array([1]),\n",
              " array([0]),\n",
              " array([0]),\n",
              " array([1399]),\n",
              " array([1]),\n",
              " array([1]),\n",
              " array([825]),\n",
              " array([1]),\n",
              " array([1]),\n",
              " array([864]),\n",
              " array([1]),\n",
              " array([880]),\n",
              " array([0]),\n",
              " array([1]),\n",
              " array([1]),\n",
              " array([1]),\n",
              " array([1]),\n",
              " array([0]),\n",
              " array([740]),\n",
              " array([1029]),\n",
              " array([1008]),\n",
              " array([0]),\n",
              " array([0]),\n",
              " array([1]),\n",
              " array([1090]),\n",
              " array([0]),\n",
              " array([1]),\n",
              " array([1]),\n",
              " array([1]),\n",
              " array([1058]),\n",
              " array([1066]),\n",
              " array([1]),\n",
              " array([1072]),\n",
              " array([0]),\n",
              " array([1]),\n",
              " array([0]),\n",
              " array([933]),\n",
              " array([1]),\n",
              " array([0]),\n",
              " array([900]),\n",
              " array([944]),\n",
              " array([1]),\n",
              " array([1]),\n",
              " array([0]),\n",
              " array([0]),\n",
              " array([0]),\n",
              " array([1]),\n",
              " array([1]),\n",
              " array([945]),\n",
              " array([0]),\n",
              " array([966]),\n",
              " array([0]),\n",
              " array([1]),\n",
              " array([1]),\n",
              " array([981]),\n",
              " array([1]),\n",
              " array([1]),\n",
              " array([1]),\n",
              " array([1]),\n",
              " array([907]),\n",
              " array([1]),\n",
              " array([1]),\n",
              " array([932]),\n",
              " array([931]),\n",
              " array([930]),\n",
              " array([927]),\n",
              " array([1]),\n",
              " array([1]),\n",
              " array([1]),\n",
              " array([913]),\n",
              " array([1]),\n",
              " array([1]),\n",
              " array([1]),\n",
              " array([1062]),\n",
              " array([1]),\n",
              " array([1]),\n",
              " array([0]),\n",
              " array([1]),\n",
              " array([1053]),\n",
              " array([1]),\n",
              " array([1051]),\n",
              " array([1101]),\n",
              " array([1]),\n",
              " array([0]),\n",
              " array([1]),\n",
              " array([0]),\n",
              " array([1087]),\n",
              " array([0]),\n",
              " array([1085]),\n",
              " array([0]),\n",
              " array([1014]),\n",
              " array([1007]),\n",
              " array([1005]),\n",
              " array([996]),\n",
              " array([1042]),\n",
              " array([1032]),\n",
              " array([1031]),\n",
              " array([1]),\n",
              " array([0]),\n",
              " array([1023]),\n",
              " array([743]),\n",
              " array([739]),\n",
              " array([1]),\n",
              " array([1]),\n",
              " array([1]),\n",
              " array([1]),\n",
              " array([771]),\n",
              " array([0]),\n",
              " array([1]),\n",
              " array([756]),\n",
              " array([754]),\n",
              " array([0]),\n",
              " array([1]),\n",
              " array([1]),\n",
              " array([1]),\n",
              " array([1]),\n",
              " array([1]),\n",
              " array([1]),\n",
              " array([1]),\n",
              " array([0]),\n",
              " array([1]),\n",
              " array([0]),\n",
              " array([0]),\n",
              " array([699]),\n",
              " array([693]),\n",
              " array([774]),\n",
              " array([1]),\n",
              " array([1]),\n",
              " array([1]),\n",
              " array([1]),\n",
              " array([845]),\n",
              " array([0]),\n",
              " array([837]),\n",
              " array([1]),\n",
              " array([1]),\n",
              " array([1]),\n",
              " array([1]),\n",
              " array([0]),\n",
              " array([868]),\n",
              " array([1]),\n",
              " array([861]),\n",
              " array([796]),\n",
              " array([795]),\n",
              " array([1]),\n",
              " array([0]),\n",
              " array([0]),\n",
              " array([779]),\n",
              " array([777]),\n",
              " array([0]),\n",
              " array([0]),\n",
              " array([815]),\n",
              " array([1]),\n",
              " array([1]),\n",
              " array([1]),\n",
              " array([1]),\n",
              " array([1392]),\n",
              " array([1]),\n",
              " array([1]),\n",
              " array([1]),\n",
              " array([1381]),\n",
              " array([0]),\n",
              " array([1]),\n",
              " array([0]),\n",
              " array([1429]),\n",
              " array([1424]),\n",
              " array([1]),\n",
              " array([1]),\n",
              " array([1409]),\n",
              " array([0]),\n",
              " array([0]),\n",
              " array([1]),\n",
              " array([1]),\n",
              " array([1332]),\n",
              " array([1331]),\n",
              " array([0]),\n",
              " array([1327]),\n",
              " array([1]),\n",
              " array([0]),\n",
              " array([0]),\n",
              " array([0]),\n",
              " array([0]),\n",
              " array([1366]),\n",
              " array([1]),\n",
              " array([1]),\n",
              " array([0]),\n",
              " array([1]),\n",
              " array([1510]),\n",
              " array([0]),\n",
              " array([1]),\n",
              " array([1]),\n",
              " array([1497]),\n",
              " array([1]),\n",
              " array([1]),\n",
              " array([1526]),\n",
              " array([1525]),\n",
              " array([0]),\n",
              " array([0]),\n",
              " array([1]),\n",
              " array([0]),\n",
              " array([1]),\n",
              " array([1454]),\n",
              " array([0]),\n",
              " array([1]),\n",
              " array([0]),\n",
              " array([0]),\n",
              " array([0]),\n",
              " array([1436]),\n",
              " array([0]),\n",
              " array([1461]),\n",
              " array([1]),\n",
              " array([1]),\n",
              " array([1485]),\n",
              " array([0]),\n",
              " array([0]),\n",
              " array([0]),\n",
              " array([1]),\n",
              " array([1165]),\n",
              " array([1211]),\n",
              " array([1]),\n",
              " array([1]),\n",
              " array([1]),\n",
              " array([1]),\n",
              " array([1]),\n",
              " array([1]),\n",
              " array([1]),\n",
              " array([1]),\n",
              " array([1]),\n",
              " array([1110]),\n",
              " array([1]),\n",
              " array([0]),\n",
              " array([1]),\n",
              " array([1]),\n",
              " array([1156]),\n",
              " array([1]),\n",
              " array([1157]),\n",
              " array([1]),\n",
              " array([1143]),\n",
              " array([0]),\n",
              " array([0]),\n",
              " array([1]),\n",
              " array([0]),\n",
              " array([1283]),\n",
              " array([1]),\n",
              " array([1]),\n",
              " array([1]),\n",
              " array([1321]),\n",
              " array([0]),\n",
              " array([1318]),\n",
              " array([1]),\n",
              " array([1312]),\n",
              " array([1304]),\n",
              " array([1]),\n",
              " array([1]),\n",
              " array([1]),\n",
              " array([1]),\n",
              " array([1]),\n",
              " array([1]),\n",
              " array([0]),\n",
              " array([0]),\n",
              " array([0]),\n",
              " array([0]),\n",
              " array([1]),\n",
              " array([0]),\n",
              " array([1249]),\n",
              " array([1]),\n",
              " array([0]),\n",
              " array([111]),\n",
              " array([1]),\n",
              " array([1]),\n",
              " array([28]),\n",
              " array([1]),\n",
              " array([1]),\n",
              " array([0]),\n",
              " array([191]),\n",
              " array([185]),\n",
              " array([0]),\n",
              " array([143]),\n",
              " array([0]),\n",
              " array([0]),\n",
              " array([1]),\n",
              " array([146]),\n",
              " array([0]),\n",
              " array([1]),\n",
              " array([217]),\n",
              " array([0]),\n",
              " array([0]),\n",
              " array([1]),\n",
              " array([1]),\n",
              " array([1]),\n",
              " array([53]),\n",
              " array([0]),\n",
              " array([0]),\n",
              " array([207]),\n",
              " array([1]),\n",
              " array([1]),\n",
              " array([0]),\n",
              " array([183]),\n",
              " array([131]),\n",
              " array([1]),\n",
              " array([152]),\n",
              " array([1]),\n",
              " array([1]),\n",
              " array([1]),\n",
              " array([180]),\n",
              " array([1]),\n",
              " array([1]),\n",
              " array([0]),\n",
              " array([0]),\n",
              " array([1]),\n",
              " array([1]),\n",
              " array([1]),\n",
              " array([1]),\n",
              " array([0]),\n",
              " array([1]),\n",
              " array([11]),\n",
              " array([38]),\n",
              " array([0]),\n",
              " array([15]),\n",
              " array([0]),\n",
              " array([1]),\n",
              " array([1]),\n",
              " array([1]),\n",
              " array([0]),\n",
              " array([78]),\n",
              " array([58]),\n",
              " array([63]),\n",
              " array([66]),\n",
              " array([0]),\n",
              " array([0]),\n",
              " array([1]),\n",
              " array([529]),\n",
              " array([0]),\n",
              " array([1]),\n",
              " array([0]),\n",
              " array([1]),\n",
              " array([520]),\n",
              " array([546]),\n",
              " array([552]),\n",
              " array([1]),\n",
              " array([1]),\n",
              " array([540]),\n",
              " array([1]),\n",
              " array([0]),\n",
              " array([1]),\n",
              " array([463]),\n",
              " array([1]),\n",
              " array([0]),\n",
              " array([251]),\n",
              " array([0]),\n",
              " array([1]),\n",
              " array([1]),\n",
              " array([620]),\n",
              " array([616]),\n",
              " array([638]),\n",
              " array([0]),\n",
              " array([1]),\n",
              " array([0]),\n",
              " array([0]),\n",
              " array([646]),\n",
              " array([1]),\n",
              " array([612]),\n",
              " array([1]),\n",
              " array([0]),\n",
              " array([576]),\n",
              " array([574]),\n",
              " array([573]),\n",
              " array([1]),\n",
              " array([0]),\n",
              " array([0]),\n",
              " array([603]),\n",
              " array([610]),\n",
              " array([592]),\n",
              " array([1]),\n",
              " array([457]),\n",
              " array([316]),\n",
              " array([0]),\n",
              " array([1]),\n",
              " array([1]),\n",
              " array([1]),\n",
              " array([0]),\n",
              " array([1]),\n",
              " array([1]),\n",
              " array([341]),\n",
              " array([1]),\n",
              " array([1]),\n",
              " array([334]),\n",
              " array([0]),\n",
              " array([302]),\n",
              " array([1]),\n",
              " array([1]),\n",
              " array([268]),\n",
              " array([267]),\n",
              " array([1]),\n",
              " array([260]),\n",
              " array([1]),\n",
              " array([1]),\n",
              " array([1]),\n",
              " array([0]),\n",
              " array([0]),\n",
              " array([0]),\n",
              " array([286]),\n",
              " array([280]),\n",
              " array([0]),\n",
              " array([1]),\n",
              " array([423]),\n",
              " array([1]),\n",
              " array([1]),\n",
              " array([1]),\n",
              " array([1]),\n",
              " array([1]),\n",
              " array([1]),\n",
              " array([0]),\n",
              " array([1]),\n",
              " array([434]),\n",
              " array([375]),\n",
              " array([0]),\n",
              " array([364]),\n",
              " array([363]),\n",
              " array([0]),\n",
              " array([397]),\n",
              " array([395]),\n",
              " array([1]),\n",
              " array([1]),\n",
              " array([1]),\n",
              " array([0]),\n",
              " array([0]),\n",
              " array([1]),\n",
              " array([0]),\n",
              " array([0]),\n",
              " array([2973]),\n",
              " array([3004]),\n",
              " array([3002]),\n",
              " array([2999]),\n",
              " array([1]),\n",
              " array([2997]),\n",
              " array([3006]),\n",
              " array([1]),\n",
              " array([0]),\n",
              " array([1]),\n",
              " array([2942]),\n",
              " array([0]),\n",
              " array([1]),\n",
              " array([2901]),\n",
              " array([2894]),\n",
              " array([1]),\n",
              " array([2891]),\n",
              " array([1]),\n",
              " array([1]),\n",
              " array([1]),\n",
              " array([2879]),\n",
              " array([0]),\n",
              " array([1]),\n",
              " array([2936]),\n",
              " array([1]),\n",
              " array([1]),\n",
              " array([2925]),\n",
              " array([0]),\n",
              " array([0]),\n",
              " array([1]),\n",
              " array([1]),\n",
              " array([3123]),\n",
              " array([1]),\n",
              " array([3102]),\n",
              " array([1]),\n",
              " array([0]),\n",
              " array([1]),\n",
              " array([1]),\n",
              " array([1]),\n",
              " array([3083]),\n",
              " array([1]),\n",
              " array([3081]),\n",
              " array([1]),\n",
              " array([1]),\n",
              " array([3135]),\n",
              " array([1]),\n",
              " array([0]),\n",
              " array([3121]),\n",
              " array([3120]),\n",
              " array([1]),\n",
              " array([0]),\n",
              " array([0]),\n",
              " array([3036]),\n",
              " array([1]),\n",
              " array([1]),\n",
              " array([1]),\n",
              " array([0]),\n",
              " array([1]),\n",
              " array([3025]),\n",
              " array([3022]),\n",
              " array([1]),\n",
              " array([3015]),\n",
              " array([0]),\n",
              " array([3071]),\n",
              " array([3070]),\n",
              " array([3068]),\n",
              " array([3063]),\n",
              " array([1]),\n",
              " array([3060]),\n",
              " array([3059]),\n",
              " array([0]),\n",
              " array([1]),\n",
              " array([0]),\n",
              " array([0]),\n",
              " array([1]),\n",
              " array([3050]),\n",
              " array([1]),\n",
              " array([1]),\n",
              " array([1]),\n",
              " array([3043]),\n",
              " array([1]),\n",
              " array([2876]),\n",
              " array([1]),\n",
              " array([2704]),\n",
              " array([1]),\n",
              " array([2697]),\n",
              " array([2695]),\n",
              " array([2693]),\n",
              " array([2690]),\n",
              " array([0]),\n",
              " array([0]),\n",
              " array([0]),\n",
              " array([2679]),\n",
              " array([2678]),\n",
              " array([2706]),\n",
              " array([2707]),\n",
              " array([1]),\n",
              " array([2709]),\n",
              " array([1]),\n",
              " array([1]),\n",
              " array([2725]),\n",
              " array([2721]),\n",
              " array([2720]),\n",
              " array([2715]),\n",
              " array([1]),\n",
              " array([1]),\n",
              " array([1]),\n",
              " array([2616]),\n",
              " array([0]),\n",
              " array([2640]),\n",
              " array([1]),\n",
              " array([0]),\n",
              " array([1]),\n",
              " array([2667]),\n",
              " array([1]),\n",
              " array([2664]),\n",
              " array([2663]),\n",
              " array([2661]),\n",
              " array([0]),\n",
              " array([2658]),\n",
              " array([2654]),\n",
              " array([1]),\n",
              " array([2653]),\n",
              " array([0]),\n",
              " array([0]),\n",
              " array([1]),\n",
              " array([2743]),\n",
              " array([1]),\n",
              " array([2820]),\n",
              " array([1]),\n",
              " array([2814]),\n",
              " array([1]),\n",
              " array([1]),\n",
              " array([0]),\n",
              " array([1]),\n",
              " array([1]),\n",
              " array([2865]),\n",
              " array([1]),\n",
              " array([1]),\n",
              " array([1]),\n",
              " array([1]),\n",
              " array([1]),\n",
              " array([2848]),\n",
              " array([2847]),\n",
              " array([2846]),\n",
              " array([1]),\n",
              " array([1]),\n",
              " array([1]),\n",
              " array([2808]),\n",
              " array([1]),\n",
              " array([2774]),\n",
              " array([1]),\n",
              " array([2761]),\n",
              " array([2760]),\n",
              " array([0]),\n",
              " array([1]),\n",
              " array([1]),\n",
              " array([0]),\n",
              " array([0]),\n",
              " array([2805]),\n",
              " array([2800]),\n",
              " array([0]),\n",
              " array([1]),\n",
              " array([1]),\n",
              " array([2784]),\n",
              " array([0]),\n",
              " array([1]),\n",
              " array([2778]),\n",
              " array([2874]),\n",
              " array([1]),\n",
              " array([3406]),\n",
              " array([1]),\n",
              " array([3497]),\n",
              " array([3494]),\n",
              " array([0]),\n",
              " array([3490]),\n",
              " array([1]),\n",
              " array([1]),\n",
              " array([3475]),\n",
              " array([3505]),\n",
              " array([3536]),\n",
              " array([0]),\n",
              " array([1]),\n",
              " array([1]),\n",
              " array([3528]),\n",
              " array([1]),\n",
              " array([1]),\n",
              " array([1]),\n",
              " array([0]),\n",
              " array([0]),\n",
              " array([1]),\n",
              " array([1]),\n",
              " array([3513]),\n",
              " array([0]),\n",
              " array([3511]),\n",
              " array([1]),\n",
              " array([0]),\n",
              " array([0]),\n",
              " array([1]),\n",
              " array([1]),\n",
              " array([1]),\n",
              " array([1]),\n",
              " array([1]),\n",
              " array([1]),\n",
              " array([1]),\n",
              " array([0]),\n",
              " array([3419]),\n",
              " array([3418]),\n",
              " array([3416]),\n",
              " array([0]),\n",
              " array([1]),\n",
              " array([1]),\n",
              " array([3441]),\n",
              " array([3466]),\n",
              " array([3463]),\n",
              " array([1]),\n",
              " array([0]),\n",
              " array([0]),\n",
              " array([0]),\n",
              " array([1]),\n",
              " array([1]),\n",
              " array([3451]),\n",
              " array([3449]),\n",
              " array([3443]),\n",
              " array([3522]),\n",
              " array([3629]),\n",
              " array([3626]),\n",
              " array([1]),\n",
              " array([0]),\n",
              " array([1]),\n",
              " array([1]),\n",
              " array([1]),\n",
              " array([3608]),\n",
              " array([1]),\n",
              " array([3638]),\n",
              " array([3670]),\n",
              " array([1]),\n",
              " array([1]),\n",
              " array([3671]),\n",
              " array([3656]),\n",
              " array([0]),\n",
              " array([0]),\n",
              " array([1]),\n",
              " array([3644]),\n",
              " array([1]),\n",
              " array([1]),\n",
              " array([3567]),\n",
              " array([3566]),\n",
              " array([3564]),\n",
              " array([3561]),\n",
              " array([3560]),\n",
              " array([0]),\n",
              " array([3548]),\n",
              " array([3547]),\n",
              " array([3545]),\n",
              " array([1]),\n",
              " array([1]),\n",
              " array([3601]),\n",
              " array([3599]),\n",
              " array([3593]),\n",
              " array([0]),\n",
              " array([1]),\n",
              " array([1]),\n",
              " array([0]),\n",
              " array([3580]),\n",
              " array([3578]),\n",
              " array([3576]),\n",
              " array([0]),\n",
              " array([1]),\n",
              " array([0]),\n",
              " array([1]),\n",
              " array([0]),\n",
              " array([1]),\n",
              " array([3221]),\n",
              " array([0]),\n",
              " array([1]),\n",
              " array([1]),\n",
              " array([3210]),\n",
              " array([3209]),\n",
              " array([3267]),\n",
              " array([3266]),\n",
              " array([3262]),\n",
              " array([3272]),\n",
              " array([0]),\n",
              " array([1]),\n",
              " array([1]),\n",
              " array([0]),\n",
              " array([3248]),\n",
              " array([1]),\n",
              " array([0]),\n",
              " array([1]),\n",
              " array([3170]),\n",
              " array([3163]),\n",
              " array([1]),\n",
              " array([3156]),\n",
              " array([3153]),\n",
              " array([0]),\n",
              " array([1]),\n",
              " array([3203]),\n",
              " array([1]),\n",
              " array([1]),\n",
              " array([1]),\n",
              " array([0]),\n",
              " array([3191]),\n",
              " array([0]),\n",
              " array([3185]),\n",
              " array([3184]),\n",
              " array([1]),\n",
              " array([0]),\n",
              " array([3275]),\n",
              " array([0]),\n",
              " array([0]),\n",
              " array([1]),\n",
              " array([1]),\n",
              " array([0]),\n",
              " array([3359]),\n",
              " array([3358]),\n",
              " array([1]),\n",
              " array([1]),\n",
              " array([3354]),\n",
              " array([1]),\n",
              " array([0]),\n",
              " array([1]),\n",
              " array([1]),\n",
              " array([3402]),\n",
              " array([1]),\n",
              " array([1]),\n",
              " array([3391]),\n",
              " array([3405]),\n",
              " array([1]),\n",
              " array([1]),\n",
              " array([3385]),\n",
              " array([1]),\n",
              " array([1]),\n",
              " array([0]),\n",
              " array([1]),\n",
              " array([0]),\n",
              " array([0]),\n",
              " array([3306]),\n",
              " array([0]),\n",
              " array([1]),\n",
              " array([3303]),\n",
              " array([3301]),\n",
              " array([3293]),\n",
              " array([1]),\n",
              " array([3288]),\n",
              " array([0]),\n",
              " array([0]),\n",
              " array([1]),\n",
              " array([3305]),\n",
              " array([1]),\n",
              " array([3337]),\n",
              " array([1]),\n",
              " array([0]),\n",
              " array([3331]),\n",
              " array([3330]),\n",
              " array([1]),\n",
              " array([1]),\n",
              " array([0]),\n",
              " array([3314]),\n",
              " array([1]),\n",
              " array([0]),\n",
              " array([2609]),\n",
              " array([0]),\n",
              " array([0]),\n",
              " array([1]),\n",
              " array([1]),\n",
              " array([1]),\n",
              " array([1897]),\n",
              " array([1]),\n",
              " array([1890]),\n",
              " array([1]),\n",
              " array([0]),\n",
              " array([1911]),\n",
              " array([1938]),\n",
              " array([0]),\n",
              " array([1]),\n",
              " array([1931]),\n",
              " array([1929]),\n",
              " array([1928]),\n",
              " array([1]),\n",
              " array([1]),\n",
              " array([0]),\n",
              " array([1917]),\n",
              " array([1877]),\n",
              " array([1]),\n",
              " array([1828]),\n",
              " array([1]),\n",
              " array([1]),\n",
              " array([0]),\n",
              " array([0]),\n",
              " array([1813]),\n",
              " array([1]),\n",
              " array([1]),\n",
              " array([1868]),\n",
              " array([0]),\n",
              " array([0]),\n",
              " array([1]),\n",
              " array([1859]),\n",
              " array([1926]),\n",
              " array([0]),\n",
              " array([1945]),\n",
              " array([2036]),\n",
              " array([2035]),\n",
              " array([0]),\n",
              " array([1]),\n",
              " array([0]),\n",
              " array([2022]),\n",
              " array([0]),\n",
              " array([1]),\n",
              " array([2017]),\n",
              " array([2014]),\n",
              " array([2043]),\n",
              " array([2044]),\n",
              " array([2073]),\n",
              " array([2066]),\n",
              " array([1]),\n",
              " array([2062]),\n",
              " array([0]),\n",
              " array([1]),\n",
              " array([1]),\n",
              " array([2046]),\n",
              " array([0]),\n",
              " array([0]),\n",
              " array([1]),\n",
              " array([1]),\n",
              " array([1]),\n",
              " array([1960]),\n",
              " array([1]),\n",
              " array([1]),\n",
              " array([1]),\n",
              " array([1]),\n",
              " array([0]),\n",
              " array([1953]),\n",
              " array([1952]),\n",
              " array([0]),\n",
              " array([1]),\n",
              " array([1]),\n",
              " array([2004]),\n",
              " array([0]),\n",
              " array([1]),\n",
              " array([2000]),\n",
              " array([1999]),\n",
              " array([0]),\n",
              " array([1]),\n",
              " array([1987]),\n",
              " array([1986]),\n",
              " array([1]),\n",
              " array([0]),\n",
              " array([0]),\n",
              " array([1943]),\n",
              " array([0]),\n",
              " array([1]),\n",
              " array([1]),\n",
              " array([0]),\n",
              " ...]"
            ]
          },
          "metadata": {
            "tags": []
          },
          "execution_count": 58
        }
      ]
    },
    {
      "cell_type": "markdown",
      "metadata": {
        "id": "SmFw8ud1luIS",
        "colab_type": "text"
      },
      "source": [
        "## Run Prediction and Compute Error and Accuracy"
      ]
    },
    {
      "cell_type": "markdown",
      "metadata": {
        "id": "qLvcpq8pluIU",
        "colab_type": "text"
      },
      "source": [
        "### Decision Tree  "
      ]
    },
    {
      "cell_type": "code",
      "metadata": {
        "id": "YMHSpkSVluIU",
        "colab_type": "code",
        "outputId": "68ea4457-a56c-44ef-aa30-e1b1c0a55ba8",
        "colab": {
          "base_uri": "https://localhost:8080/",
          "height": 634
        }
      },
      "source": [
        "\n",
        "from IPython.display import Image  \n",
        "from sklearn.externals.six import StringIO\n",
        "from sklearn.tree import DecisionTreeClassifier\n",
        "from sklearn.tree import export_graphviz\n",
        "import pydot\n",
        "dot_data = StringIO()  \n",
        "dtree=DecisionTreeClassifier()\n",
        "features = list(dfs_train_sensa.columns[14])\n",
        "from sklearn.metrics import accuracy_score\n",
        "#features = array.reshape(-1, 1)\n",
        "\n",
        "\n",
        "dtree.fit(x_train,y_train)\n",
        "y_pred=dtree.predict(x_test)\n",
        "cnfmtx=confusion_matrix(y_test,y_pred)\n",
        "print(\"Classification \\n\", classification_report(y_test,y_pred))\n",
        "print(\"Confusion matrix:\\n\",cnfmtx)\n",
        "print('Accuracy score is:')\n",
        "print(accuracy_score(y_test,y_pred))\n",
        "\n",
        "sns.heatmap(cnfmtx,annot=True)"
      ],
      "execution_count": 59,
      "outputs": [
        {
          "output_type": "stream",
          "text": [
            "Classification \n",
            "               precision    recall  f1-score   support\n",
            "\n",
            "           0       0.00      0.00      0.00       553\n",
            "           1       0.56      1.00      0.72       714\n",
            "\n",
            "    accuracy                           0.56      1267\n",
            "   macro avg       0.28      0.50      0.36      1267\n",
            "weighted avg       0.32      0.56      0.41      1267\n",
            "\n",
            "Confusion matrix:\n",
            " [[  0 553]\n",
            " [  0 714]]\n",
            "Accuracy score is:\n",
            "0.56353591160221\n"
          ],
          "name": "stdout"
        },
        {
          "output_type": "stream",
          "text": [
            "/usr/local/lib/python3.6/dist-packages/sklearn/externals/six.py:31: DeprecationWarning: The module is deprecated in version 0.21 and will be removed in version 0.23 since we've dropped support for Python 2.7. Please rely on the official version of six (https://pypi.org/project/six/).\n",
            "  \"(https://pypi.org/project/six/).\", DeprecationWarning)\n",
            "/usr/local/lib/python3.6/dist-packages/sklearn/metrics/classification.py:1437: UndefinedMetricWarning: Precision and F-score are ill-defined and being set to 0.0 in labels with no predicted samples.\n",
            "  'precision', 'predicted', average, warn_for)\n"
          ],
          "name": "stderr"
        },
        {
          "output_type": "execute_result",
          "data": {
            "text/plain": [
              "<matplotlib.axes._subplots.AxesSubplot at 0x7f1eb06a8400>"
            ]
          },
          "metadata": {
            "tags": []
          },
          "execution_count": 59
        },
        {
          "output_type": "display_data",
          "data": {
            "image/png": "[encoded data removed]",
            "text/plain": [
              "<Figure size 432x288 with 2 Axes>"
            ]
          },
          "metadata": {
            "tags": []
          }
        }
      ]
    },
    {
      "cell_type": "markdown",
      "metadata": {
        "id": "704ELF7HluIX",
        "colab_type": "text"
      },
      "source": [
        "### Naive Bayes"
      ]
    },
    {
      "cell_type": "code",
      "metadata": {
        "scrolled": true,
        "id": "YOaiqkLjluIY",
        "colab_type": "code",
        "outputId": "41a03945-87a7-4525-81a3-0d10807b4346",
        "colab": {
          "base_uri": "https://localhost:8080/",
          "height": 357
        }
      },
      "source": [
        "from sklearn.linear_model import LogisticRegression\n",
        "from sklearn.metrics import classification_report,confusion_matrix\n",
        "from sklearn.metrics import mean_squared_error, r2_score, mean_absolute_error\n",
        "from sklearn.naive_bayes import GaussianNB\n",
        "from sklearn.metrics import accuracy_score\n",
        "import warnings\n",
        "warnings.filterwarnings('ignore')\n",
        "gnb = GaussianNB()\n",
        "gnb.fit(x_train,y_train)\n",
        "y_pred = gnb.predict(x_test)\n",
        "print(\"Classification \\n\", classification_report(y_test,y_pred))\n",
        "cnfmtx=confusion_matrix(y_test,y_pred)\n",
        "print(\"Confusion matrix:\\n\",cnfmtx)\n",
        "\n",
        "print(\"Mean squared error: %.2f\" %mean_squared_error(y_test, y_pred))\n",
        "print(\"Mean absolute error: %.2f\" %mean_absolute_error(y_test, y_pred))\n",
        "print('Root Mean Squared Error: %.2f ' %np.sqrt(mean_squared_error(y_test, y_pred)))"
      ],
      "execution_count": 60,
      "outputs": [
        {
          "output_type": "stream",
          "text": [
            "Classification \n",
            "               precision    recall  f1-score   support\n",
            "\n",
            "           0       0.00      0.00      0.00     553.0\n",
            "           1       0.00      0.00      0.00     714.0\n",
            "           2       0.00      0.00      0.00       0.0\n",
            "           5       0.00      0.00      0.00       0.0\n",
            "\n",
            "    accuracy                           0.00    1267.0\n",
            "   macro avg       0.00      0.00      0.00    1267.0\n",
            "weighted avg       0.00      0.00      0.00    1267.0\n",
            "\n",
            "Confusion matrix:\n",
            " [[  0   0 553   0]\n",
            " [  0   0   0 714]\n",
            " [  0   0   0   0]\n",
            " [  0   0   0   0]]\n",
            "Mean squared error: 10.76\n",
            "Mean absolute error: 3.13\n",
            "Root Mean Squared Error: 3.28 \n"
          ],
          "name": "stdout"
        }
      ]
    },
    {
      "cell_type": "markdown",
      "metadata": {
        "id": "ztQ6LiwzluIa",
        "colab_type": "text"
      },
      "source": [
        "### Support Vector Machine"
      ]
    },
    {
      "cell_type": "code",
      "metadata": {
        "id": "IzPBPXiKluIa",
        "colab_type": "code",
        "outputId": "22f2549e-b761-4a05-875d-7884403f0969",
        "colab": {
          "base_uri": "https://localhost:8080/",
          "height": 272
        }
      },
      "source": [
        "#SVM\n",
        "from sklearn.model_selection import train_test_split\n",
        "from sklearn.svm import SVC\n",
        "from sklearn.metrics import classification_report,confusion_matrix\n",
        "model = SVC()\n",
        "model.fit(x_train,y_train)\n",
        "predictions = model.predict(x_test)\n",
        "print(classification_report(y_test,predictions))\n",
        "cnfmtx=confusion_matrix(y_test,predictions)\n",
        "print(\"Confusion matrix:\\n\",cnfmtx)\n",
        "\n",
        "print(\"Mean squared error: %.2f\" %mean_squared_error(y_test, predictions))\n",
        "print(\"Mean absolute error: %.2f\" %mean_absolute_error(y_test, predictions))\n",
        "print('Root Mean Squared Error: %.2f ' %np.sqrt(mean_squared_error(y_test, predictions)))"
      ],
      "execution_count": 61,
      "outputs": [
        {
          "output_type": "stream",
          "text": [
            "              precision    recall  f1-score   support\n",
            "\n",
            "           0       0.00      0.00      0.00       553\n",
            "           1       0.56      1.00      0.72       714\n",
            "\n",
            "    accuracy                           0.56      1267\n",
            "   macro avg       0.28      0.50      0.36      1267\n",
            "weighted avg       0.32      0.56      0.41      1267\n",
            "\n",
            "Confusion matrix:\n",
            " [[  0 553]\n",
            " [  0 714]]\n",
            "Mean squared error: 0.44\n",
            "Mean absolute error: 0.44\n",
            "Root Mean Squared Error: 0.66 \n"
          ],
          "name": "stdout"
        }
      ]
    },
    {
      "cell_type": "markdown",
      "metadata": {
        "id": "F2LdpFGtluId",
        "colab_type": "text"
      },
      "source": [
        "### Random Forest"
      ]
    },
    {
      "cell_type": "code",
      "metadata": {
        "id": "HL1t_YLbluId",
        "colab_type": "code",
        "outputId": "65c2179b-2319-48e3-df12-58406771baf5",
        "colab": {
          "base_uri": "https://localhost:8080/",
          "height": 306
        }
      },
      "source": [
        "#Random Forest\n",
        "from sklearn.ensemble import RandomForestClassifier\n",
        "from numpy.core.umath_tests import inner1d\n",
        "rfc=RandomForestClassifier(n_estimators=100)\n",
        "rfc.fit(x_train,y_train)\n",
        "rfc_pred=rfc.predict(x_test)\n",
        "print(classification_report(y_test,rfc_pred))\n",
        "cnfmtx=confusion_matrix(y_test,rfc_pred)\n",
        "print(\"Confusion matrix:\\n\",cnfmtx)\n",
        "\n",
        "print(\"Mean squared error: %.2f\" %mean_squared_error(y_test, rfc_pred))\n",
        "print(\"Mean absolute error: %.2f\" %mean_absolute_error(y_test, rfc_pred))\n",
        "print('Root Mean Squared Error: %.2f ' %np.sqrt(mean_squared_error(y_test, rfc_pred)))\n",
        "print(\"Accuracy \",accuracy_score(y_test,rfc_pred))\n",
        "\n",
        "#plot 1 tree\n",
        "#tree = rfc.estimators_[5]\n",
        "#export_graphviz(tree, out_file = 'tree.dot', feature_names = features, rounded = True, precision = 1)\n",
        "#(graph, ) = pydot.graph_from_dot_file('tree.dot')\n",
        "#Image(graph.create_png())\n",
        "\n",
        "\n",
        "#get important features\n",
        "# Get numerical feature importances\n",
        "importances = list(rfc.feature_importances_)\n",
        "print(importances)\n",
        "#features = count(list(dfs_train_sensa.columns[15:18]))\n",
        "#print(features)\n",
        "# List of tuples with variable and importance\n",
        "feature_importances = [(feature, round(importance, 2)) for feature, importance in zip(features, importances)]\n",
        "# Sort the feature importances by most important first\n",
        "feature_importances = sorted(feature_importances, key = lambda x: x[1], reverse = True)\n",
        "# Print out the feature and importances \n",
        "#[print('Variable: {:20} Importance: {}'.format(*pair)) for pair in feature_importances];\n",
        "\n",
        "#plot important features\n",
        "#x_values = list(range(len(importances)))\n",
        "# Make a bar chart\n",
        "#plt.bar(x_values, importances, orientation = 'vertical')\n",
        "# Tick labels for x axis\n",
        "#plt.xticks(x_values, features, rotation='vertical')\n",
        "# Axis labels and title\n",
        "#plt.ylabel('Importance'); plt.xlabel('Variable'); plt.title('Variable Importances');"
      ],
      "execution_count": 62,
      "outputs": [
        {
          "output_type": "stream",
          "text": [
            "              precision    recall  f1-score   support\n",
            "\n",
            "           0       0.00      0.00      0.00       553\n",
            "           1       0.56      1.00      0.72       714\n",
            "\n",
            "    accuracy                           0.56      1267\n",
            "   macro avg       0.28      0.50      0.36      1267\n",
            "weighted avg       0.32      0.56      0.41      1267\n",
            "\n",
            "Confusion matrix:\n",
            " [[  0 553]\n",
            " [  0 714]]\n",
            "Mean squared error: 0.44\n",
            "Mean absolute error: 0.44\n",
            "Root Mean Squared Error: 0.66 \n",
            "Accuracy  0.56353591160221\n",
            "[1.0]\n"
          ],
          "name": "stdout"
        }
      ]
    },
    {
      "cell_type": "markdown",
      "metadata": {
        "id": "7AgW3RmcluIf",
        "colab_type": "text"
      },
      "source": [
        "### Observation and Inference:\n",
        "\n",
        "Political affiliation is efficient when we consider the verdict, statements and ploitical affiliation column together. \n",
        "But this is not sufficient to test the fake news. So I can assign around 20% weightage to political affiliation.\n",
        "so the equation would be \n",
        " #### 0.2*(result from random forest/naive bayes)\n"
      ]
    }
  ]
}