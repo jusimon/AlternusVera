{
  "nbformat": 4,
  "nbformat_minor": 0,
  "metadata": {
    "kernelspec": {
      "display_name": "Python 3",
      "language": "python",
      "name": "python3"
    },
    "language_info": {
      "codemirror_mode": {
        "name": "ipython",
        "version": 3
      },
      "file_extension": ".py",
      "mimetype": "text/x-python",
      "name": "python",
      "nbconvert_exporter": "python",
      "pygments_lexer": "ipython3",
      "version": "3.7.3"
    },
    "colab": {
      "name": "AlternusVera_Political_Affiliation.ipynb",
      "provenance": [],
      "collapsed_sections": [],
      "include_colab_link": true
    }
  },
  "cells": [
    {
      "cell_type": "markdown",
      "metadata": {
        "id": "view-in-github",
        "colab_type": "text"
      },
      "source": [
        "<a href=\"https://colab.research.google.com/github/jusimon/AlternusVera/blob/master/AlternusVera_Political_Affiliation2.ipynb\" target=\"_parent\"><img src=\"https://colab.research.google.com/assets/colab-badge.svg\" alt=\"Open In Colab\"/></a>"
      ]
    },
    {
      "cell_type": "markdown",
      "metadata": {
        "id": "vWRY5XKdwYbm",
        "colab_type": "text"
      },
      "source": [
        "#### Alternus Vera \n",
        "\n",
        "Course code : **CMPE-257** \n",
        "    \n",
        "Group name : **Drifters**\n",
        "    \n",
        "Name: **Julian S. Simon (013793273)** \n",
        "\n",
        "-----\n",
        "\n",
        "GitHub URL: \n",
        "\n",
        "\n",
        "### Liar Liar Pants on Fire Dataset Description \n",
        "- It has 3 files test, training and valid.\n",
        "- Each file has 14 columns\n",
        "    \n",
        "    Column 1: the ID of the statement ([ID].json).\n",
        "    \n",
        "    Column 2: the label.\n",
        "    \n",
        "    Column 3: the statement.\n",
        "    \n",
        "    Column 4: the subject(s).\n",
        "    \n",
        "    Column 5: the speaker.\n",
        "    \n",
        "    Column 6: the speaker's job title.\n",
        "    \n",
        "    Column 7: the state info.\n",
        "    \n",
        "    Column 8: the party affiliation.\n",
        "    \n",
        "    Column 9-13: the total credit history count, including the current statement.\n",
        "    \n",
        "    Column 14: the context (venue / location of the speech or statement).\n",
        "\n",
        "### Process of My Approach \n",
        "- Load the Data\n",
        "- Distillation Process\n",
        "    - Data Cleaning and Text Preprocessing\n",
        "    - Visualization\n",
        "    - Lemmatization\n",
        "    - Stemming\n",
        "    - Spell Check\n",
        "    - Dictionary check\n",
        "- **Feature 1 :** Political affiliation\n",
        "    - LDA Topic Modelling\n",
        "    - Doc2Vec \n",
        "    - TF-IDF\n",
        "    - LDA using TF-IDF\n",
        "    - Sentiment analysis \n",
        "- Rating \n",
        "- Vectorization\n",
        "- Merge all features and individual contributions\n",
        "- Form Polynomial Equation \n",
        "    \n",
        "\n",
        "### Feature Selection\n",
        "- **Polical Affiliation**\n",
        "- **Bias**\n",
        "- **Sensational Analysis**\n",
        "- **Credibility**\n",
        "\n",
        "\n",
        "### Team Contributions example:\n",
        "\n",
        "|Features  |  Member |\n",
        "|-----|-----|\n",
        "| Political Affiliation                  |  Julian S. Simon |  \n",
        "| Bias                                   |  ViswanathSingh Kambam | \n",
        "| Sensational Analysis                   |  Paramdeep Saini |   \n",
        "| Credibility                            |  Rajalakshmi Babu |\n",
        "\n",
        " \n",
        "#### Enrichment Dataset Details\n",
        "\n",
        "  - Sensational Words Dictionary\n",
        "  - PoliticalFact Fake news and Real News Content\n",
        "  - Spam Dictionary\n",
        "  - Kaggle Data (https://www.kaggle.com/kapastor/democratvsrepublicantweets)\n",
        "\n",
        "#### Libraries Used \n",
        "\n",
        "- NLTK \n",
        "- Gensim \n",
        "- Numpy\n",
        "- Pandas\n",
        "- CSV\n",
        "- WordCloud\n",
        "- Seaborn\n",
        "- Scipy\n",
        "- Regualr Expression\n",
        "- Matplotlib\n",
        "- Sklearn \n",
        "\n",
        "#### Political Affiliation\n",
        "Political affiliation is nothing but having official connection to a news by a party. Political affliation towards certain political parties, political leaders can influence fake news origin. An unbiased view on media reports requires an understanding of the political bias of media content. \n",
        "\n",
        "#### What did I try and What worked? \n",
        "\n",
        "To begin with we had to understand the dataset. So, I have divided the dataset into test and train. The dataset had number of columns and every column was interrelated with each other. So, I decided to visualize the dataset to understand it better. From the political affiliation column, the party with the highest number of news is arranged in the decending order to findout the party which has more news. The labels are plotted against the highest number of party so that it is easy to findout how each each parities can influence the fake new detection. TF-IDF, Word2Vec and Doc2Vec approach using the dictionary of words and its polarity for vectorization. Sentimental analysis is applied on the bag of words to find the positive negative and neutral analysis. This scores are mapped to the get the fake news detection. \n",
        "\n",
        "#### What did not work?\n",
        "\n",
        "Using political affiliation alone as a feature did not yield a great result. As explained about analysing with sentimental analysis gives the better result. The accuracy found by this model seems be at around 44% in average run of different algorithms such as Linear Regression, Random Forest and Naive Bayes. \n",
        "\n"
      ]
    },
    {
      "cell_type": "code",
      "metadata": {
        "id": "8GkTlA7-wYbp",
        "colab_type": "code",
        "colab": {}
      },
      "source": [
        "## ignore warnings\n",
        "def warn(*args, **kwargs):\n",
        "    pass\n",
        "import warnings\n",
        "warnings.warn = warn"
      ],
      "execution_count": 0,
      "outputs": []
    },
    {
      "cell_type": "markdown",
      "metadata": {
        "id": "HbMt3fJMwYbw",
        "colab_type": "text"
      },
      "source": [
        "### Data selection and observations"
      ]
    },
    {
      "cell_type": "code",
      "metadata": {
        "id": "2Atcz-4VwYbx",
        "colab_type": "code",
        "colab": {}
      },
      "source": [
        "import numpy as np\n",
        "import pandas as pd\n",
        "import csv\n",
        "import seaborn as sns; sns.set() \n",
        "from sklearn.cluster import KMeans\n",
        "import matplotlib.pyplot as plt\n",
        "from sklearn.metrics import classification_report,confusion_matrix\n",
        "from sklearn.metrics import mean_squared_error, r2_score, mean_absolute_error"
      ],
      "execution_count": 0,
      "outputs": []
    },
    {
      "cell_type": "code",
      "metadata": {
        "id": "gGuwhSWuoUUE",
        "colab_type": "code",
        "colab": {}
      },
      "source": [
        ""
      ],
      "execution_count": 0,
      "outputs": []
    },
    {
      "cell_type": "code",
      "metadata": {
        "id": "HyE6R4Sexubd",
        "colab_type": "code",
        "outputId": "1943225e-b850-48f5-ec06-526a903e9df0",
        "colab": {
          "base_uri": "https://localhost:8080/",
          "height": 34
        }
      },
      "source": [
        "from google.colab import drive\n",
        "from pydrive.auth import GoogleAuth\n",
        "from pydrive.drive import GoogleDrive\n",
        "from google.colab import auth\n",
        "from oauth2client.client import GoogleCredentials\n",
        "# Authenticate and create the PyDrive client.\n",
        "auth.authenticate_user()\n",
        "gauth = GoogleAuth()\n",
        "gauth.credentials = GoogleCredentials.get_application_default()\n",
        "googleDrive = GoogleDrive(gauth)\n",
        "drive.mount('/content/gdrive')\n",
        "\n",
        "pd.set_option('display.max_columns', 500)"
      ],
      "execution_count": 3,
      "outputs": [
        {
          "output_type": "stream",
          "text": [
            "Drive already mounted at /content/gdrive; to attempt to forcibly remount, call drive.mount(\"/content/gdrive\", force_remount=True).\n"
          ],
          "name": "stdout"
        }
      ]
    },
    {
      "cell_type": "code",
      "metadata": {
        "id": "8WlIRLBrx8TJ",
        "colab_type": "code",
        "outputId": "e2db714f-de77-4933-88b7-aeb6c4a4a118",
        "colab": {
          "base_uri": "https://localhost:8080/",
          "height": 34
        }
      },
      "source": [
        "train_link = \"https://drive.google.com/open?id=1uYRl81ky2XUIrENCpmZr3IB_48cEuiWp\"\n",
        "fluff, id1 = train_link.split('=')\n",
        "test_link = \"https://drive.google.com/open?id=1_xQWkwm-ZD0NR824TH_eTyIYzW79uvyZ\"\n",
        "fluff, id2 = test_link.split('=')\n",
        "valid_link = \"https://drive.google.com/open?id=1gaS9R-PQvER5DE1dAgh7z6v4u_euIvrO\"\n",
        "fluff, id3 = valid_link.split('=')\n",
        "valid_link = \"https://drive.google.com/open?id=1qvdtBzhmA65E4-veWwx0_bkxaMem50V0\"\n",
        "fluff, id4 = valid_link.split('=')\n",
        "train_bodies = \"https://drive.google.com/open?id=1fo74P-p-zwqDNypVxefc0hch0UX-qdGg\"\n",
        "fluff, id5 = train_bodies.split('=')\n",
        "ucinews = \"https://drive.google.com/open?id=1tz6i1Y45GyubVYzzkBWDRnDZDkG6u8i1\"\n",
        "fluff, id6 = ucinews.split('=')\n",
        "print (id1) # Verify that you have everything after '='"
      ],
      "execution_count": 4,
      "outputs": [
        {
          "output_type": "stream",
          "text": [
            "1uYRl81ky2XUIrENCpmZr3IB_48cEuiWp\n"
          ],
          "name": "stdout"
        }
      ]
    },
    {
      "cell_type": "markdown",
      "metadata": {
        "id": "8SMIWrBrwYb0",
        "colab_type": "text"
      },
      "source": [
        "### Load the dataset"
      ]
    },
    {
      "cell_type": "code",
      "metadata": {
        "id": "iMr3DKROwYb0",
        "colab_type": "code",
        "colab": {}
      },
      "source": [
        "test_filename = 'test.tsv'\n",
        "train_filename = 'train.tsv'\n",
        "valid_filename = 'valid.tsv'\n",
        "\n",
        "train_party = 'partyTweets.csv'\n",
        "uci_news = 'uci-news-aggregator.csv'"
      ],
      "execution_count": 0,
      "outputs": []
    },
    {
      "cell_type": "code",
      "metadata": {
        "id": "g3XJBDAoyB0Y",
        "colab_type": "code",
        "colab": {}
      },
      "source": [
        "downloaded = googleDrive.CreateFile({'id':id1}) \n",
        "downloaded.GetContentFile(train_filename)  \n",
        "downloaded = googleDrive.CreateFile({'id':id2}) \n",
        "downloaded.GetContentFile(test_filename)  \n",
        "downloaded = googleDrive.CreateFile({'id':id3}) \n",
        "downloaded.GetContentFile(valid_filename)\n",
        "\n",
        "downloaded = googleDrive.CreateFile({'id':id4}) \n",
        "downloaded.GetContentFile(train_party)  \n",
        "downloaded = googleDrive.CreateFile({'id':id6}) \n",
        "downloaded.GetContentFile(uci_news)\n"
      ],
      "execution_count": 0,
      "outputs": []
    },
    {
      "cell_type": "markdown",
      "metadata": {
        "id": "2b-_kyy9wYb3",
        "colab_type": "text"
      },
      "source": [
        "### Define Column names in Dataset"
      ]
    },
    {
      "cell_type": "code",
      "metadata": {
        "id": "oyLnDYuNwYb3",
        "colab_type": "code",
        "colab": {}
      },
      "source": [
        "Colnames = ['Json_Id', 'Label', 'Statement', 'Subject', 'SpeakerName',\n",
        "           'JobTitle', 'StateInfo', 'partyAffiliation',\n",
        "           'BarelyTrueCounts', 'FalseCounts','HalfTrueCounts',\n",
        "           'MostlyTrueCounts','PantsOnFireCounts','Context']\n",
        "#labelcolname = 'Label'\n",
        "titlecolname = 'partyAffiliation'"
      ],
      "execution_count": 0,
      "outputs": []
    },
    {
      "cell_type": "code",
      "metadata": {
        "id": "enifPbtOwYb6",
        "colab_type": "code",
        "colab": {}
      },
      "source": [
        "import matplotlib.pyplot as plt\n",
        "import matplotlib.pyplot as mp\n",
        "##Printing the rod cloud\n",
        "from PIL import Image\n",
        "from wordcloud import WordCloud, STOPWORDS  #install $ pip install wordcloud\n",
        "\n",
        "\n",
        "def plot_wordcloud(text, mask=None, max_words=200, max_font_size=100, figure_size=(12.0,8.0), \n",
        "                   title = None, title_size=20, image_color=False):\n",
        "    stopwords = set(STOPWORDS)\n",
        "    more_stopwords = {'one', 'br', 'Po', 'th', 'sayi', 'fo', 'Unknown'}\n",
        "    stopwords = stopwords.union(more_stopwords)\n",
        "\n",
        "    wordcloud = WordCloud(background_color='white',\n",
        "                    stopwords = stopwords,\n",
        "                    max_words = max_words,\n",
        "                    max_font_size = max_font_size, \n",
        "                    random_state = 42,\n",
        "                    width=800, \n",
        "                    height=400,\n",
        "                    mask = mask)\n",
        "    wordcloud.generate(str(text))\n",
        "    \n",
        "    mp.figure(figsize=figure_size)\n",
        "    if image_color:\n",
        "        image_colors = ImageColorGenerator(mask);\n",
        "        mp.imshow(wordcloud.recolor(color_func=image_colors), interpolation=\"bilinear\");\n",
        "        mp.title(title, fontdict={'size': title_size,  \n",
        "                                  'verticalalignment': 'top'})\n",
        "    else:\n",
        "        mp.imshow(wordcloud);\n",
        "        mp.title(title, fontdict={'size': title_size, 'color': 'black', \n",
        "                                  'verticalalignment': 'bottom'})\n",
        "    mp.axis('off');\n",
        "    mp.tight_layout()  "
      ],
      "execution_count": 0,
      "outputs": []
    },
    {
      "cell_type": "code",
      "metadata": {
        "id": "Sw9UflD2wYb8",
        "colab_type": "code",
        "colab": {}
      },
      "source": [
        "def create_word_cloud(dataframe, colname, title):\n",
        "    plot_wordcloud(dataframe[colname].dropna(),  max_words=300000, max_font_size=300, title=title)"
      ],
      "execution_count": 0,
      "outputs": []
    },
    {
      "cell_type": "markdown",
      "metadata": {
        "id": "Jic87gAYwYb_",
        "colab_type": "text"
      },
      "source": [
        "### Reading the Dataset"
      ]
    },
    {
      "cell_type": "code",
      "metadata": {
        "id": "2Q9G010PwYcA",
        "colab_type": "code",
        "outputId": "e8bcbe93-ab63-46e9-a7ce-d86d63f5a245",
        "colab": {
          "base_uri": "https://localhost:8080/",
          "height": 598
        }
      },
      "source": [
        "train_news = pd.read_csv(train_filename, sep='\\t', names = Colnames,error_bad_lines=False)\n",
        "test_news = pd.read_csv(test_filename, sep='\\t', names = Colnames,error_bad_lines=False)\n",
        "valid_news = pd.read_csv(valid_filename, sep='\\t', names = Colnames,error_bad_lines=False)\n",
        "\n",
        "train_news.head()"
      ],
      "execution_count": 10,
      "outputs": [
        {
          "output_type": "execute_result",
          "data": {
            "text/html": [
              "<div>\n",
              "<style scoped>\n",
              "    .dataframe tbody tr th:only-of-type {\n",
              "        vertical-align: middle;\n",
              "    }\n",
              "\n",
              "    .dataframe tbody tr th {\n",
              "        vertical-align: top;\n",
              "    }\n",
              "\n",
              "    .dataframe thead th {\n",
              "        text-align: right;\n",
              "    }\n",
              "</style>\n",
              "<table border=\"1\" class=\"dataframe\">\n",
              "  <thead>\n",
              "    <tr style=\"text-align: right;\">\n",
              "      <th></th>\n",
              "      <th>Json_Id</th>\n",
              "      <th>Label</th>\n",
              "      <th>Statement</th>\n",
              "      <th>Subject</th>\n",
              "      <th>SpeakerName</th>\n",
              "      <th>JobTitle</th>\n",
              "      <th>StateInfo</th>\n",
              "      <th>partyAffiliation</th>\n",
              "      <th>BarelyTrueCounts</th>\n",
              "      <th>FalseCounts</th>\n",
              "      <th>HalfTrueCounts</th>\n",
              "      <th>MostlyTrueCounts</th>\n",
              "      <th>PantsOnFireCounts</th>\n",
              "      <th>Context</th>\n",
              "    </tr>\n",
              "  </thead>\n",
              "  <tbody>\n",
              "    <tr>\n",
              "      <th>0</th>\n",
              "      <td>2635.json</td>\n",
              "      <td>false</td>\n",
              "      <td>Says the Annies List political group supports ...</td>\n",
              "      <td>abortion</td>\n",
              "      <td>dwayne-bohac</td>\n",
              "      <td>State representative</td>\n",
              "      <td>Texas</td>\n",
              "      <td>republican</td>\n",
              "      <td>0.0</td>\n",
              "      <td>1.0</td>\n",
              "      <td>0.0</td>\n",
              "      <td>0.0</td>\n",
              "      <td>0.0</td>\n",
              "      <td>a mailer</td>\n",
              "    </tr>\n",
              "    <tr>\n",
              "      <th>1</th>\n",
              "      <td>10540.json</td>\n",
              "      <td>half-true</td>\n",
              "      <td>When did the decline of coal start? It started...</td>\n",
              "      <td>energy,history,job-accomplishments</td>\n",
              "      <td>scott-surovell</td>\n",
              "      <td>State delegate</td>\n",
              "      <td>Virginia</td>\n",
              "      <td>democrat</td>\n",
              "      <td>0.0</td>\n",
              "      <td>0.0</td>\n",
              "      <td>1.0</td>\n",
              "      <td>1.0</td>\n",
              "      <td>0.0</td>\n",
              "      <td>a floor speech.</td>\n",
              "    </tr>\n",
              "    <tr>\n",
              "      <th>2</th>\n",
              "      <td>324.json</td>\n",
              "      <td>mostly-true</td>\n",
              "      <td>Hillary Clinton agrees with John McCain \"by vo...</td>\n",
              "      <td>foreign-policy</td>\n",
              "      <td>barack-obama</td>\n",
              "      <td>President</td>\n",
              "      <td>Illinois</td>\n",
              "      <td>democrat</td>\n",
              "      <td>70.0</td>\n",
              "      <td>71.0</td>\n",
              "      <td>160.0</td>\n",
              "      <td>163.0</td>\n",
              "      <td>9.0</td>\n",
              "      <td>Denver</td>\n",
              "    </tr>\n",
              "    <tr>\n",
              "      <th>3</th>\n",
              "      <td>1123.json</td>\n",
              "      <td>false</td>\n",
              "      <td>Health care reform legislation is likely to ma...</td>\n",
              "      <td>health-care</td>\n",
              "      <td>blog-posting</td>\n",
              "      <td>NaN</td>\n",
              "      <td>NaN</td>\n",
              "      <td>none</td>\n",
              "      <td>7.0</td>\n",
              "      <td>19.0</td>\n",
              "      <td>3.0</td>\n",
              "      <td>5.0</td>\n",
              "      <td>44.0</td>\n",
              "      <td>a news release</td>\n",
              "    </tr>\n",
              "    <tr>\n",
              "      <th>4</th>\n",
              "      <td>9028.json</td>\n",
              "      <td>half-true</td>\n",
              "      <td>The economic turnaround started at the end of ...</td>\n",
              "      <td>economy,jobs</td>\n",
              "      <td>charlie-crist</td>\n",
              "      <td>NaN</td>\n",
              "      <td>Florida</td>\n",
              "      <td>democrat</td>\n",
              "      <td>15.0</td>\n",
              "      <td>9.0</td>\n",
              "      <td>20.0</td>\n",
              "      <td>19.0</td>\n",
              "      <td>2.0</td>\n",
              "      <td>an interview on CNN</td>\n",
              "    </tr>\n",
              "  </tbody>\n",
              "</table>\n",
              "</div>"
            ],
            "text/plain": [
              "      Json_Id        Label                                          Statement  \\\n",
              "0   2635.json        false  Says the Annies List political group supports ...   \n",
              "1  10540.json    half-true  When did the decline of coal start? It started...   \n",
              "2    324.json  mostly-true  Hillary Clinton agrees with John McCain \"by vo...   \n",
              "3   1123.json        false  Health care reform legislation is likely to ma...   \n",
              "4   9028.json    half-true  The economic turnaround started at the end of ...   \n",
              "\n",
              "                              Subject     SpeakerName              JobTitle  \\\n",
              "0                            abortion    dwayne-bohac  State representative   \n",
              "1  energy,history,job-accomplishments  scott-surovell        State delegate   \n",
              "2                      foreign-policy    barack-obama             President   \n",
              "3                         health-care    blog-posting                   NaN   \n",
              "4                        economy,jobs   charlie-crist                   NaN   \n",
              "\n",
              "  StateInfo partyAffiliation  BarelyTrueCounts  FalseCounts  HalfTrueCounts  \\\n",
              "0     Texas       republican               0.0          1.0             0.0   \n",
              "1  Virginia         democrat               0.0          0.0             1.0   \n",
              "2  Illinois         democrat              70.0         71.0           160.0   \n",
              "3       NaN             none               7.0         19.0             3.0   \n",
              "4   Florida         democrat              15.0          9.0            20.0   \n",
              "\n",
              "   MostlyTrueCounts  PantsOnFireCounts              Context  \n",
              "0               0.0                0.0             a mailer  \n",
              "1               1.0                0.0      a floor speech.  \n",
              "2             163.0                9.0               Denver  \n",
              "3               5.0               44.0       a news release  \n",
              "4              19.0                2.0  an interview on CNN  "
            ]
          },
          "metadata": {
            "tags": []
          },
          "execution_count": 10
        }
      ]
    },
    {
      "cell_type": "markdown",
      "metadata": {
        "id": "uvpDoFhCwYcD",
        "colab_type": "text"
      },
      "source": [
        "### Simplifying the label contents"
      ]
    },
    {
      "cell_type": "code",
      "metadata": {
        "id": "VxZkul5DwYcE",
        "colab_type": "code",
        "outputId": "c41932e3-9d59-404f-aa98-061161aab02a",
        "colab": {
          "base_uri": "https://localhost:8080/",
          "height": 598
        }
      },
      "source": [
        "true_labels = ['original','true','mostly-true','half-true']\n",
        "false_labels = ['barely-true','false','pants-fire']\n",
        "def simplify_label(input_label):\n",
        "    if input_label in true_labels:\n",
        "        return 1\n",
        "    else:\n",
        "        return 0\n",
        "labelcolname = 'Encoded_Label'\n",
        "\n",
        "train_news[labelcolname] = train_news.apply(lambda row: simplify_label(row['Label']), axis=1)\n",
        "test_news[labelcolname] = test_news.apply(lambda row: simplify_label(row['Label']), axis=1)\n",
        "valid_news[labelcolname] = valid_news.apply(lambda row: simplify_label(row['Label']), axis=1)\n",
        "train_news.head()"
      ],
      "execution_count": 11,
      "outputs": [
        {
          "output_type": "execute_result",
          "data": {
            "text/html": [
              "<div>\n",
              "<style scoped>\n",
              "    .dataframe tbody tr th:only-of-type {\n",
              "        vertical-align: middle;\n",
              "    }\n",
              "\n",
              "    .dataframe tbody tr th {\n",
              "        vertical-align: top;\n",
              "    }\n",
              "\n",
              "    .dataframe thead th {\n",
              "        text-align: right;\n",
              "    }\n",
              "</style>\n",
              "<table border=\"1\" class=\"dataframe\">\n",
              "  <thead>\n",
              "    <tr style=\"text-align: right;\">\n",
              "      <th></th>\n",
              "      <th>Json_Id</th>\n",
              "      <th>Label</th>\n",
              "      <th>Statement</th>\n",
              "      <th>Subject</th>\n",
              "      <th>SpeakerName</th>\n",
              "      <th>JobTitle</th>\n",
              "      <th>StateInfo</th>\n",
              "      <th>partyAffiliation</th>\n",
              "      <th>BarelyTrueCounts</th>\n",
              "      <th>FalseCounts</th>\n",
              "      <th>HalfTrueCounts</th>\n",
              "      <th>MostlyTrueCounts</th>\n",
              "      <th>PantsOnFireCounts</th>\n",
              "      <th>Context</th>\n",
              "      <th>Encoded_Label</th>\n",
              "    </tr>\n",
              "  </thead>\n",
              "  <tbody>\n",
              "    <tr>\n",
              "      <th>0</th>\n",
              "      <td>2635.json</td>\n",
              "      <td>false</td>\n",
              "      <td>Says the Annies List political group supports ...</td>\n",
              "      <td>abortion</td>\n",
              "      <td>dwayne-bohac</td>\n",
              "      <td>State representative</td>\n",
              "      <td>Texas</td>\n",
              "      <td>republican</td>\n",
              "      <td>0.0</td>\n",
              "      <td>1.0</td>\n",
              "      <td>0.0</td>\n",
              "      <td>0.0</td>\n",
              "      <td>0.0</td>\n",
              "      <td>a mailer</td>\n",
              "      <td>0</td>\n",
              "    </tr>\n",
              "    <tr>\n",
              "      <th>1</th>\n",
              "      <td>10540.json</td>\n",
              "      <td>half-true</td>\n",
              "      <td>When did the decline of coal start? It started...</td>\n",
              "      <td>energy,history,job-accomplishments</td>\n",
              "      <td>scott-surovell</td>\n",
              "      <td>State delegate</td>\n",
              "      <td>Virginia</td>\n",
              "      <td>democrat</td>\n",
              "      <td>0.0</td>\n",
              "      <td>0.0</td>\n",
              "      <td>1.0</td>\n",
              "      <td>1.0</td>\n",
              "      <td>0.0</td>\n",
              "      <td>a floor speech.</td>\n",
              "      <td>1</td>\n",
              "    </tr>\n",
              "    <tr>\n",
              "      <th>2</th>\n",
              "      <td>324.json</td>\n",
              "      <td>mostly-true</td>\n",
              "      <td>Hillary Clinton agrees with John McCain \"by vo...</td>\n",
              "      <td>foreign-policy</td>\n",
              "      <td>barack-obama</td>\n",
              "      <td>President</td>\n",
              "      <td>Illinois</td>\n",
              "      <td>democrat</td>\n",
              "      <td>70.0</td>\n",
              "      <td>71.0</td>\n",
              "      <td>160.0</td>\n",
              "      <td>163.0</td>\n",
              "      <td>9.0</td>\n",
              "      <td>Denver</td>\n",
              "      <td>1</td>\n",
              "    </tr>\n",
              "    <tr>\n",
              "      <th>3</th>\n",
              "      <td>1123.json</td>\n",
              "      <td>false</td>\n",
              "      <td>Health care reform legislation is likely to ma...</td>\n",
              "      <td>health-care</td>\n",
              "      <td>blog-posting</td>\n",
              "      <td>NaN</td>\n",
              "      <td>NaN</td>\n",
              "      <td>none</td>\n",
              "      <td>7.0</td>\n",
              "      <td>19.0</td>\n",
              "      <td>3.0</td>\n",
              "      <td>5.0</td>\n",
              "      <td>44.0</td>\n",
              "      <td>a news release</td>\n",
              "      <td>0</td>\n",
              "    </tr>\n",
              "    <tr>\n",
              "      <th>4</th>\n",
              "      <td>9028.json</td>\n",
              "      <td>half-true</td>\n",
              "      <td>The economic turnaround started at the end of ...</td>\n",
              "      <td>economy,jobs</td>\n",
              "      <td>charlie-crist</td>\n",
              "      <td>NaN</td>\n",
              "      <td>Florida</td>\n",
              "      <td>democrat</td>\n",
              "      <td>15.0</td>\n",
              "      <td>9.0</td>\n",
              "      <td>20.0</td>\n",
              "      <td>19.0</td>\n",
              "      <td>2.0</td>\n",
              "      <td>an interview on CNN</td>\n",
              "      <td>1</td>\n",
              "    </tr>\n",
              "  </tbody>\n",
              "</table>\n",
              "</div>"
            ],
            "text/plain": [
              "      Json_Id        Label                                          Statement  \\\n",
              "0   2635.json        false  Says the Annies List political group supports ...   \n",
              "1  10540.json    half-true  When did the decline of coal start? It started...   \n",
              "2    324.json  mostly-true  Hillary Clinton agrees with John McCain \"by vo...   \n",
              "3   1123.json        false  Health care reform legislation is likely to ma...   \n",
              "4   9028.json    half-true  The economic turnaround started at the end of ...   \n",
              "\n",
              "                              Subject     SpeakerName              JobTitle  \\\n",
              "0                            abortion    dwayne-bohac  State representative   \n",
              "1  energy,history,job-accomplishments  scott-surovell        State delegate   \n",
              "2                      foreign-policy    barack-obama             President   \n",
              "3                         health-care    blog-posting                   NaN   \n",
              "4                        economy,jobs   charlie-crist                   NaN   \n",
              "\n",
              "  StateInfo partyAffiliation  BarelyTrueCounts  FalseCounts  HalfTrueCounts  \\\n",
              "0     Texas       republican               0.0          1.0             0.0   \n",
              "1  Virginia         democrat               0.0          0.0             1.0   \n",
              "2  Illinois         democrat              70.0         71.0           160.0   \n",
              "3       NaN             none               7.0         19.0             3.0   \n",
              "4   Florida         democrat              15.0          9.0            20.0   \n",
              "\n",
              "   MostlyTrueCounts  PantsOnFireCounts              Context  Encoded_Label  \n",
              "0               0.0                0.0             a mailer              0  \n",
              "1               1.0                0.0      a floor speech.              1  \n",
              "2             163.0                9.0               Denver              1  \n",
              "3               5.0               44.0       a news release              0  \n",
              "4              19.0                2.0  an interview on CNN              1  "
            ]
          },
          "metadata": {
            "tags": []
          },
          "execution_count": 11
        }
      ]
    },
    {
      "cell_type": "markdown",
      "metadata": {
        "id": "LnCOWTaqwYcH",
        "colab_type": "text"
      },
      "source": [
        "## Data Preprocessing\n",
        "We will perform the following steps:\n",
        "\n",
        "* All stopwords are removed.\n",
        "* Words that have fewer than 3 characters are removed.\n",
        "* Words are lemmatized — words in third person are changed to first person and verbs in past and future tenses are changed into present.\n",
        "* Words are stemmed — words are reduced to their root form.\n",
        "* Tokenization: Split the text into sentences and the sentences into words. Lowercase the words and remove punctuation."
      ]
    },
    {
      "cell_type": "code",
      "metadata": {
        "id": "PhtK00ctwYcI",
        "colab_type": "code",
        "outputId": "ac7801b4-2d99-48b2-dfc1-3ebdbbdc2ff1",
        "colab": {
          "base_uri": "https://localhost:8080/",
          "height": 85
        }
      },
      "source": [
        "import string\n",
        "import gensim\n",
        "from gensim.utils import simple_preprocess\n",
        "from gensim.parsing.preprocessing import STOPWORDS\n",
        "from nltk.corpus import stopwords\n",
        "from nltk.stem import WordNetLemmatizer, SnowballStemmer\n",
        "from nltk.stem.porter import *\n",
        "import numpy as np\n",
        "np.random.seed(2018)\n",
        "import nltk\n",
        "nltk.download('wordnet')\n",
        "nltk.download('stopwords')\n",
        "stemmer = SnowballStemmer('english')"
      ],
      "execution_count": 12,
      "outputs": [
        {
          "output_type": "stream",
          "text": [
            "[nltk_data] Downloading package wordnet to /root/nltk_data...\n",
            "[nltk_data]   Package wordnet is already up-to-date!\n",
            "[nltk_data] Downloading package stopwords to /root/nltk_data...\n",
            "[nltk_data]   Package stopwords is already up-to-date!\n"
          ],
          "name": "stdout"
        }
      ]
    },
    {
      "cell_type": "markdown",
      "metadata": {
        "id": "i2WW4fUdwYcL",
        "colab_type": "text"
      },
      "source": [
        "### Remove Stopwords and shortwords using nltk stopwords"
      ]
    },
    {
      "cell_type": "code",
      "metadata": {
        "id": "2wA2hsJUwYcL",
        "colab_type": "code",
        "colab": {}
      },
      "source": [
        "sw = stopwords.words('english')\n",
        "#Remove stop words\n",
        "def remove_stop_and_short_words(text):\n",
        "    text = [word.lower() for word in text.split() if (word.lower() not in sw) and (len(word)>3)]\n",
        "    return \" \".join(text)\n",
        "\n",
        "def remove_stop_and_short_words_new(text):\n",
        "    result = []\n",
        "    for token in gensim.utils.simple_preprocess(text):\n",
        "        if token not in gensim.parsing.preprocessing.STOPWORDS and len(token) > 3:\n",
        "            result.append(lemmatize_stemming(token))\n",
        "    return \" \".join(result)"
      ],
      "execution_count": 0,
      "outputs": []
    },
    {
      "cell_type": "markdown",
      "metadata": {
        "id": "McP9DIVzwYcP",
        "colab_type": "text"
      },
      "source": [
        "### Perform lemmatization and Stemming process using WordNetLemmatizer"
      ]
    },
    {
      "cell_type": "code",
      "metadata": {
        "id": "skl2JMfhwYcQ",
        "colab_type": "code",
        "colab": {}
      },
      "source": [
        "def lemmatize_stemming(text):\n",
        "    return stemmer.stem(WordNetLemmatizer().lemmatize(text, pos='v'))\n",
        "\n",
        "#Removes punctuations from text data\n",
        "def remove_punctuation(text):\n",
        "    translator = str.maketrans('', '', string.punctuation)\n",
        "    return text.translate(translator)"
      ],
      "execution_count": 0,
      "outputs": []
    },
    {
      "cell_type": "markdown",
      "metadata": {
        "id": "VxR9aOAZwYcS",
        "colab_type": "text"
      },
      "source": [
        "### Preprocess text function"
      ]
    },
    {
      "cell_type": "code",
      "metadata": {
        "id": "EgRssGEwwYcS",
        "colab_type": "code",
        "colab": {}
      },
      "source": [
        "def process_data(text):\n",
        "    text = remove_stop_and_short_words_new(text)\n",
        "    text = lemmatize_stemming(text)\n",
        "    text = remove_punctuation(text)\n",
        "    return text\n",
        "\n",
        "def preprocess(text):\n",
        "    #result =[]\n",
        "    #result.append(process_data(text).split())\n",
        "    return process_data(text).split()"
      ],
      "execution_count": 0,
      "outputs": []
    },
    {
      "cell_type": "markdown",
      "metadata": {
        "id": "LtGabiBVwYcU",
        "colab_type": "text"
      },
      "source": [
        "### Just testing the preprocess "
      ]
    },
    {
      "cell_type": "code",
      "metadata": {
        "id": "MvRixaXMwYcV",
        "colab_type": "code",
        "outputId": "6c72f289-6606-4090-82f8-10ceb771cd21",
        "colab": {
          "base_uri": "https://localhost:8080/",
          "height": 51
        }
      },
      "source": [
        "print (process_data(train_news['Statement'][0]))\n",
        "#process_data(train_news['Statement'][4])\n",
        "preprocess(train_news['Statement'][4])"
      ],
      "execution_count": 16,
      "outputs": [
        {
          "output_type": "stream",
          "text": [
            "say anni list polit group support trimest abort demand\n"
          ],
          "name": "stdout"
        },
        {
          "output_type": "execute_result",
          "data": {
            "text/plain": [
              "['econom', 'turnaround', 'start', 'term']"
            ]
          },
          "metadata": {
            "tags": []
          },
          "execution_count": 16
        }
      ]
    },
    {
      "cell_type": "code",
      "metadata": {
        "id": "QHEc_LLOwYcX",
        "colab_type": "code",
        "outputId": "aa800a33-7b53-46a4-a07f-aea67c81f0bb",
        "colab": {
          "base_uri": "https://localhost:8080/",
          "height": 564
        }
      },
      "source": [
        "processedheadlinecolname = 'processed_Statement'\n",
        "\n",
        "train_news['index'] = train_news.index\n",
        "train_news[processedheadlinecolname] = train_news.apply(lambda row: process_data(row['Statement']), axis=1)\n",
        "train_news.head()\n",
        "\n",
        "test_news['index'] = test_news.index\n",
        "test_news[processedheadlinecolname] = test_news.apply(lambda row: process_data(row['Statement']), axis=1)\n",
        "test_news.head()\n",
        "\n",
        "valid_news['index'] = valid_news.index\n",
        "valid_news[processedheadlinecolname] = valid_news.apply(lambda row: process_data(row['Statement']), axis=1)\n",
        "valid_news.head()"
      ],
      "execution_count": 17,
      "outputs": [
        {
          "output_type": "execute_result",
          "data": {
            "text/html": [
              "<div>\n",
              "<style scoped>\n",
              "    .dataframe tbody tr th:only-of-type {\n",
              "        vertical-align: middle;\n",
              "    }\n",
              "\n",
              "    .dataframe tbody tr th {\n",
              "        vertical-align: top;\n",
              "    }\n",
              "\n",
              "    .dataframe thead th {\n",
              "        text-align: right;\n",
              "    }\n",
              "</style>\n",
              "<table border=\"1\" class=\"dataframe\">\n",
              "  <thead>\n",
              "    <tr style=\"text-align: right;\">\n",
              "      <th></th>\n",
              "      <th>Json_Id</th>\n",
              "      <th>Label</th>\n",
              "      <th>Statement</th>\n",
              "      <th>Subject</th>\n",
              "      <th>SpeakerName</th>\n",
              "      <th>JobTitle</th>\n",
              "      <th>StateInfo</th>\n",
              "      <th>partyAffiliation</th>\n",
              "      <th>BarelyTrueCounts</th>\n",
              "      <th>FalseCounts</th>\n",
              "      <th>HalfTrueCounts</th>\n",
              "      <th>MostlyTrueCounts</th>\n",
              "      <th>PantsOnFireCounts</th>\n",
              "      <th>Context</th>\n",
              "      <th>Encoded_Label</th>\n",
              "      <th>index</th>\n",
              "      <th>processed_Statement</th>\n",
              "    </tr>\n",
              "  </thead>\n",
              "  <tbody>\n",
              "    <tr>\n",
              "      <th>0</th>\n",
              "      <td>12134.json</td>\n",
              "      <td>barely-true</td>\n",
              "      <td>We have less Americans working now than in the...</td>\n",
              "      <td>economy,jobs</td>\n",
              "      <td>vicky-hartzler</td>\n",
              "      <td>U.S. Representative</td>\n",
              "      <td>Missouri</td>\n",
              "      <td>republican</td>\n",
              "      <td>1</td>\n",
              "      <td>0</td>\n",
              "      <td>1</td>\n",
              "      <td>0</td>\n",
              "      <td>0</td>\n",
              "      <td>an interview with ABC17 News</td>\n",
              "      <td>0</td>\n",
              "      <td>0</td>\n",
              "      <td>american work</td>\n",
              "    </tr>\n",
              "    <tr>\n",
              "      <th>1</th>\n",
              "      <td>238.json</td>\n",
              "      <td>pants-fire</td>\n",
              "      <td>When Obama was sworn into office, he DID NOT u...</td>\n",
              "      <td>obama-birth-certificate,religion</td>\n",
              "      <td>chain-email</td>\n",
              "      <td>NaN</td>\n",
              "      <td>NaN</td>\n",
              "      <td>none</td>\n",
              "      <td>11</td>\n",
              "      <td>43</td>\n",
              "      <td>8</td>\n",
              "      <td>5</td>\n",
              "      <td>105</td>\n",
              "      <td>NaN</td>\n",
              "      <td>0</td>\n",
              "      <td>1</td>\n",
              "      <td>obama swear offic holi bibl instead kuran equi...</td>\n",
              "    </tr>\n",
              "    <tr>\n",
              "      <th>2</th>\n",
              "      <td>7891.json</td>\n",
              "      <td>false</td>\n",
              "      <td>Says Having organizations parading as being so...</td>\n",
              "      <td>campaign-finance,congress,taxes</td>\n",
              "      <td>earl-blumenauer</td>\n",
              "      <td>U.S. representative</td>\n",
              "      <td>Oregon</td>\n",
              "      <td>democrat</td>\n",
              "      <td>0</td>\n",
              "      <td>1</td>\n",
              "      <td>1</td>\n",
              "      <td>1</td>\n",
              "      <td>0</td>\n",
              "      <td>a U.S. Ways and Means hearing</td>\n",
              "      <td>0</td>\n",
              "      <td>2</td>\n",
              "      <td>say have organ parad social welfar organ invol...</td>\n",
              "    </tr>\n",
              "    <tr>\n",
              "      <th>3</th>\n",
              "      <td>8169.json</td>\n",
              "      <td>half-true</td>\n",
              "      <td>Says nearly half of Oregons children are poor.</td>\n",
              "      <td>poverty</td>\n",
              "      <td>jim-francesconi</td>\n",
              "      <td>Member of the State Board of Higher Education</td>\n",
              "      <td>Oregon</td>\n",
              "      <td>none</td>\n",
              "      <td>0</td>\n",
              "      <td>1</td>\n",
              "      <td>1</td>\n",
              "      <td>1</td>\n",
              "      <td>0</td>\n",
              "      <td>an opinion article</td>\n",
              "      <td>1</td>\n",
              "      <td>3</td>\n",
              "      <td>say near half oregon children poor</td>\n",
              "    </tr>\n",
              "    <tr>\n",
              "      <th>4</th>\n",
              "      <td>929.json</td>\n",
              "      <td>half-true</td>\n",
              "      <td>On attacks by Republicans that various program...</td>\n",
              "      <td>economy,stimulus</td>\n",
              "      <td>barack-obama</td>\n",
              "      <td>President</td>\n",
              "      <td>Illinois</td>\n",
              "      <td>democrat</td>\n",
              "      <td>70</td>\n",
              "      <td>71</td>\n",
              "      <td>160</td>\n",
              "      <td>163</td>\n",
              "      <td>9</td>\n",
              "      <td>interview with CBS News</td>\n",
              "      <td>1</td>\n",
              "      <td>4</td>\n",
              "      <td>attack republican program econom stimulus plan...</td>\n",
              "    </tr>\n",
              "  </tbody>\n",
              "</table>\n",
              "</div>"
            ],
            "text/plain": [
              "      Json_Id        Label                                          Statement  \\\n",
              "0  12134.json  barely-true  We have less Americans working now than in the...   \n",
              "1    238.json   pants-fire  When Obama was sworn into office, he DID NOT u...   \n",
              "2   7891.json        false  Says Having organizations parading as being so...   \n",
              "3   8169.json    half-true     Says nearly half of Oregons children are poor.   \n",
              "4    929.json    half-true  On attacks by Republicans that various program...   \n",
              "\n",
              "                            Subject      SpeakerName  \\\n",
              "0                      economy,jobs   vicky-hartzler   \n",
              "1  obama-birth-certificate,religion      chain-email   \n",
              "2   campaign-finance,congress,taxes  earl-blumenauer   \n",
              "3                           poverty  jim-francesconi   \n",
              "4                  economy,stimulus     barack-obama   \n",
              "\n",
              "                                        JobTitle StateInfo partyAffiliation  \\\n",
              "0                            U.S. Representative  Missouri       republican   \n",
              "1                                            NaN       NaN             none   \n",
              "2                            U.S. representative    Oregon         democrat   \n",
              "3  Member of the State Board of Higher Education    Oregon             none   \n",
              "4                                      President  Illinois         democrat   \n",
              "\n",
              "   BarelyTrueCounts  FalseCounts  HalfTrueCounts  MostlyTrueCounts  \\\n",
              "0                 1            0               1                 0   \n",
              "1                11           43               8                 5   \n",
              "2                 0            1               1                 1   \n",
              "3                 0            1               1                 1   \n",
              "4                70           71             160               163   \n",
              "\n",
              "   PantsOnFireCounts                        Context  Encoded_Label  index  \\\n",
              "0                  0   an interview with ABC17 News              0      0   \n",
              "1                105                            NaN              0      1   \n",
              "2                  0  a U.S. Ways and Means hearing              0      2   \n",
              "3                  0             an opinion article              1      3   \n",
              "4                  9        interview with CBS News              1      4   \n",
              "\n",
              "                                 processed_Statement  \n",
              "0                                      american work  \n",
              "1  obama swear offic holi bibl instead kuran equi...  \n",
              "2  say have organ parad social welfar organ invol...  \n",
              "3                 say near half oregon children poor  \n",
              "4  attack republican program econom stimulus plan...  "
            ]
          },
          "metadata": {
            "tags": []
          },
          "execution_count": 17
        }
      ]
    },
    {
      "cell_type": "markdown",
      "metadata": {
        "id": "auwjrKnqwYca",
        "colab_type": "text"
      },
      "source": [
        "### Displaying the Party Affiliation Title data in different format using WordCloud\n",
        "This gives us the better display of the contents of column "
      ]
    },
    {
      "cell_type": "code",
      "metadata": {
        "id": "yS77HfDc9l75",
        "colab_type": "code",
        "outputId": "6cd2d693-a2a2-410d-e256-14390607cf7d",
        "colab": {
          "base_uri": "https://localhost:8080/",
          "height": 475
        }
      },
      "source": [
        "create_word_cloud(train_news,titlecolname,'WordCloud for Politiacal Affliation Title against Train')"
      ],
      "execution_count": 18,
      "outputs": [
        {
          "output_type": "display_data",
          "data": {
            "image/png": "[encoded data removed]",
            "text/plain": [
              "<Figure size 864x576 with 1 Axes>"
            ]
          },
          "metadata": {
            "tags": []
          }
        }
      ]
    },
    {
      "cell_type": "code",
      "metadata": {
        "colab_type": "code",
        "id": "dIxKlR7l-E5P",
        "outputId": "a1e0a9ae-c828-4401-b4b0-7d3a120b12bf",
        "colab": {
          "base_uri": "https://localhost:8080/",
          "height": 475
        }
      },
      "source": [
        "create_word_cloud(test_news,titlecolname,'WordCloud for Politiacal Affliation Title against Train')"
      ],
      "execution_count": 19,
      "outputs": [
        {
          "output_type": "display_data",
          "data": {
            "image/png": "[encoded data removed]",
            "text/plain": [
              "<Figure size 864x576 with 1 Axes>"
            ]
          },
          "metadata": {
            "tags": []
          }
        }
      ]
    },
    {
      "cell_type": "code",
      "metadata": {
        "colab_type": "code",
        "id": "7gy9Xx9m-Fd0",
        "outputId": "df33afde-9c64-43b3-f8cb-2fd6bb18ced0",
        "colab": {
          "base_uri": "https://localhost:8080/",
          "height": 475
        }
      },
      "source": [
        "create_word_cloud(valid_news,titlecolname,'WordCloud for Politiacal Affliation Title against Train')"
      ],
      "execution_count": 20,
      "outputs": [
        {
          "output_type": "display_data",
          "data": {
            "image/png": "[encoded data removed]",
            "text/plain": [
              "<Figure size 864x576 with 1 Axes>"
            ]
          },
          "metadata": {
            "tags": []
          }
        }
      ]
    },
    {
      "cell_type": "markdown",
      "metadata": {
        "id": "cAnOyq3UwYcs",
        "colab_type": "text"
      },
      "source": [
        "### Column choosed for Political Affiliationd Factor\n",
        "\n",
        "Choose Party Affiliation title as a parameter to find information that how much Party Affiliation can affect the label values.For example if the Party is republican, then the graph between speakers Party Affiliation vs label verifies whether speaker is saying the truth or not"
      ]
    },
    {
      "cell_type": "code",
      "metadata": {
        "id": "zwFJ3cZjwYcv",
        "colab_type": "code",
        "colab": {}
      },
      "source": [
        "X_train=train_news[titlecolname]\n",
        "Y_train=train_news[labelcolname]"
      ],
      "execution_count": 0,
      "outputs": []
    },
    {
      "cell_type": "markdown",
      "metadata": {
        "id": "e11_I7mRwYcz",
        "colab_type": "text"
      },
      "source": [
        "#### Exploring data through cross tabulation"
      ]
    },
    {
      "cell_type": "code",
      "metadata": {
        "id": "AywRpFs7wYc0",
        "colab_type": "code",
        "colab": {}
      },
      "source": [
        "CrossTab = pd.crosstab(X_train,Y_train,margins=True)"
      ],
      "execution_count": 0,
      "outputs": []
    },
    {
      "cell_type": "code",
      "metadata": {
        "id": "mSK6YyKiwYc6",
        "colab_type": "code",
        "outputId": "b276413b-46e3-45c7-c3f8-da726549c4f5",
        "colab": {
          "base_uri": "https://localhost:8080/",
          "height": 824
        }
      },
      "source": [
        "CrossTab.sort_values('All', ascending=False)"
      ],
      "execution_count": 23,
      "outputs": [
        {
          "output_type": "execute_result",
          "data": {
            "text/html": [
              "<div>\n",
              "<style scoped>\n",
              "    .dataframe tbody tr th:only-of-type {\n",
              "        vertical-align: middle;\n",
              "    }\n",
              "\n",
              "    .dataframe tbody tr th {\n",
              "        vertical-align: top;\n",
              "    }\n",
              "\n",
              "    .dataframe thead th {\n",
              "        text-align: right;\n",
              "    }\n",
              "</style>\n",
              "<table border=\"1\" class=\"dataframe\">\n",
              "  <thead>\n",
              "    <tr style=\"text-align: right;\">\n",
              "      <th>Encoded_Label</th>\n",
              "      <th>0</th>\n",
              "      <th>1</th>\n",
              "      <th>All</th>\n",
              "    </tr>\n",
              "    <tr>\n",
              "      <th>partyAffiliation</th>\n",
              "      <th></th>\n",
              "      <th></th>\n",
              "      <th></th>\n",
              "    </tr>\n",
              "  </thead>\n",
              "  <tbody>\n",
              "    <tr>\n",
              "      <th>All</th>\n",
              "      <td>4486</td>\n",
              "      <td>5752</td>\n",
              "      <td>10238</td>\n",
              "    </tr>\n",
              "    <tr>\n",
              "      <th>republican</th>\n",
              "      <td>2240</td>\n",
              "      <td>2257</td>\n",
              "      <td>4497</td>\n",
              "    </tr>\n",
              "    <tr>\n",
              "      <th>democrat</th>\n",
              "      <td>1127</td>\n",
              "      <td>2209</td>\n",
              "      <td>3336</td>\n",
              "    </tr>\n",
              "    <tr>\n",
              "      <th>none</th>\n",
              "      <td>856</td>\n",
              "      <td>888</td>\n",
              "      <td>1744</td>\n",
              "    </tr>\n",
              "    <tr>\n",
              "      <th>organization</th>\n",
              "      <td>112</td>\n",
              "      <td>107</td>\n",
              "      <td>219</td>\n",
              "    </tr>\n",
              "    <tr>\n",
              "      <th>independent</th>\n",
              "      <td>40</td>\n",
              "      <td>107</td>\n",
              "      <td>147</td>\n",
              "    </tr>\n",
              "    <tr>\n",
              "      <th>newsmaker</th>\n",
              "      <td>19</td>\n",
              "      <td>37</td>\n",
              "      <td>56</td>\n",
              "    </tr>\n",
              "    <tr>\n",
              "      <th>libertarian</th>\n",
              "      <td>13</td>\n",
              "      <td>27</td>\n",
              "      <td>40</td>\n",
              "    </tr>\n",
              "    <tr>\n",
              "      <th>activist</th>\n",
              "      <td>14</td>\n",
              "      <td>25</td>\n",
              "      <td>39</td>\n",
              "    </tr>\n",
              "    <tr>\n",
              "      <th>journalist</th>\n",
              "      <td>16</td>\n",
              "      <td>22</td>\n",
              "      <td>38</td>\n",
              "    </tr>\n",
              "    <tr>\n",
              "      <th>columnist</th>\n",
              "      <td>16</td>\n",
              "      <td>19</td>\n",
              "      <td>35</td>\n",
              "    </tr>\n",
              "    <tr>\n",
              "      <th>talk-show-host</th>\n",
              "      <td>15</td>\n",
              "      <td>11</td>\n",
              "      <td>26</td>\n",
              "    </tr>\n",
              "    <tr>\n",
              "      <th>state-official</th>\n",
              "      <td>2</td>\n",
              "      <td>18</td>\n",
              "      <td>20</td>\n",
              "    </tr>\n",
              "    <tr>\n",
              "      <th>labor-leader</th>\n",
              "      <td>5</td>\n",
              "      <td>6</td>\n",
              "      <td>11</td>\n",
              "    </tr>\n",
              "    <tr>\n",
              "      <th>tea-party-member</th>\n",
              "      <td>3</td>\n",
              "      <td>7</td>\n",
              "      <td>10</td>\n",
              "    </tr>\n",
              "    <tr>\n",
              "      <th>business-leader</th>\n",
              "      <td>3</td>\n",
              "      <td>6</td>\n",
              "      <td>9</td>\n",
              "    </tr>\n",
              "    <tr>\n",
              "      <th>green</th>\n",
              "      <td>2</td>\n",
              "      <td>1</td>\n",
              "      <td>3</td>\n",
              "    </tr>\n",
              "    <tr>\n",
              "      <th>education-official</th>\n",
              "      <td>0</td>\n",
              "      <td>2</td>\n",
              "      <td>2</td>\n",
              "    </tr>\n",
              "    <tr>\n",
              "      <th>liberal-party-canada</th>\n",
              "      <td>0</td>\n",
              "      <td>1</td>\n",
              "      <td>1</td>\n",
              "    </tr>\n",
              "    <tr>\n",
              "      <th>government-body</th>\n",
              "      <td>0</td>\n",
              "      <td>1</td>\n",
              "      <td>1</td>\n",
              "    </tr>\n",
              "    <tr>\n",
              "      <th>ocean-state-tea-party-action</th>\n",
              "      <td>1</td>\n",
              "      <td>0</td>\n",
              "      <td>1</td>\n",
              "    </tr>\n",
              "    <tr>\n",
              "      <th>democratic-farmer-labor</th>\n",
              "      <td>0</td>\n",
              "      <td>1</td>\n",
              "      <td>1</td>\n",
              "    </tr>\n",
              "    <tr>\n",
              "      <th>constitution-party</th>\n",
              "      <td>1</td>\n",
              "      <td>0</td>\n",
              "      <td>1</td>\n",
              "    </tr>\n",
              "    <tr>\n",
              "      <th>Moderate</th>\n",
              "      <td>1</td>\n",
              "      <td>0</td>\n",
              "      <td>1</td>\n",
              "    </tr>\n",
              "  </tbody>\n",
              "</table>\n",
              "</div>"
            ],
            "text/plain": [
              "Encoded_Label                    0     1    All\n",
              "partyAffiliation                               \n",
              "All                           4486  5752  10238\n",
              "republican                    2240  2257   4497\n",
              "democrat                      1127  2209   3336\n",
              "none                           856   888   1744\n",
              "organization                   112   107    219\n",
              "independent                     40   107    147\n",
              "newsmaker                       19    37     56\n",
              "libertarian                     13    27     40\n",
              "activist                        14    25     39\n",
              "journalist                      16    22     38\n",
              "columnist                       16    19     35\n",
              "talk-show-host                  15    11     26\n",
              "state-official                   2    18     20\n",
              "labor-leader                     5     6     11\n",
              "tea-party-member                 3     7     10\n",
              "business-leader                  3     6      9\n",
              "green                            2     1      3\n",
              "education-official               0     2      2\n",
              "liberal-party-canada             0     1      1\n",
              "government-body                  0     1      1\n",
              "ocean-state-tea-party-action     1     0      1\n",
              "democratic-farmer-labor          0     1      1\n",
              "constitution-party               1     0      1\n",
              "Moderate                         1     0      1"
            ]
          },
          "metadata": {
            "tags": []
          },
          "execution_count": 23
        }
      ]
    },
    {
      "cell_type": "code",
      "metadata": {
        "id": "medjEDXhwYc-",
        "colab_type": "code",
        "outputId": "10fe48d0-07ad-4bd1-dfce-51dd49630674",
        "colab": {
          "base_uri": "https://localhost:8080/",
          "height": 417
        }
      },
      "source": [
        "fig, ax = plt.subplots()\n",
        "ax1 = X_train.value_counts().sort_index(ascending=True).head(10264).plot('bar', ax=ax, legend=True)"
      ],
      "execution_count": 24,
      "outputs": [
        {
          "output_type": "display_data",
          "data": {
            "image/png": "[encoded data removed]",
            "text/plain": [
              "<Figure size 432x288 with 1 Axes>"
            ]
          },
          "metadata": {
            "tags": []
          }
        }
      ]
    },
    {
      "cell_type": "code",
      "metadata": {
        "id": "xjcaYAdywYdC",
        "colab_type": "code",
        "outputId": "d1c87fa9-4667-4a75-d39c-067593a4e6e4",
        "colab": {
          "base_uri": "https://localhost:8080/",
          "height": 285
        }
      },
      "source": [
        "import seaborn as sns\n",
        "sns.countplot(x=\"All\", data=CrossTab,order=CrossTab[\"All\"].value_counts().iloc[:5].index)\n",
        "plt.show()"
      ],
      "execution_count": 25,
      "outputs": [
        {
          "output_type": "display_data",
          "data": {
            "image/png": "[encoded data removed]",
            "text/plain": [
              "<Figure size 432x288 with 1 Axes>"
            ]
          },
          "metadata": {
            "tags": []
          }
        }
      ]
    },
    {
      "cell_type": "code",
      "metadata": {
        "id": "YSXYnv_cwYdF",
        "colab_type": "code",
        "outputId": "6171bf81-2171-44cd-daa1-d57585fc814b",
        "colab": {
          "base_uri": "https://localhost:8080/",
          "height": 322
        }
      },
      "source": [
        "#By changing the value here for column we can check as per Party Affiliation whats the probability of speaker lying\n",
        "import numpy as np\n",
        "values_for_true = np.column_stack([train_news[Colnames].str.contains(\"republican\") for Colnames in [titlecolname]])\n",
        "#print (values_for_true)\n",
        "unique, counts = np.unique(values_for_true, return_counts=True)\n",
        "dict(zip(unique, counts))\n",
        "train_news['values_for_true'] = values_for_true\n",
        "import matplotlib.pyplot as plt\n",
        "fig, ax = plt.subplots()\n",
        "ax1 = train_news[train_news['values_for_true']==True]['Label'].value_counts().plot('bar', ax=ax, legend=True)"
      ],
      "execution_count": 26,
      "outputs": [
        {
          "output_type": "display_data",
          "data": {
            "image/png": "[encoded data removed]",
            "text/plain": [
              "<Figure size 432x288 with 1 Axes>"
            ]
          },
          "metadata": {
            "tags": []
          }
        }
      ]
    },
    {
      "cell_type": "code",
      "metadata": {
        "id": "-UW7uUDTwYdI",
        "colab_type": "code",
        "outputId": "74641b69-5d69-485d-f588-9b9b68735add",
        "colab": {
          "base_uri": "https://localhost:8080/",
          "height": 221
        }
      },
      "source": [
        "#Setting NAN to No Party under No party\n",
        "X_train = X_train.replace(np.nan,'No Party', regex=True)\n",
        "X_train"
      ],
      "execution_count": 27,
      "outputs": [
        {
          "output_type": "execute_result",
          "data": {
            "text/plain": [
              "0        republican\n",
              "1          democrat\n",
              "2          democrat\n",
              "3              none\n",
              "4          democrat\n",
              "            ...    \n",
              "10235          none\n",
              "10236    republican\n",
              "10237    republican\n",
              "10238      democrat\n",
              "10239    republican\n",
              "Name: partyAffiliation, Length: 10240, dtype: object"
            ]
          },
          "metadata": {
            "tags": []
          },
          "execution_count": 27
        }
      ]
    },
    {
      "cell_type": "markdown",
      "metadata": {
        "id": "LOThtNKcwYdL",
        "colab_type": "text"
      },
      "source": [
        "### Select a document to preview after prepocessing"
      ]
    },
    {
      "cell_type": "code",
      "metadata": {
        "id": "2B_VTippwYdM",
        "colab_type": "code",
        "outputId": "01dba658-46a2-4e89-836c-c5cbd68f1fe2",
        "colab": {
          "base_uri": "https://localhost:8080/",
          "height": 119
        }
      },
      "source": [
        "#checking the sample document \n",
        "doc_sample = train_news[train_news['Json_Id'] == '2635.json'][\"Statement\"][0]\n",
        "\n",
        "print('original document: ')\n",
        "words = []\n",
        "for word in doc_sample.split(' '):\n",
        "    words.append(word)\n",
        "print(words)\n",
        "print('\\n\\n tokenized and lemmatized document: ')\n",
        "print(preprocess(doc_sample))\n",
        "#print(process_data(doc_sample))"
      ],
      "execution_count": 28,
      "outputs": [
        {
          "output_type": "stream",
          "text": [
            "original document: \n",
            "['Says', 'the', 'Annies', 'List', 'political', 'group', 'supports', 'third-trimester', 'abortions', 'on', 'demand.']\n",
            "\n",
            "\n",
            " tokenized and lemmatized document: \n",
            "['say', 'anni', 'list', 'polit', 'group', 'support', 'trimest', 'abort', 'demand']\n"
          ],
          "name": "stdout"
        }
      ]
    },
    {
      "cell_type": "markdown",
      "metadata": {
        "id": "jFXq41hjwYdP",
        "colab_type": "text"
      },
      "source": [
        "### Preprocess the headline text, saving the results as ‘processed_docs'"
      ]
    },
    {
      "cell_type": "code",
      "metadata": {
        "id": "AAKGT0l3wYdR",
        "colab_type": "code",
        "outputId": "cc01d2d5-ecf1-4125-8390-1dd2214de2e6",
        "colab": {
          "base_uri": "https://localhost:8080/",
          "height": 204
        }
      },
      "source": [
        "processed_docs = train_news['Statement'].map(preprocess)\n",
        "processed_docs[:10]"
      ],
      "execution_count": 29,
      "outputs": [
        {
          "output_type": "execute_result",
          "data": {
            "text/plain": [
              "0    [say, anni, list, polit, group, support, trime...\n",
              "1    [declin, coal, start, start, natur, take, star...\n",
              "2    [hillari, clinton, agre, john, mccain, vote, g...\n",
              "3    [health, care, reform, legisl, like, mandat, f...\n",
              "4                    [econom, turnaround, start, term]\n",
              "5    [chicago, bear, start, quarterback, year, tota...\n",
              "6               [dunnam, live, district, repres, year]\n",
              "7    [person, stage, work, activ, year, pass, russ,...\n",
              "8    [take, million, oregon, lotteri, fund, port, n...\n",
              "9    [say, primari, oppon, glenn, grothman, leibham...\n",
              "Name: Statement, dtype: object"
            ]
          },
          "metadata": {
            "tags": []
          },
          "execution_count": 29
        }
      ]
    },
    {
      "cell_type": "markdown",
      "metadata": {
        "id": "6n5eaBahwYdX",
        "colab_type": "text"
      },
      "source": [
        "### Bag of Words on the Data set\n",
        "Create a dictionary from ‘processed_docs’ containing the number of times a word appears in the training set"
      ]
    },
    {
      "cell_type": "code",
      "metadata": {
        "id": "-g75uKKMwYdY",
        "colab_type": "code",
        "outputId": "f2b0325d-dea1-44f3-b08e-6e1f7997e070",
        "colab": {
          "base_uri": "https://localhost:8080/",
          "height": 204
        }
      },
      "source": [
        "#processed docs->getting words\n",
        "dictionary = gensim.corpora.Dictionary(processed_docs)\n",
        "count = 0\n",
        "for k, v in dictionary.iteritems():\n",
        "    print(k, v)\n",
        "    count += 1\n",
        "    if count > 10:\n",
        "        break"
      ],
      "execution_count": 30,
      "outputs": [
        {
          "output_type": "stream",
          "text": [
            "0 abort\n",
            "1 anni\n",
            "2 demand\n",
            "3 group\n",
            "4 list\n",
            "5 polit\n",
            "6 say\n",
            "7 support\n",
            "8 trimest\n",
            "9 administr\n",
            "10 begin\n"
          ],
          "name": "stdout"
        }
      ]
    },
    {
      "cell_type": "code",
      "metadata": {
        "id": "-Rdvax9YwYdb",
        "colab_type": "code",
        "outputId": "b41cd608-3cc4-4259-e1f8-9dc5a53f2cf6",
        "colab": {
          "base_uri": "https://localhost:8080/",
          "height": 34
        }
      },
      "source": [
        "#printing actual dictionary\n",
        "dictionary.filter_extremes(no_below=15, no_above=0.5, keep_n=100000)\n",
        "print(dictionary)"
      ],
      "execution_count": 31,
      "outputs": [
        {
          "output_type": "stream",
          "text": [
            "Dictionary(1078 unique tokens: ['abort', 'demand', 'group', 'list', 'polit']...)\n"
          ],
          "name": "stdout"
        }
      ]
    },
    {
      "cell_type": "code",
      "metadata": {
        "id": "r6TY-PJmwYdd",
        "colab_type": "code",
        "outputId": "6221d37d-70f4-4a2a-fb3d-2e4460390b89",
        "colab": {
          "base_uri": "https://localhost:8080/",
          "height": 34
        }
      },
      "source": [
        "bow_corpus = [dictionary.doc2bow(doc) for doc in processed_docs]\n",
        "bow_corpus[10][0]"
      ],
      "execution_count": 32,
      "outputs": [
        {
          "output_type": "execute_result",
          "data": {
            "text/plain": [
              "(24, 2)"
            ]
          },
          "metadata": {
            "tags": []
          },
          "execution_count": 32
        }
      ]
    },
    {
      "cell_type": "code",
      "metadata": {
        "id": "IKf2EczvwYdf",
        "colab_type": "code",
        "outputId": "9c147fec-d4e1-4265-dafd-de4d27eb6792",
        "colab": {
          "base_uri": "https://localhost:8080/",
          "height": 221
        }
      },
      "source": [
        "#checking word frequency count\n",
        "bow_doc_4310 = bow_corpus[4310]\n",
        "for i in range(len(bow_doc_4310)):\n",
        "    print(\"Word {} (\\\"{}\\\") appears {} time.\".format(bow_doc_4310[i][0], \n",
        "                                               dictionary[bow_doc_4310[i][0]], \n",
        "bow_doc_4310[i][1]))\n",
        "print(len(bow_corpus))"
      ],
      "execution_count": 33,
      "outputs": [
        {
          "output_type": "stream",
          "text": [
            "Word 7 (\"administr\") appears 1 time.\n",
            "Word 84 (\"economi\") appears 1 time.\n",
            "Word 128 (\"scott\") appears 1 time.\n",
            "Word 129 (\"walker\") appears 1 time.\n",
            "Word 184 (\"member\") appears 2 time.\n",
            "Word 254 (\"job\") appears 1 time.\n",
            "Word 279 (\"public\") appears 1 time.\n",
            "Word 326 (\"hear\") appears 1 time.\n",
            "Word 547 (\"charg\") appears 1 time.\n",
            "Word 799 (\"talk\") appears 1 time.\n",
            "Word 1031 (\"field\") appears 1 time.\n",
            "10240\n"
          ],
          "name": "stdout"
        }
      ]
    },
    {
      "cell_type": "code",
      "metadata": {
        "id": "c8chH4qywYdj",
        "colab_type": "code",
        "colab": {}
      },
      "source": [
        "#applying tf-idf and LDA\n",
        "from gensim import corpora, models\n",
        "tfidf = models.TfidfModel(bow_corpus)\n",
        "corpus_tfidf = tfidf[bow_corpus]"
      ],
      "execution_count": 0,
      "outputs": []
    },
    {
      "cell_type": "code",
      "metadata": {
        "id": "BxbNlA5QwYdn",
        "colab_type": "code",
        "outputId": "07e1b5d0-a590-47cc-d794-6c4afbbec4f3",
        "colab": {
          "base_uri": "https://localhost:8080/",
          "height": 136
        }
      },
      "source": [
        "from pprint import pprint\n",
        "\n",
        "for doc in corpus_tfidf:\n",
        "    pprint(doc)\n",
        "    break"
      ],
      "execution_count": 35,
      "outputs": [
        {
          "output_type": "stream",
          "text": [
            "[(0, 0.3397402827336795),\n",
            " (1, 0.5002880765433487),\n",
            " (2, 0.4088224168287155),\n",
            " (3, 0.4639566513984633),\n",
            " (4, 0.40750764496407926),\n",
            " (5, 0.10879086838115597),\n",
            " (6, 0.27202739591951525)]\n"
          ],
          "name": "stdout"
        }
      ]
    },
    {
      "cell_type": "markdown",
      "metadata": {
        "id": "OrKLt5ghwYdp",
        "colab_type": "text"
      },
      "source": [
        "### Running LDA using Bag of Words\n",
        "Train our lda model using gensim.models.LdaMulticore and save it to ‘lda_model’. \n",
        "For each topic, we will explore the words occuring in that topic and its relative weight."
      ]
    },
    {
      "cell_type": "code",
      "metadata": {
        "id": "CdVOZ5vewYdq",
        "colab_type": "code",
        "outputId": "fd8f0903-d032-4afc-dc58-5bdc1dcd6000",
        "colab": {
          "base_uri": "https://localhost:8080/",
          "height": 357
        }
      },
      "source": [
        "lda_model = gensim.models.LdaMulticore(bow_corpus, num_topics=10, id2word=dictionary, passes=2, workers=2)\n",
        "for idx, topic in lda_model.print_topics(-1):\n",
        "    print('Topic: {} \\nWords: {}'.format(idx, topic))"
      ],
      "execution_count": 36,
      "outputs": [
        {
          "output_type": "stream",
          "text": [
            "Topic: 0 \n",
            "Words: 0.035*\"say\" + 0.018*\"million\" + 0.018*\"obama\" + 0.016*\"american\" + 0.014*\"state\" + 0.011*\"year\" + 0.010*\"job\" + 0.010*\"vote\" + 0.010*\"presid\" + 0.010*\"campaign\"\n",
            "Topic: 1 \n",
            "Words: 0.039*\"state\" + 0.027*\"year\" + 0.023*\"say\" + 0.012*\"texa\" + 0.012*\"school\" + 0.011*\"immigr\" + 0.010*\"peopl\" + 0.009*\"georgia\" + 0.009*\"unit\" + 0.009*\"illeg\"\n",
            "Topic: 2 \n",
            "Words: 0.029*\"say\" + 0.015*\"health\" + 0.014*\"trump\" + 0.014*\"support\" + 0.014*\"care\" + 0.013*\"dont\" + 0.011*\"american\" + 0.011*\"donald\" + 0.010*\"state\" + 0.010*\"texa\"\n",
            "Topic: 3 \n",
            "Words: 0.021*\"obama\" + 0.018*\"say\" + 0.012*\"vote\" + 0.012*\"time\" + 0.011*\"state\" + 0.011*\"forc\" + 0.011*\"florida\" + 0.009*\"presid\" + 0.009*\"servic\" + 0.009*\"world\"\n",
            "Topic: 4 \n",
            "Words: 0.046*\"say\" + 0.019*\"year\" + 0.017*\"fund\" + 0.016*\"state\" + 0.014*\"care\" + 0.013*\"school\" + 0.012*\"budget\" + 0.011*\"million\" + 0.011*\"offic\" + 0.011*\"public\"\n",
            "Topic: 5 \n",
            "Words: 0.077*\"say\" + 0.027*\"year\" + 0.025*\"presid\" + 0.024*\"obama\" + 0.016*\"billion\" + 0.015*\"barack\" + 0.013*\"scott\" + 0.010*\"million\" + 0.009*\"state\" + 0.009*\"walker\"\n",
            "Topic: 6 \n",
            "Words: 0.038*\"health\" + 0.035*\"year\" + 0.021*\"care\" + 0.018*\"percent\" + 0.018*\"insur\" + 0.017*\"plan\" + 0.016*\"spend\" + 0.014*\"say\" + 0.014*\"american\" + 0.014*\"senat\"\n",
            "Topic: 7 \n",
            "Words: 0.044*\"percent\" + 0.036*\"peopl\" + 0.031*\"state\" + 0.014*\"say\" + 0.012*\"year\" + 0.012*\"countri\" + 0.012*\"unemploy\" + 0.012*\"unit\" + 0.011*\"work\" + 0.011*\"incom\"\n",
            "Topic: 8 \n",
            "Words: 0.046*\"job\" + 0.019*\"creat\" + 0.018*\"percent\" + 0.017*\"debt\" + 0.015*\"nation\" + 0.015*\"million\" + 0.015*\"texa\" + 0.015*\"lose\" + 0.014*\"countri\" + 0.012*\"rate\"\n",
            "Topic: 9 \n",
            "Words: 0.068*\"say\" + 0.027*\"percent\" + 0.019*\"tax\" + 0.019*\"vote\" + 0.016*\"clinton\" + 0.016*\"state\" + 0.014*\"rais\" + 0.013*\"hillari\" + 0.011*\"republican\" + 0.011*\"go\"\n"
          ],
          "name": "stdout"
        }
      ]
    },
    {
      "cell_type": "code",
      "metadata": {
        "id": "wymvvuxWwYds",
        "colab_type": "code",
        "outputId": "142efaa4-373e-4fdb-ea3e-ccf30132ca27",
        "colab": {
          "base_uri": "https://localhost:8080/",
          "height": 187
        }
      },
      "source": [
        "#LDA using TF-IDF\n",
        "lda_model_tfidf = gensim.models.LdaMulticore(corpus_tfidf, num_topics=10, id2word=dictionary, passes=2, workers=4)\n",
        "for idx, topic in lda_model_tfidf.print_topics(-1):\n",
        "    print('Topic: {} Word: {}'.format(idx, topic))"
      ],
      "execution_count": 37,
      "outputs": [
        {
          "output_type": "stream",
          "text": [
            "Topic: 0 Word: 0.014*\"say\" + 0.011*\"year\" + 0.008*\"go\" + 0.008*\"dollar\" + 0.008*\"obama\" + 0.008*\"state\" + 0.007*\"spend\" + 0.007*\"senat\" + 0.007*\"job\" + 0.007*\"dont\"\n",
            "Topic: 1 Word: 0.014*\"say\" + 0.009*\"job\" + 0.008*\"percent\" + 0.008*\"democrat\" + 0.008*\"american\" + 0.008*\"vote\" + 0.008*\"month\" + 0.007*\"health\" + 0.007*\"creat\" + 0.007*\"island\"\n",
            "Topic: 2 Word: 0.019*\"tax\" + 0.017*\"billion\" + 0.016*\"rais\" + 0.013*\"say\" + 0.012*\"job\" + 0.011*\"million\" + 0.010*\"percent\" + 0.010*\"obama\" + 0.010*\"year\" + 0.010*\"state\"\n",
            "Topic: 3 Word: 0.013*\"health\" + 0.013*\"say\" + 0.011*\"care\" + 0.010*\"state\" + 0.010*\"support\" + 0.010*\"texa\" + 0.010*\"year\" + 0.008*\"rick\" + 0.007*\"georgia\" + 0.007*\"fund\"\n",
            "Topic: 4 Word: 0.017*\"say\" + 0.013*\"year\" + 0.012*\"spend\" + 0.009*\"school\" + 0.008*\"percent\" + 0.008*\"texa\" + 0.007*\"trump\" + 0.007*\"state\" + 0.007*\"abort\" + 0.006*\"student\"\n",
            "Topic: 5 Word: 0.016*\"state\" + 0.010*\"unit\" + 0.010*\"say\" + 0.010*\"year\" + 0.010*\"budget\" + 0.010*\"countri\" + 0.008*\"govern\" + 0.008*\"economi\" + 0.008*\"america\" + 0.007*\"vote\"\n",
            "Topic: 6 Word: 0.014*\"say\" + 0.009*\"state\" + 0.009*\"peopl\" + 0.008*\"texa\" + 0.007*\"year\" + 0.006*\"live\" + 0.006*\"vote\" + 0.006*\"school\" + 0.006*\"famili\" + 0.006*\"percent\"\n",
            "Topic: 7 Word: 0.018*\"obama\" + 0.017*\"percent\" + 0.015*\"presid\" + 0.012*\"barack\" + 0.011*\"say\" + 0.011*\"year\" + 0.009*\"health\" + 0.007*\"immigr\" + 0.007*\"govern\" + 0.006*\"vote\"\n",
            "Topic: 8 Word: 0.012*\"say\" + 0.011*\"secur\" + 0.010*\"social\" + 0.010*\"percent\" + 0.008*\"parti\" + 0.007*\"privat\" + 0.007*\"year\" + 0.007*\"republican\" + 0.007*\"want\" + 0.007*\"go\"\n",
            "Topic: 9 Word: 0.012*\"say\" + 0.011*\"percent\" + 0.010*\"florida\" + 0.008*\"rate\" + 0.007*\"state\" + 0.007*\"vote\" + 0.007*\"near\" + 0.007*\"obama\" + 0.006*\"wisconsin\" + 0.006*\"countri\"\n"
          ],
          "name": "stdout"
        }
      ]
    },
    {
      "cell_type": "code",
      "metadata": {
        "id": "lpDEa6UfwYdt",
        "colab_type": "code",
        "outputId": "147934d1-ebbd-4964-8475-236464651fa4",
        "colab": {
          "base_uri": "https://localhost:8080/",
          "height": 255
        }
      },
      "source": [
        "processed_docs[4310]"
      ],
      "execution_count": 38,
      "outputs": [
        {
          "output_type": "execute_result",
          "data": {
            "text/plain": [
              "['member',\n",
              " 'public',\n",
              " 'charg',\n",
              " 'hear',\n",
              " 'scott',\n",
              " 'walker',\n",
              " 'dozen',\n",
              " 'member',\n",
              " 'administr',\n",
              " 'talk',\n",
              " 'job',\n",
              " 'economi',\n",
              " 'lambeau',\n",
              " 'field']"
            ]
          },
          "metadata": {
            "tags": []
          },
          "execution_count": 38
        }
      ]
    },
    {
      "cell_type": "markdown",
      "metadata": {
        "id": "IK_YXVvpwYdw",
        "colab_type": "text"
      },
      "source": [
        "#### Performance evaluation by classifying sample document using LDA Bag of Words model\n",
        "We will check where our test document would be classified."
      ]
    },
    {
      "cell_type": "code",
      "metadata": {
        "id": "d6GywYg4wYdx",
        "colab_type": "code",
        "outputId": "0f134fae-80ea-4de3-eaa1-aa352aa8d7af",
        "colab": {
          "base_uri": "https://localhost:8080/",
          "height": 527
        }
      },
      "source": [
        "for index, score in sorted(lda_model[bow_corpus[0]], key=lambda tup: -1*tup[1]):\n",
        "    print(\"\\nScore: {}\\t \\nTopic: {}\".format(score, lda_model.print_topic(index, 10)))"
      ],
      "execution_count": 39,
      "outputs": [
        {
          "output_type": "stream",
          "text": [
            "\n",
            "Score: 0.5211381912231445\t \n",
            "Topic: 0.068*\"say\" + 0.027*\"percent\" + 0.019*\"tax\" + 0.019*\"vote\" + 0.016*\"clinton\" + 0.016*\"state\" + 0.014*\"rais\" + 0.013*\"hillari\" + 0.011*\"republican\" + 0.011*\"go\"\n",
            "\n",
            "Score: 0.3788415491580963\t \n",
            "Topic: 0.029*\"say\" + 0.015*\"health\" + 0.014*\"trump\" + 0.014*\"support\" + 0.014*\"care\" + 0.013*\"dont\" + 0.011*\"american\" + 0.011*\"donald\" + 0.010*\"state\" + 0.010*\"texa\"\n",
            "\n",
            "Score: 0.012503597885370255\t \n",
            "Topic: 0.077*\"say\" + 0.027*\"year\" + 0.025*\"presid\" + 0.024*\"obama\" + 0.016*\"billion\" + 0.015*\"barack\" + 0.013*\"scott\" + 0.010*\"million\" + 0.009*\"state\" + 0.009*\"walker\"\n",
            "\n",
            "Score: 0.012503384612500668\t \n",
            "Topic: 0.021*\"obama\" + 0.018*\"say\" + 0.012*\"vote\" + 0.012*\"time\" + 0.011*\"state\" + 0.011*\"forc\" + 0.011*\"florida\" + 0.009*\"presid\" + 0.009*\"servic\" + 0.009*\"world\"\n",
            "\n",
            "Score: 0.012503178790211678\t \n",
            "Topic: 0.038*\"health\" + 0.035*\"year\" + 0.021*\"care\" + 0.018*\"percent\" + 0.018*\"insur\" + 0.017*\"plan\" + 0.016*\"spend\" + 0.014*\"say\" + 0.014*\"american\" + 0.014*\"senat\"\n",
            "\n",
            "Score: 0.012502818368375301\t \n",
            "Topic: 0.035*\"say\" + 0.018*\"million\" + 0.018*\"obama\" + 0.016*\"american\" + 0.014*\"state\" + 0.011*\"year\" + 0.010*\"job\" + 0.010*\"vote\" + 0.010*\"presid\" + 0.010*\"campaign\"\n",
            "\n",
            "Score: 0.012502696365118027\t \n",
            "Topic: 0.046*\"say\" + 0.019*\"year\" + 0.017*\"fund\" + 0.016*\"state\" + 0.014*\"care\" + 0.013*\"school\" + 0.012*\"budget\" + 0.011*\"million\" + 0.011*\"offic\" + 0.011*\"public\"\n",
            "\n",
            "Score: 0.01250157505273819\t \n",
            "Topic: 0.039*\"state\" + 0.027*\"year\" + 0.023*\"say\" + 0.012*\"texa\" + 0.012*\"school\" + 0.011*\"immigr\" + 0.010*\"peopl\" + 0.009*\"georgia\" + 0.009*\"unit\" + 0.009*\"illeg\"\n",
            "\n",
            "Score: 0.012501518242061138\t \n",
            "Topic: 0.044*\"percent\" + 0.036*\"peopl\" + 0.031*\"state\" + 0.014*\"say\" + 0.012*\"year\" + 0.012*\"countri\" + 0.012*\"unemploy\" + 0.012*\"unit\" + 0.011*\"work\" + 0.011*\"incom\"\n",
            "\n",
            "Score: 0.012501468881964684\t \n",
            "Topic: 0.046*\"job\" + 0.019*\"creat\" + 0.018*\"percent\" + 0.017*\"debt\" + 0.015*\"nation\" + 0.015*\"million\" + 0.015*\"texa\" + 0.015*\"lose\" + 0.014*\"countri\" + 0.012*\"rate\"\n"
          ],
          "name": "stdout"
        }
      ]
    },
    {
      "cell_type": "markdown",
      "metadata": {
        "id": "Gdfh07gvwYd1",
        "colab_type": "text"
      },
      "source": [
        "### Performance Evaluation by classifying sample document using LDA TF-IDF model"
      ]
    },
    {
      "cell_type": "code",
      "metadata": {
        "id": "AgsY4RDgwYd3",
        "colab_type": "code",
        "outputId": "20675abe-836e-46a5-d0e9-a1895c4a79d1",
        "colab": {
          "base_uri": "https://localhost:8080/",
          "height": 527
        }
      },
      "source": [
        "for index, score in sorted(lda_model_tfidf[bow_corpus[0]], key=lambda tup: -1*tup[1]):\n",
        "    print(\"\\nScore: {}\\t \\nTopic: {}\".format(score, lda_model_tfidf.print_topic(index, 10)))"
      ],
      "execution_count": 40,
      "outputs": [
        {
          "output_type": "stream",
          "text": [
            "\n",
            "Score: 0.7134698033332825\t \n",
            "Topic: 0.017*\"say\" + 0.013*\"year\" + 0.012*\"spend\" + 0.009*\"school\" + 0.008*\"percent\" + 0.008*\"texa\" + 0.007*\"trump\" + 0.007*\"state\" + 0.007*\"abort\" + 0.006*\"student\"\n",
            "\n",
            "Score: 0.18650200963020325\t \n",
            "Topic: 0.012*\"say\" + 0.011*\"percent\" + 0.010*\"florida\" + 0.008*\"rate\" + 0.007*\"state\" + 0.007*\"vote\" + 0.007*\"near\" + 0.007*\"obama\" + 0.006*\"wisconsin\" + 0.006*\"countri\"\n",
            "\n",
            "Score: 0.01250749733299017\t \n",
            "Topic: 0.014*\"say\" + 0.009*\"state\" + 0.009*\"peopl\" + 0.008*\"texa\" + 0.007*\"year\" + 0.006*\"live\" + 0.006*\"vote\" + 0.006*\"school\" + 0.006*\"famili\" + 0.006*\"percent\"\n",
            "\n",
            "Score: 0.012504777871072292\t \n",
            "Topic: 0.013*\"health\" + 0.013*\"say\" + 0.011*\"care\" + 0.010*\"state\" + 0.010*\"support\" + 0.010*\"texa\" + 0.010*\"year\" + 0.008*\"rick\" + 0.007*\"georgia\" + 0.007*\"fund\"\n",
            "\n",
            "Score: 0.012504168786108494\t \n",
            "Topic: 0.012*\"say\" + 0.011*\"secur\" + 0.010*\"social\" + 0.010*\"percent\" + 0.008*\"parti\" + 0.007*\"privat\" + 0.007*\"year\" + 0.007*\"republican\" + 0.007*\"want\" + 0.007*\"go\"\n",
            "\n",
            "Score: 0.012503959238529205\t \n",
            "Topic: 0.016*\"state\" + 0.010*\"unit\" + 0.010*\"say\" + 0.010*\"year\" + 0.010*\"budget\" + 0.010*\"countri\" + 0.008*\"govern\" + 0.008*\"economi\" + 0.008*\"america\" + 0.007*\"vote\"\n",
            "\n",
            "Score: 0.012502689845860004\t \n",
            "Topic: 0.019*\"tax\" + 0.017*\"billion\" + 0.016*\"rais\" + 0.013*\"say\" + 0.012*\"job\" + 0.011*\"million\" + 0.010*\"percent\" + 0.010*\"obama\" + 0.010*\"year\" + 0.010*\"state\"\n",
            "\n",
            "Score: 0.012502460740506649\t \n",
            "Topic: 0.018*\"obama\" + 0.017*\"percent\" + 0.015*\"presid\" + 0.012*\"barack\" + 0.011*\"say\" + 0.011*\"year\" + 0.009*\"health\" + 0.007*\"immigr\" + 0.007*\"govern\" + 0.006*\"vote\"\n",
            "\n",
            "Score: 0.01250134315341711\t \n",
            "Topic: 0.014*\"say\" + 0.009*\"job\" + 0.008*\"percent\" + 0.008*\"democrat\" + 0.008*\"american\" + 0.008*\"vote\" + 0.008*\"month\" + 0.007*\"health\" + 0.007*\"creat\" + 0.007*\"island\"\n",
            "\n",
            "Score: 0.012501334771513939\t \n",
            "Topic: 0.014*\"say\" + 0.011*\"year\" + 0.008*\"go\" + 0.008*\"dollar\" + 0.008*\"obama\" + 0.008*\"state\" + 0.007*\"spend\" + 0.007*\"senat\" + 0.007*\"job\" + 0.007*\"dont\"\n"
          ],
          "name": "stdout"
        }
      ]
    },
    {
      "cell_type": "markdown",
      "metadata": {
        "id": "0cU04gm5wYd6",
        "colab_type": "text"
      },
      "source": [
        "### MultinomialNB classifier"
      ]
    },
    {
      "cell_type": "code",
      "metadata": {
        "id": "A5KBlasPwYd6",
        "colab_type": "code",
        "colab": {}
      },
      "source": [
        "from sklearn.pipeline import Pipeline\n",
        "from sklearn.feature_extraction.text import CountVectorizer\n",
        "from sklearn.feature_extraction.text import TfidfTransformer\n",
        "from sklearn.naive_bayes import MultinomialNB\n",
        "from sklearn.metrics import classification_report,confusion_matrix\n",
        "\n",
        "pipeline = Pipeline([\n",
        "    ('bow',CountVectorizer(analyzer=preprocess)), # converts strings to integer counts\n",
        "    ('tfidf',TfidfTransformer()), # converts integer counts to weighted TF-IDF scores\n",
        "    ('classifier',MultinomialNB()) # train on TF-IDF vectors with Naive Bayes classifier\n",
        "])"
      ],
      "execution_count": 0,
      "outputs": []
    },
    {
      "cell_type": "code",
      "metadata": {
        "id": "yafrYJdGwYd-",
        "colab_type": "code",
        "outputId": "5ce49383-691d-4a06-90ad-1e691e764ae2",
        "colab": {
          "base_uri": "https://localhost:8080/",
          "height": 356
        }
      },
      "source": [
        "#dfTwoCols= train_news[['Label','Subject']]\n",
        "dfTwoCols= train_news[['Label',titlecolname]]\n",
        "dfTwoCols.groupby(\"Label\").count().plot(kind='bar')"
      ],
      "execution_count": 42,
      "outputs": [
        {
          "output_type": "execute_result",
          "data": {
            "text/plain": [
              "<matplotlib.axes._subplots.AxesSubplot at 0x7f2f912b6668>"
            ]
          },
          "metadata": {
            "tags": []
          },
          "execution_count": 42
        },
        {
          "output_type": "display_data",
          "data": {
            "image/png": "[encoded data removed]",
            "text/plain": [
              "<Figure size 432x288 with 1 Axes>"
            ]
          },
          "metadata": {
            "tags": []
          }
        }
      ]
    },
    {
      "cell_type": "code",
      "metadata": {
        "id": "TWhZdVENwYd_",
        "colab_type": "code",
        "outputId": "b8045e55-9229-4952-c033-71ef520e9e35",
        "colab": {
          "base_uri": "https://localhost:8080/",
          "height": 419
        }
      },
      "source": [
        "dfTwoCols['verdict'] = dfTwoCols['Label'].map({'false': 0, 'true': 1, 'barely-true':0, 'half-true':1,'mostly-true':1,'pants-fire':0})\n",
        "dfTwoCols"
      ],
      "execution_count": 43,
      "outputs": [
        {
          "output_type": "execute_result",
          "data": {
            "text/html": [
              "<div>\n",
              "<style scoped>\n",
              "    .dataframe tbody tr th:only-of-type {\n",
              "        vertical-align: middle;\n",
              "    }\n",
              "\n",
              "    .dataframe tbody tr th {\n",
              "        vertical-align: top;\n",
              "    }\n",
              "\n",
              "    .dataframe thead th {\n",
              "        text-align: right;\n",
              "    }\n",
              "</style>\n",
              "<table border=\"1\" class=\"dataframe\">\n",
              "  <thead>\n",
              "    <tr style=\"text-align: right;\">\n",
              "      <th></th>\n",
              "      <th>Label</th>\n",
              "      <th>partyAffiliation</th>\n",
              "      <th>verdict</th>\n",
              "    </tr>\n",
              "  </thead>\n",
              "  <tbody>\n",
              "    <tr>\n",
              "      <th>0</th>\n",
              "      <td>false</td>\n",
              "      <td>republican</td>\n",
              "      <td>0</td>\n",
              "    </tr>\n",
              "    <tr>\n",
              "      <th>1</th>\n",
              "      <td>half-true</td>\n",
              "      <td>democrat</td>\n",
              "      <td>1</td>\n",
              "    </tr>\n",
              "    <tr>\n",
              "      <th>2</th>\n",
              "      <td>mostly-true</td>\n",
              "      <td>democrat</td>\n",
              "      <td>1</td>\n",
              "    </tr>\n",
              "    <tr>\n",
              "      <th>3</th>\n",
              "      <td>false</td>\n",
              "      <td>none</td>\n",
              "      <td>0</td>\n",
              "    </tr>\n",
              "    <tr>\n",
              "      <th>4</th>\n",
              "      <td>half-true</td>\n",
              "      <td>democrat</td>\n",
              "      <td>1</td>\n",
              "    </tr>\n",
              "    <tr>\n",
              "      <th>...</th>\n",
              "      <td>...</td>\n",
              "      <td>...</td>\n",
              "      <td>...</td>\n",
              "    </tr>\n",
              "    <tr>\n",
              "      <th>10235</th>\n",
              "      <td>mostly-true</td>\n",
              "      <td>none</td>\n",
              "      <td>1</td>\n",
              "    </tr>\n",
              "    <tr>\n",
              "      <th>10236</th>\n",
              "      <td>mostly-true</td>\n",
              "      <td>republican</td>\n",
              "      <td>1</td>\n",
              "    </tr>\n",
              "    <tr>\n",
              "      <th>10237</th>\n",
              "      <td>half-true</td>\n",
              "      <td>republican</td>\n",
              "      <td>1</td>\n",
              "    </tr>\n",
              "    <tr>\n",
              "      <th>10238</th>\n",
              "      <td>false</td>\n",
              "      <td>democrat</td>\n",
              "      <td>0</td>\n",
              "    </tr>\n",
              "    <tr>\n",
              "      <th>10239</th>\n",
              "      <td>pants-fire</td>\n",
              "      <td>republican</td>\n",
              "      <td>0</td>\n",
              "    </tr>\n",
              "  </tbody>\n",
              "</table>\n",
              "<p>10240 rows × 3 columns</p>\n",
              "</div>"
            ],
            "text/plain": [
              "             Label partyAffiliation  verdict\n",
              "0            false       republican        0\n",
              "1        half-true         democrat        1\n",
              "2      mostly-true         democrat        1\n",
              "3            false             none        0\n",
              "4        half-true         democrat        1\n",
              "...            ...              ...      ...\n",
              "10235  mostly-true             none        1\n",
              "10236  mostly-true       republican        1\n",
              "10237    half-true       republican        1\n",
              "10238        false         democrat        0\n",
              "10239   pants-fire       republican        0\n",
              "\n",
              "[10240 rows x 3 columns]"
            ]
          },
          "metadata": {
            "tags": []
          },
          "execution_count": 43
        }
      ]
    },
    {
      "cell_type": "code",
      "metadata": {
        "id": "qi-q6NbjwYeC",
        "colab_type": "code",
        "outputId": "e2ee85e5-36bf-4a1e-b3bf-eb25bb91114e",
        "colab": {
          "base_uri": "https://localhost:8080/",
          "height": 301
        }
      },
      "source": [
        "dfTwoCols.groupby(\"verdict\").count().plot(kind='bar')"
      ],
      "execution_count": 44,
      "outputs": [
        {
          "output_type": "execute_result",
          "data": {
            "text/plain": [
              "<matplotlib.axes._subplots.AxesSubplot at 0x7f2f8ff7f630>"
            ]
          },
          "metadata": {
            "tags": []
          },
          "execution_count": 44
        },
        {
          "output_type": "display_data",
          "data": {
            "image/png": "[encoded data removed]",
            "text/plain": [
              "<Figure size 432x288 with 1 Axes>"
            ]
          },
          "metadata": {
            "tags": []
          }
        }
      ]
    },
    {
      "cell_type": "code",
      "metadata": {
        "id": "Zirl7e0wwYeH",
        "colab_type": "code",
        "outputId": "f57b302f-14df-465f-f9a8-dac2bf4f9337",
        "colab": {
          "base_uri": "https://localhost:8080/",
          "height": 824
        }
      },
      "source": [
        "ct1=pd.crosstab(dfTwoCols[titlecolname],dfTwoCols[\"verdict\"],margins=True)\n",
        "ct1.sort_values('All', ascending=False)"
      ],
      "execution_count": 45,
      "outputs": [
        {
          "output_type": "execute_result",
          "data": {
            "text/html": [
              "<div>\n",
              "<style scoped>\n",
              "    .dataframe tbody tr th:only-of-type {\n",
              "        vertical-align: middle;\n",
              "    }\n",
              "\n",
              "    .dataframe tbody tr th {\n",
              "        vertical-align: top;\n",
              "    }\n",
              "\n",
              "    .dataframe thead th {\n",
              "        text-align: right;\n",
              "    }\n",
              "</style>\n",
              "<table border=\"1\" class=\"dataframe\">\n",
              "  <thead>\n",
              "    <tr style=\"text-align: right;\">\n",
              "      <th>verdict</th>\n",
              "      <th>0</th>\n",
              "      <th>1</th>\n",
              "      <th>All</th>\n",
              "    </tr>\n",
              "    <tr>\n",
              "      <th>partyAffiliation</th>\n",
              "      <th></th>\n",
              "      <th></th>\n",
              "      <th></th>\n",
              "    </tr>\n",
              "  </thead>\n",
              "  <tbody>\n",
              "    <tr>\n",
              "      <th>All</th>\n",
              "      <td>4486</td>\n",
              "      <td>5752</td>\n",
              "      <td>10238</td>\n",
              "    </tr>\n",
              "    <tr>\n",
              "      <th>republican</th>\n",
              "      <td>2240</td>\n",
              "      <td>2257</td>\n",
              "      <td>4497</td>\n",
              "    </tr>\n",
              "    <tr>\n",
              "      <th>democrat</th>\n",
              "      <td>1127</td>\n",
              "      <td>2209</td>\n",
              "      <td>3336</td>\n",
              "    </tr>\n",
              "    <tr>\n",
              "      <th>none</th>\n",
              "      <td>856</td>\n",
              "      <td>888</td>\n",
              "      <td>1744</td>\n",
              "    </tr>\n",
              "    <tr>\n",
              "      <th>organization</th>\n",
              "      <td>112</td>\n",
              "      <td>107</td>\n",
              "      <td>219</td>\n",
              "    </tr>\n",
              "    <tr>\n",
              "      <th>independent</th>\n",
              "      <td>40</td>\n",
              "      <td>107</td>\n",
              "      <td>147</td>\n",
              "    </tr>\n",
              "    <tr>\n",
              "      <th>newsmaker</th>\n",
              "      <td>19</td>\n",
              "      <td>37</td>\n",
              "      <td>56</td>\n",
              "    </tr>\n",
              "    <tr>\n",
              "      <th>libertarian</th>\n",
              "      <td>13</td>\n",
              "      <td>27</td>\n",
              "      <td>40</td>\n",
              "    </tr>\n",
              "    <tr>\n",
              "      <th>activist</th>\n",
              "      <td>14</td>\n",
              "      <td>25</td>\n",
              "      <td>39</td>\n",
              "    </tr>\n",
              "    <tr>\n",
              "      <th>journalist</th>\n",
              "      <td>16</td>\n",
              "      <td>22</td>\n",
              "      <td>38</td>\n",
              "    </tr>\n",
              "    <tr>\n",
              "      <th>columnist</th>\n",
              "      <td>16</td>\n",
              "      <td>19</td>\n",
              "      <td>35</td>\n",
              "    </tr>\n",
              "    <tr>\n",
              "      <th>talk-show-host</th>\n",
              "      <td>15</td>\n",
              "      <td>11</td>\n",
              "      <td>26</td>\n",
              "    </tr>\n",
              "    <tr>\n",
              "      <th>state-official</th>\n",
              "      <td>2</td>\n",
              "      <td>18</td>\n",
              "      <td>20</td>\n",
              "    </tr>\n",
              "    <tr>\n",
              "      <th>labor-leader</th>\n",
              "      <td>5</td>\n",
              "      <td>6</td>\n",
              "      <td>11</td>\n",
              "    </tr>\n",
              "    <tr>\n",
              "      <th>tea-party-member</th>\n",
              "      <td>3</td>\n",
              "      <td>7</td>\n",
              "      <td>10</td>\n",
              "    </tr>\n",
              "    <tr>\n",
              "      <th>business-leader</th>\n",
              "      <td>3</td>\n",
              "      <td>6</td>\n",
              "      <td>9</td>\n",
              "    </tr>\n",
              "    <tr>\n",
              "      <th>green</th>\n",
              "      <td>2</td>\n",
              "      <td>1</td>\n",
              "      <td>3</td>\n",
              "    </tr>\n",
              "    <tr>\n",
              "      <th>education-official</th>\n",
              "      <td>0</td>\n",
              "      <td>2</td>\n",
              "      <td>2</td>\n",
              "    </tr>\n",
              "    <tr>\n",
              "      <th>liberal-party-canada</th>\n",
              "      <td>0</td>\n",
              "      <td>1</td>\n",
              "      <td>1</td>\n",
              "    </tr>\n",
              "    <tr>\n",
              "      <th>government-body</th>\n",
              "      <td>0</td>\n",
              "      <td>1</td>\n",
              "      <td>1</td>\n",
              "    </tr>\n",
              "    <tr>\n",
              "      <th>ocean-state-tea-party-action</th>\n",
              "      <td>1</td>\n",
              "      <td>0</td>\n",
              "      <td>1</td>\n",
              "    </tr>\n",
              "    <tr>\n",
              "      <th>democratic-farmer-labor</th>\n",
              "      <td>0</td>\n",
              "      <td>1</td>\n",
              "      <td>1</td>\n",
              "    </tr>\n",
              "    <tr>\n",
              "      <th>constitution-party</th>\n",
              "      <td>1</td>\n",
              "      <td>0</td>\n",
              "      <td>1</td>\n",
              "    </tr>\n",
              "    <tr>\n",
              "      <th>Moderate</th>\n",
              "      <td>1</td>\n",
              "      <td>0</td>\n",
              "      <td>1</td>\n",
              "    </tr>\n",
              "  </tbody>\n",
              "</table>\n",
              "</div>"
            ],
            "text/plain": [
              "verdict                          0     1    All\n",
              "partyAffiliation                               \n",
              "All                           4486  5752  10238\n",
              "republican                    2240  2257   4497\n",
              "democrat                      1127  2209   3336\n",
              "none                           856   888   1744\n",
              "organization                   112   107    219\n",
              "independent                     40   107    147\n",
              "newsmaker                       19    37     56\n",
              "libertarian                     13    27     40\n",
              "activist                        14    25     39\n",
              "journalist                      16    22     38\n",
              "columnist                       16    19     35\n",
              "talk-show-host                  15    11     26\n",
              "state-official                   2    18     20\n",
              "labor-leader                     5     6     11\n",
              "tea-party-member                 3     7     10\n",
              "business-leader                  3     6      9\n",
              "green                            2     1      3\n",
              "education-official               0     2      2\n",
              "liberal-party-canada             0     1      1\n",
              "government-body                  0     1      1\n",
              "ocean-state-tea-party-action     1     0      1\n",
              "democratic-farmer-labor          0     1      1\n",
              "constitution-party               1     0      1\n",
              "Moderate                         1     0      1"
            ]
          },
          "metadata": {
            "tags": []
          },
          "execution_count": 45
        }
      ]
    },
    {
      "cell_type": "markdown",
      "metadata": {
        "id": "xxLI4nYKwYeL",
        "colab_type": "text"
      },
      "source": [
        "Now that we have some information we can proceed find more information by processing the text to find unique values in subjects. Also by visualization we can observe that sensational news will have extremely polarised graphs. Applying data preprocessing for NLP processing like tokeninsing, stemming etc\n",
        "\n"
      ]
    },
    {
      "cell_type": "code",
      "metadata": {
        "id": "oTOYTxIpwYeM",
        "colab_type": "code",
        "outputId": "650cbfb8-bd26-408d-c011-147ebc0519a5",
        "colab": {
          "base_uri": "https://localhost:8080/",
          "height": 442
        }
      },
      "source": [
        "#print(bow_corpus)\n",
        "class_train=np.array(dfTwoCols[\"verdict\"])\n",
        "print(class_train)\n",
        "class_train=class_train.reshape(-1,1)\n",
        "print(class_train)\n",
        "\n",
        "pipeline.fit(train_news['Statement'],class_train)"
      ],
      "execution_count": 46,
      "outputs": [
        {
          "output_type": "stream",
          "text": [
            "[0 1 1 ... 1 0 0]\n",
            "[[0]\n",
            " [1]\n",
            " [1]\n",
            " ...\n",
            " [1]\n",
            " [0]\n",
            " [0]]\n"
          ],
          "name": "stdout"
        },
        {
          "output_type": "execute_result",
          "data": {
            "text/plain": [
              "Pipeline(memory=None,\n",
              "         steps=[('bow',\n",
              "                 CountVectorizer(analyzer=<function preprocess at 0x7f2f9a99ad90>,\n",
              "                                 binary=False, decode_error='strict',\n",
              "                                 dtype=<class 'numpy.int64'>, encoding='utf-8',\n",
              "                                 input='content', lowercase=True, max_df=1.0,\n",
              "                                 max_features=None, min_df=1,\n",
              "                                 ngram_range=(1, 1), preprocessor=None,\n",
              "                                 stop_words=None, strip_accents=None,\n",
              "                                 token_pattern='(?u)\\\\b\\\\w\\\\w+\\\\b',\n",
              "                                 tokenizer=None, vocabulary=None)),\n",
              "                ('tfidf',\n",
              "                 TfidfTransformer(norm='l2', smooth_idf=True,\n",
              "                                  sublinear_tf=False, use_idf=True)),\n",
              "                ('classifier',\n",
              "                 MultinomialNB(alpha=1.0, class_prior=None, fit_prior=True))],\n",
              "         verbose=False)"
            ]
          },
          "metadata": {
            "tags": []
          },
          "execution_count": 46
        }
      ]
    },
    {
      "cell_type": "code",
      "metadata": {
        "id": "cO28qDDLwYeN",
        "colab_type": "code",
        "outputId": "14c18af2-12fa-4dc2-a670-90a1ead7a3db",
        "colab": {
          "base_uri": "https://localhost:8080/",
          "height": 153
        }
      },
      "source": [
        "#test\n",
        "#dfs_test = pd.read_excel(\"input\")\n",
        "msg_test=test_news[\"Statement\"]\n",
        "dfTwoCols_test= test_news[['Label','Subject']]\n",
        "dfTwoCols_test['verdict'] = dfTwoCols_test['Label'].map({'false': 0, 'true': 1, 'barely-true':0, 'half-true':1,'mostly-true':1,'pants-fire':0})\n",
        "dfTwoCols_test\n",
        "class_test=np.array(dfTwoCols_test[\"verdict\"])\n",
        "print(class_test)\n",
        "class_test=class_test.reshape(-1,1)\n",
        "print(class_test)\n",
        "predictions = pipeline.predict(msg_test)"
      ],
      "execution_count": 47,
      "outputs": [
        {
          "output_type": "stream",
          "text": [
            "[1 0 0 ... 0 0 0]\n",
            "[[1]\n",
            " [0]\n",
            " [0]\n",
            " ...\n",
            " [0]\n",
            " [0]\n",
            " [0]]\n"
          ],
          "name": "stdout"
        }
      ]
    },
    {
      "cell_type": "code",
      "metadata": {
        "id": "yJiO0mUmwYeP",
        "colab_type": "code",
        "outputId": "1af36f6c-cde7-4441-88ae-7e9c97c09ade",
        "colab": {
          "base_uri": "https://localhost:8080/",
          "height": 170
        }
      },
      "source": [
        "print(classification_report(class_test,predictions))"
      ],
      "execution_count": 48,
      "outputs": [
        {
          "output_type": "stream",
          "text": [
            "              precision    recall  f1-score   support\n",
            "\n",
            "           0       0.63      0.30      0.41       553\n",
            "           1       0.61      0.86      0.72       714\n",
            "\n",
            "    accuracy                           0.62      1267\n",
            "   macro avg       0.62      0.58      0.56      1267\n",
            "weighted avg       0.62      0.62      0.58      1267\n",
            "\n"
          ],
          "name": "stdout"
        }
      ]
    },
    {
      "cell_type": "code",
      "metadata": {
        "id": "bg9ELGanwYeR",
        "colab_type": "code",
        "outputId": "6c14c011-1a1b-44d3-920a-410700b24547",
        "colab": {
          "base_uri": "https://localhost:8080/",
          "height": 291
        }
      },
      "source": [
        "sns.heatmap(confusion_matrix(class_test,predictions),annot=True)\n",
        "# references: https://www.kaggle.com/astandrik/simple-spam-filter-using-naive-bayes"
      ],
      "execution_count": 49,
      "outputs": [
        {
          "output_type": "execute_result",
          "data": {
            "text/plain": [
              "<matplotlib.axes._subplots.AxesSubplot at 0x7f2f9009f208>"
            ]
          },
          "metadata": {
            "tags": []
          },
          "execution_count": 49
        },
        {
          "output_type": "display_data",
          "data": {
            "image/png": "[encoded data removed]",
            "text/plain": [
              "<Figure size 432x288 with 2 Axes>"
            ]
          },
          "metadata": {
            "tags": []
          }
        }
      ]
    },
    {
      "cell_type": "markdown",
      "metadata": {
        "id": "ace_XgQMwYeW",
        "colab_type": "text"
      },
      "source": [
        "## Classifiers"
      ]
    },
    {
      "cell_type": "code",
      "metadata": {
        "id": "p9w4Gme0wYeX",
        "colab_type": "code",
        "colab": {}
      },
      "source": [
        "from sklearn.feature_extraction.text import CountVectorizer\n",
        "from sklearn.feature_extraction.text import TfidfTransformer\n",
        "from sklearn.feature_extraction.text import TfidfVectorizer\n",
        "from yellowbrick.text import FreqDistVisualizer"
      ],
      "execution_count": 0,
      "outputs": []
    },
    {
      "cell_type": "markdown",
      "metadata": {
        "id": "aXF6DVDLwYeZ",
        "colab_type": "text"
      },
      "source": [
        "#### CounterVectorizer & Stats"
      ]
    },
    {
      "cell_type": "code",
      "metadata": {
        "id": "KtZ2yX5rwYea",
        "colab_type": "code",
        "colab": {}
      },
      "source": [
        "countV = CountVectorizer()\n",
        "train_count = countV.fit_transform(train_news['Statement'].values)\n",
        "def get_countVectorizer_stats():\n",
        "    \n",
        "    #vocab size\n",
        "    train_count.shape\n",
        "\n",
        "    #check vocabulary using below command\n",
        "    print(countV.vocabulary_)\n",
        "\n",
        "    #get feature names\n",
        "    print(countV.get_feature_names()[:25])"
      ],
      "execution_count": 0,
      "outputs": []
    },
    {
      "cell_type": "code",
      "metadata": {
        "id": "likFY1yNwYed",
        "colab_type": "code",
        "outputId": "f45a32a1-6ec1-4c13-d316-f6bb213d197e",
        "colab": {
          "base_uri": "https://localhost:8080/",
          "height": 136
        }
      },
      "source": [
        "tfidfV = TfidfTransformer()\n",
        "train_tfidf = tfidfV.fit_transform(train_count)\n",
        "\n",
        "def get_tfidf_stats():\n",
        "    train_tfidf.shape\n",
        "    #get train data feature names \n",
        "    print(train_tfidf.A[:10])\n",
        "    \n",
        "get_tfidf_stats()"
      ],
      "execution_count": 52,
      "outputs": [
        {
          "output_type": "stream",
          "text": [
            "[[0. 0. 0. ... 0. 0. 0.]\n",
            " [0. 0. 0. ... 0. 0. 0.]\n",
            " [0. 0. 0. ... 0. 0. 0.]\n",
            " ...\n",
            " [0. 0. 0. ... 0. 0. 0.]\n",
            " [0. 0. 0. ... 0. 0. 0.]\n",
            " [0. 0. 0. ... 0. 0. 0.]]\n"
          ],
          "name": "stdout"
        }
      ]
    },
    {
      "cell_type": "markdown",
      "metadata": {
        "id": "pHswhKpcwYef",
        "colab_type": "text"
      },
      "source": [
        "#### Tfidfvectorizer compute the word counts, idf and tf-idf values all at once"
      ]
    },
    {
      "cell_type": "code",
      "metadata": {
        "id": "bncIEWQ0wYeg",
        "colab_type": "code",
        "colab": {}
      },
      "source": [
        "tfidf_ngram = TfidfVectorizer(stop_words='english',ngram_range=(1,4),use_idf=True,smooth_idf=True)"
      ],
      "execution_count": 0,
      "outputs": []
    },
    {
      "cell_type": "code",
      "metadata": {
        "id": "RhYx3DmZwYei",
        "colab_type": "code",
        "colab": {}
      },
      "source": [
        "from sklearn.pipeline import Pipeline\n",
        "from sklearn.naive_bayes import MultinomialNB\n",
        "from sklearn.linear_model import  LogisticRegression\n",
        "from sklearn.linear_model import SGDClassifier\n",
        "from sklearn import svm\n",
        "from sklearn.ensemble import RandomForestClassifier\n",
        "from sklearn.model_selection import KFold\n",
        "from sklearn.metrics import confusion_matrix, f1_score, classification_report\n",
        "from sklearn.model_selection import GridSearchCV\n",
        "from sklearn.model_selection import learning_curve\n",
        "import matplotlib.pyplot as plt\n",
        "from sklearn.metrics import precision_recall_curve\n",
        "from sklearn.metrics import average_precision_score"
      ],
      "execution_count": 0,
      "outputs": []
    },
    {
      "cell_type": "markdown",
      "metadata": {
        "id": "gE8_G83oyeNt",
        "colab_type": "text"
      },
      "source": [
        "### Data Amalgamation\n",
        "Input from  Party Tweets are amalgamated to create the model"
      ]
    },
    {
      "cell_type": "code",
      "metadata": {
        "id": "iFEyZXVAmViy",
        "colab_type": "code",
        "outputId": "ab921af8-e4c4-4f21-e948-ef8d55b1f6f7",
        "colab": {
          "base_uri": "https://localhost:8080/",
          "height": 204
        }
      },
      "source": [
        "dataset_body2 = pd.read_csv(train_party, sep=',')\n",
        "dataset_body2.head()"
      ],
      "execution_count": 55,
      "outputs": [
        {
          "output_type": "execute_result",
          "data": {
            "text/html": [
              "<div>\n",
              "<style scoped>\n",
              "    .dataframe tbody tr th:only-of-type {\n",
              "        vertical-align: middle;\n",
              "    }\n",
              "\n",
              "    .dataframe tbody tr th {\n",
              "        vertical-align: top;\n",
              "    }\n",
              "\n",
              "    .dataframe thead th {\n",
              "        text-align: right;\n",
              "    }\n",
              "</style>\n",
              "<table border=\"1\" class=\"dataframe\">\n",
              "  <thead>\n",
              "    <tr style=\"text-align: right;\">\n",
              "      <th></th>\n",
              "      <th>Party</th>\n",
              "      <th>Handle</th>\n",
              "      <th>Tweet</th>\n",
              "    </tr>\n",
              "  </thead>\n",
              "  <tbody>\n",
              "    <tr>\n",
              "      <th>0</th>\n",
              "      <td>Democrat</td>\n",
              "      <td>RepDarrenSoto</td>\n",
              "      <td>Today, Senate Dems vote to #SaveTheInternet. P...</td>\n",
              "    </tr>\n",
              "    <tr>\n",
              "      <th>1</th>\n",
              "      <td>Democrat</td>\n",
              "      <td>RepDarrenSoto</td>\n",
              "      <td>RT @WinterHavenSun: Winter Haven resident / Al...</td>\n",
              "    </tr>\n",
              "    <tr>\n",
              "      <th>2</th>\n",
              "      <td>Democrat</td>\n",
              "      <td>RepDarrenSoto</td>\n",
              "      <td>RT @NBCLatino: .@RepDarrenSoto noted that Hurr...</td>\n",
              "    </tr>\n",
              "    <tr>\n",
              "      <th>3</th>\n",
              "      <td>Democrat</td>\n",
              "      <td>RepDarrenSoto</td>\n",
              "      <td>RT @NALCABPolicy: Meeting with @RepDarrenSoto ...</td>\n",
              "    </tr>\n",
              "    <tr>\n",
              "      <th>4</th>\n",
              "      <td>Democrat</td>\n",
              "      <td>RepDarrenSoto</td>\n",
              "      <td>RT @Vegalteno: Hurricane season starts on June...</td>\n",
              "    </tr>\n",
              "  </tbody>\n",
              "</table>\n",
              "</div>"
            ],
            "text/plain": [
              "      Party         Handle                                              Tweet\n",
              "0  Democrat  RepDarrenSoto  Today, Senate Dems vote to #SaveTheInternet. P...\n",
              "1  Democrat  RepDarrenSoto  RT @WinterHavenSun: Winter Haven resident / Al...\n",
              "2  Democrat  RepDarrenSoto  RT @NBCLatino: .@RepDarrenSoto noted that Hurr...\n",
              "3  Democrat  RepDarrenSoto  RT @NALCABPolicy: Meeting with @RepDarrenSoto ...\n",
              "4  Democrat  RepDarrenSoto  RT @Vegalteno: Hurricane season starts on June..."
            ]
          },
          "metadata": {
            "tags": []
          },
          "execution_count": 55
        }
      ]
    },
    {
      "cell_type": "code",
      "metadata": {
        "id": "M5MorMmVocrx",
        "colab_type": "code",
        "outputId": "98d3e588-7aef-4d65-ee88-fb190e1e41a0",
        "colab": {
          "base_uri": "https://localhost:8080/",
          "height": 387
        }
      },
      "source": [
        "fig, ax = plt.subplots()\n",
        "ax1 = dataset_body2['Party'].value_counts().sort_index(ascending=True).head(10264).plot(kind='bar', ax=ax, legend=True)"
      ],
      "execution_count": 56,
      "outputs": [
        {
          "output_type": "display_data",
          "data": {
            "image/png": "[encoded data removed]",
            "text/plain": [
              "<Figure size 576x396 with 1 Axes>"
            ]
          },
          "metadata": {
            "tags": []
          }
        }
      ]
    },
    {
      "cell_type": "markdown",
      "metadata": {
        "id": "V6CCJ-HNwYfP",
        "colab_type": "text"
      },
      "source": [
        "\n",
        "#### Create a doc2vec model for the training dataset"
      ]
    },
    {
      "cell_type": "code",
      "metadata": {
        "id": "5x1fUzBxwYfQ",
        "colab_type": "code",
        "outputId": "78210fb4-8f5c-4c59-cbbe-47632b069726",
        "colab": {
          "base_uri": "https://localhost:8080/",
          "height": 51
        }
      },
      "source": [
        "#Import all the dependencies\n",
        "from gensim.models.doc2vec import Doc2Vec, TaggedDocument\n",
        "from nltk.tokenize import word_tokenize\n",
        "nltk.download('punkt')\n",
        "tagged_data = [TaggedDocument(words=word_tokenize(_d.lower()), tags=[str(i)]) for i, _d in enumerate(dataset_body2['Tweet'])]"
      ],
      "execution_count": 57,
      "outputs": [
        {
          "output_type": "stream",
          "text": [
            "[nltk_data] Downloading package punkt to /root/nltk_data...\n",
            "[nltk_data]   Package punkt is already up-to-date!\n"
          ],
          "name": "stdout"
        }
      ]
    },
    {
      "cell_type": "markdown",
      "metadata": {
        "id": "pG9fxaHvwYfU",
        "colab_type": "text"
      },
      "source": [
        "#### Iterations for the Model\n",
        "With the new datasource, we perform about 60 iterations to perfect the model."
      ]
    },
    {
      "cell_type": "code",
      "metadata": {
        "id": "1psotSwGwYfX",
        "colab_type": "code",
        "outputId": "bd97e693-8ccd-4456-e33a-c9f5fe4ad063",
        "colab": {
          "base_uri": "https://localhost:8080/",
          "height": 85
        }
      },
      "source": [
        "max_epochs = 3\n",
        "vec_size = 20\n",
        "alpha = 0.025\n",
        "\n",
        "model = Doc2Vec(size=vec_size,\n",
        "                alpha=alpha, \n",
        "                min_alpha=0.00025,\n",
        "                min_count=1,\n",
        "                dm =0)\n",
        "  \n",
        "model.build_vocab(tagged_data)\n",
        "\n",
        "for epoch in range(max_epochs):\n",
        "    print('iteration {0}'.format(epoch))\n",
        "    model.train(tagged_data,total_examples=model.corpus_count,epochs=model.iter)\n",
        "    # decrease the learning rate\n",
        "    model.alpha -= 0.0002\n",
        "    # fix the learning rate, no decay\n",
        "    model.min_alpha = model.alpha\n",
        "\n",
        "savedModel = \"/content/gdrive/My Drive/Drifters/Models/PoliticalAffiliation.model\"\n",
        "model.save(savedModel)\n",
        "print(\"Model Saved\")"
      ],
      "execution_count": 58,
      "outputs": [
        {
          "output_type": "stream",
          "text": [
            "iteration 0\n",
            "iteration 1\n",
            "iteration 2\n",
            "Model Saved\n"
          ],
          "name": "stdout"
        }
      ]
    },
    {
      "cell_type": "markdown",
      "metadata": {
        "id": "458dyAqn1JWP",
        "colab_type": "text"
      },
      "source": [
        "#### Model Validation\n",
        "Once the iterations are complete, we now test the model by feeding a new statement into the model testing its accuracy"
      ]
    },
    {
      "cell_type": "code",
      "metadata": {
        "id": "mgXZK3rJ1Lj3",
        "colab_type": "code",
        "outputId": "ecd3f350-b96d-408b-fcf2-f6e498e1618d",
        "colab": {
          "base_uri": "https://localhost:8080/",
          "height": 119
        }
      },
      "source": [
        "#testing for a text\n",
        "from gensim.models.doc2vec import Doc2Vec\n",
        "text = \"obama supports third trimester abortion\"\n",
        "model= Doc2Vec.load(savedModel)\n",
        "#to find the vector of a document which is not in training data\n",
        "test_data = word_tokenize(text)\n",
        "v1 = model.infer_vector(test_data)\n",
        "similar_doc = model.docvecs.most_similar([v1])\n",
        "print(similar_doc[0][0])\n",
        "test_sentence= [model.infer_vector(word_tokenize(text))]\n",
        "print (test_sentence)"
      ],
      "execution_count": 59,
      "outputs": [
        {
          "output_type": "stream",
          "text": [
            "29078\n",
            "[array([ 0.21311156,  0.4348579 , -0.08221554, -0.28199193, -0.25882193,\n",
            "        0.22432147,  0.23142104, -0.21618722,  0.11309035,  0.3287316 ,\n",
            "        0.09082419,  0.15153623, -0.02669021,  0.02684065,  0.00971519,\n",
            "       -0.20507583, -0.3645545 , -0.33282894, -0.09962435, -0.09543091],\n",
            "      dtype=float32)]\n"
          ],
          "name": "stdout"
        }
      ]
    },
    {
      "cell_type": "code",
      "metadata": {
        "id": "VpS6jaU82zfu",
        "colab_type": "code",
        "outputId": "07a579b3-2fdd-475d-e377-30121ea20de8",
        "colab": {
          "base_uri": "https://localhost:8080/",
          "height": 598
        }
      },
      "source": [
        "sensationCol=[]\n",
        "for row in train_news[titlecolname]:\n",
        "    try:\n",
        "        \n",
        "        test_data = word_tokenize(row.lower())\n",
        "        v1 = model.infer_vector(test_data)\n",
        "        similar_doc = model.docvecs.most_similar([v1])\n",
        "        sensationCol.append(similar_doc[0][0])\n",
        "    except:\n",
        "        pass\n",
        "sourceCol=list(map(int, sensationCol))\n",
        "train_news['context_new']=pd.Series(sensationCol)\n",
        "train_news.head()"
      ],
      "execution_count": 60,
      "outputs": [
        {
          "output_type": "execute_result",
          "data": {
            "text/html": [
              "<div>\n",
              "<style scoped>\n",
              "    .dataframe tbody tr th:only-of-type {\n",
              "        vertical-align: middle;\n",
              "    }\n",
              "\n",
              "    .dataframe tbody tr th {\n",
              "        vertical-align: top;\n",
              "    }\n",
              "\n",
              "    .dataframe thead th {\n",
              "        text-align: right;\n",
              "    }\n",
              "</style>\n",
              "<table border=\"1\" class=\"dataframe\">\n",
              "  <thead>\n",
              "    <tr style=\"text-align: right;\">\n",
              "      <th></th>\n",
              "      <th>Json_Id</th>\n",
              "      <th>Label</th>\n",
              "      <th>Statement</th>\n",
              "      <th>Subject</th>\n",
              "      <th>SpeakerName</th>\n",
              "      <th>JobTitle</th>\n",
              "      <th>StateInfo</th>\n",
              "      <th>partyAffiliation</th>\n",
              "      <th>BarelyTrueCounts</th>\n",
              "      <th>FalseCounts</th>\n",
              "      <th>HalfTrueCounts</th>\n",
              "      <th>MostlyTrueCounts</th>\n",
              "      <th>PantsOnFireCounts</th>\n",
              "      <th>Context</th>\n",
              "      <th>Encoded_Label</th>\n",
              "      <th>index</th>\n",
              "      <th>processed_Statement</th>\n",
              "      <th>values_for_true</th>\n",
              "      <th>context_new</th>\n",
              "    </tr>\n",
              "  </thead>\n",
              "  <tbody>\n",
              "    <tr>\n",
              "      <th>0</th>\n",
              "      <td>2635.json</td>\n",
              "      <td>false</td>\n",
              "      <td>Says the Annies List political group supports ...</td>\n",
              "      <td>abortion</td>\n",
              "      <td>dwayne-bohac</td>\n",
              "      <td>State representative</td>\n",
              "      <td>Texas</td>\n",
              "      <td>republican</td>\n",
              "      <td>0.0</td>\n",
              "      <td>1.0</td>\n",
              "      <td>0.0</td>\n",
              "      <td>0.0</td>\n",
              "      <td>0.0</td>\n",
              "      <td>a mailer</td>\n",
              "      <td>0</td>\n",
              "      <td>0</td>\n",
              "      <td>say anni list polit group support trimest abor...</td>\n",
              "      <td>True</td>\n",
              "      <td>79013</td>\n",
              "    </tr>\n",
              "    <tr>\n",
              "      <th>1</th>\n",
              "      <td>10540.json</td>\n",
              "      <td>half-true</td>\n",
              "      <td>When did the decline of coal start? It started...</td>\n",
              "      <td>energy,history,job-accomplishments</td>\n",
              "      <td>scott-surovell</td>\n",
              "      <td>State delegate</td>\n",
              "      <td>Virginia</td>\n",
              "      <td>democrat</td>\n",
              "      <td>0.0</td>\n",
              "      <td>0.0</td>\n",
              "      <td>1.0</td>\n",
              "      <td>1.0</td>\n",
              "      <td>0.0</td>\n",
              "      <td>a floor speech.</td>\n",
              "      <td>1</td>\n",
              "      <td>1</td>\n",
              "      <td>declin coal start start natur take start begin...</td>\n",
              "      <td>False</td>\n",
              "      <td>82741</td>\n",
              "    </tr>\n",
              "    <tr>\n",
              "      <th>2</th>\n",
              "      <td>324.json</td>\n",
              "      <td>mostly-true</td>\n",
              "      <td>Hillary Clinton agrees with John McCain \"by vo...</td>\n",
              "      <td>foreign-policy</td>\n",
              "      <td>barack-obama</td>\n",
              "      <td>President</td>\n",
              "      <td>Illinois</td>\n",
              "      <td>democrat</td>\n",
              "      <td>70.0</td>\n",
              "      <td>71.0</td>\n",
              "      <td>160.0</td>\n",
              "      <td>163.0</td>\n",
              "      <td>9.0</td>\n",
              "      <td>Denver</td>\n",
              "      <td>1</td>\n",
              "      <td>2</td>\n",
              "      <td>hillari clinton agre john mccain vote georg bu...</td>\n",
              "      <td>False</td>\n",
              "      <td>10630</td>\n",
              "    </tr>\n",
              "    <tr>\n",
              "      <th>3</th>\n",
              "      <td>1123.json</td>\n",
              "      <td>false</td>\n",
              "      <td>Health care reform legislation is likely to ma...</td>\n",
              "      <td>health-care</td>\n",
              "      <td>blog-posting</td>\n",
              "      <td>NaN</td>\n",
              "      <td>NaN</td>\n",
              "      <td>none</td>\n",
              "      <td>7.0</td>\n",
              "      <td>19.0</td>\n",
              "      <td>3.0</td>\n",
              "      <td>5.0</td>\n",
              "      <td>44.0</td>\n",
              "      <td>a news release</td>\n",
              "      <td>0</td>\n",
              "      <td>3</td>\n",
              "      <td>health care reform legisl like mandat free cha...</td>\n",
              "      <td>False</td>\n",
              "      <td>12107</td>\n",
              "    </tr>\n",
              "    <tr>\n",
              "      <th>4</th>\n",
              "      <td>9028.json</td>\n",
              "      <td>half-true</td>\n",
              "      <td>The economic turnaround started at the end of ...</td>\n",
              "      <td>economy,jobs</td>\n",
              "      <td>charlie-crist</td>\n",
              "      <td>NaN</td>\n",
              "      <td>Florida</td>\n",
              "      <td>democrat</td>\n",
              "      <td>15.0</td>\n",
              "      <td>9.0</td>\n",
              "      <td>20.0</td>\n",
              "      <td>19.0</td>\n",
              "      <td>2.0</td>\n",
              "      <td>an interview on CNN</td>\n",
              "      <td>1</td>\n",
              "      <td>4</td>\n",
              "      <td>econom turnaround start term</td>\n",
              "      <td>False</td>\n",
              "      <td>49336</td>\n",
              "    </tr>\n",
              "  </tbody>\n",
              "</table>\n",
              "</div>"
            ],
            "text/plain": [
              "      Json_Id        Label                                          Statement  \\\n",
              "0   2635.json        false  Says the Annies List political group supports ...   \n",
              "1  10540.json    half-true  When did the decline of coal start? It started...   \n",
              "2    324.json  mostly-true  Hillary Clinton agrees with John McCain \"by vo...   \n",
              "3   1123.json        false  Health care reform legislation is likely to ma...   \n",
              "4   9028.json    half-true  The economic turnaround started at the end of ...   \n",
              "\n",
              "                              Subject     SpeakerName              JobTitle  \\\n",
              "0                            abortion    dwayne-bohac  State representative   \n",
              "1  energy,history,job-accomplishments  scott-surovell        State delegate   \n",
              "2                      foreign-policy    barack-obama             President   \n",
              "3                         health-care    blog-posting                   NaN   \n",
              "4                        economy,jobs   charlie-crist                   NaN   \n",
              "\n",
              "  StateInfo partyAffiliation  BarelyTrueCounts  FalseCounts  HalfTrueCounts  \\\n",
              "0     Texas       republican               0.0          1.0             0.0   \n",
              "1  Virginia         democrat               0.0          0.0             1.0   \n",
              "2  Illinois         democrat              70.0         71.0           160.0   \n",
              "3       NaN             none               7.0         19.0             3.0   \n",
              "4   Florida         democrat              15.0          9.0            20.0   \n",
              "\n",
              "   MostlyTrueCounts  PantsOnFireCounts              Context  Encoded_Label  \\\n",
              "0               0.0                0.0             a mailer              0   \n",
              "1               1.0                0.0      a floor speech.              1   \n",
              "2             163.0                9.0               Denver              1   \n",
              "3               5.0               44.0       a news release              0   \n",
              "4              19.0                2.0  an interview on CNN              1   \n",
              "\n",
              "   index                                processed_Statement values_for_true  \\\n",
              "0      0  say anni list polit group support trimest abor...            True   \n",
              "1      1  declin coal start start natur take start begin...           False   \n",
              "2      2  hillari clinton agre john mccain vote georg bu...           False   \n",
              "3      3  health care reform legisl like mandat free cha...           False   \n",
              "4      4                       econom turnaround start term           False   \n",
              "\n",
              "  context_new  \n",
              "0       79013  \n",
              "1       82741  \n",
              "2       10630  \n",
              "3       12107  \n",
              "4       49336  "
            ]
          },
          "metadata": {
            "tags": []
          },
          "execution_count": 60
        }
      ]
    },
    {
      "cell_type": "code",
      "metadata": {
        "colab_type": "code",
        "id": "JPsuoOD74hSG",
        "outputId": "9ab214b5-e9e9-46a0-8171-76e37b376adf",
        "colab": {
          "base_uri": "https://localhost:8080/",
          "height": 581
        }
      },
      "source": [
        "sensationCol=[]\n",
        "for row in test_news[titlecolname]:\n",
        "    try:\n",
        "        \n",
        "        test_data = word_tokenize(row.lower())\n",
        "        v1 = model.infer_vector(test_data)\n",
        "        similar_doc = model.docvecs.most_similar([v1])\n",
        "        sensationCol.append(similar_doc[0][0])\n",
        "    except:\n",
        "        pass\n",
        "sourceCol=list(map(int, sensationCol))\n",
        "test_news['context_new']=pd.Series(sensationCol)\n",
        "test_news.head()"
      ],
      "execution_count": 61,
      "outputs": [
        {
          "output_type": "execute_result",
          "data": {
            "text/html": [
              "<div>\n",
              "<style scoped>\n",
              "    .dataframe tbody tr th:only-of-type {\n",
              "        vertical-align: middle;\n",
              "    }\n",
              "\n",
              "    .dataframe tbody tr th {\n",
              "        vertical-align: top;\n",
              "    }\n",
              "\n",
              "    .dataframe thead th {\n",
              "        text-align: right;\n",
              "    }\n",
              "</style>\n",
              "<table border=\"1\" class=\"dataframe\">\n",
              "  <thead>\n",
              "    <tr style=\"text-align: right;\">\n",
              "      <th></th>\n",
              "      <th>Json_Id</th>\n",
              "      <th>Label</th>\n",
              "      <th>Statement</th>\n",
              "      <th>Subject</th>\n",
              "      <th>SpeakerName</th>\n",
              "      <th>JobTitle</th>\n",
              "      <th>StateInfo</th>\n",
              "      <th>partyAffiliation</th>\n",
              "      <th>BarelyTrueCounts</th>\n",
              "      <th>FalseCounts</th>\n",
              "      <th>HalfTrueCounts</th>\n",
              "      <th>MostlyTrueCounts</th>\n",
              "      <th>PantsOnFireCounts</th>\n",
              "      <th>Context</th>\n",
              "      <th>Encoded_Label</th>\n",
              "      <th>index</th>\n",
              "      <th>processed_Statement</th>\n",
              "      <th>context_new</th>\n",
              "    </tr>\n",
              "  </thead>\n",
              "  <tbody>\n",
              "    <tr>\n",
              "      <th>0</th>\n",
              "      <td>11972.json</td>\n",
              "      <td>true</td>\n",
              "      <td>Building a wall on the U.S.-Mexico border will...</td>\n",
              "      <td>immigration</td>\n",
              "      <td>rick-perry</td>\n",
              "      <td>Governor</td>\n",
              "      <td>Texas</td>\n",
              "      <td>republican</td>\n",
              "      <td>30</td>\n",
              "      <td>30</td>\n",
              "      <td>42</td>\n",
              "      <td>23</td>\n",
              "      <td>18</td>\n",
              "      <td>Radio interview</td>\n",
              "      <td>1</td>\n",
              "      <td>0</td>\n",
              "      <td>build wall mexico border liter year</td>\n",
              "      <td>17164</td>\n",
              "    </tr>\n",
              "    <tr>\n",
              "      <th>1</th>\n",
              "      <td>11685.json</td>\n",
              "      <td>false</td>\n",
              "      <td>Wisconsin is on pace to double the number of l...</td>\n",
              "      <td>jobs</td>\n",
              "      <td>katrina-shankland</td>\n",
              "      <td>State representative</td>\n",
              "      <td>Wisconsin</td>\n",
              "      <td>democrat</td>\n",
              "      <td>2</td>\n",
              "      <td>1</td>\n",
              "      <td>0</td>\n",
              "      <td>0</td>\n",
              "      <td>0</td>\n",
              "      <td>a news conference</td>\n",
              "      <td>0</td>\n",
              "      <td>1</td>\n",
              "      <td>wisconsin pace doubl number layoff year</td>\n",
              "      <td>6405</td>\n",
              "    </tr>\n",
              "    <tr>\n",
              "      <th>2</th>\n",
              "      <td>11096.json</td>\n",
              "      <td>false</td>\n",
              "      <td>Says John McCain has done nothing to help the ...</td>\n",
              "      <td>military,veterans,voting-record</td>\n",
              "      <td>donald-trump</td>\n",
              "      <td>President-Elect</td>\n",
              "      <td>New York</td>\n",
              "      <td>republican</td>\n",
              "      <td>63</td>\n",
              "      <td>114</td>\n",
              "      <td>51</td>\n",
              "      <td>37</td>\n",
              "      <td>61</td>\n",
              "      <td>comments on ABC's This Week.</td>\n",
              "      <td>0</td>\n",
              "      <td>2</td>\n",
              "      <td>say john mccain help vet</td>\n",
              "      <td>55860</td>\n",
              "    </tr>\n",
              "    <tr>\n",
              "      <th>3</th>\n",
              "      <td>5209.json</td>\n",
              "      <td>half-true</td>\n",
              "      <td>Suzanne Bonamici supports a plan that will cut...</td>\n",
              "      <td>medicare,message-machine-2012,campaign-adverti...</td>\n",
              "      <td>rob-cornilles</td>\n",
              "      <td>consultant</td>\n",
              "      <td>Oregon</td>\n",
              "      <td>republican</td>\n",
              "      <td>1</td>\n",
              "      <td>1</td>\n",
              "      <td>3</td>\n",
              "      <td>1</td>\n",
              "      <td>1</td>\n",
              "      <td>a radio show</td>\n",
              "      <td>1</td>\n",
              "      <td>3</td>\n",
              "      <td>suzann bonamici support plan choic medicar adv...</td>\n",
              "      <td>56644</td>\n",
              "    </tr>\n",
              "    <tr>\n",
              "      <th>4</th>\n",
              "      <td>9524.json</td>\n",
              "      <td>pants-fire</td>\n",
              "      <td>When asked by a reporter whether hes at the ce...</td>\n",
              "      <td>campaign-finance,legal-issues,campaign-adverti...</td>\n",
              "      <td>state-democratic-party-wisconsin</td>\n",
              "      <td>NaN</td>\n",
              "      <td>Wisconsin</td>\n",
              "      <td>democrat</td>\n",
              "      <td>5</td>\n",
              "      <td>7</td>\n",
              "      <td>2</td>\n",
              "      <td>2</td>\n",
              "      <td>7</td>\n",
              "      <td>a web video</td>\n",
              "      <td>0</td>\n",
              "      <td>4</td>\n",
              "      <td>ask report center crimin scheme violat campaig...</td>\n",
              "      <td>43765</td>\n",
              "    </tr>\n",
              "  </tbody>\n",
              "</table>\n",
              "</div>"
            ],
            "text/plain": [
              "      Json_Id       Label                                          Statement  \\\n",
              "0  11972.json        true  Building a wall on the U.S.-Mexico border will...   \n",
              "1  11685.json       false  Wisconsin is on pace to double the number of l...   \n",
              "2  11096.json       false  Says John McCain has done nothing to help the ...   \n",
              "3   5209.json   half-true  Suzanne Bonamici supports a plan that will cut...   \n",
              "4   9524.json  pants-fire  When asked by a reporter whether hes at the ce...   \n",
              "\n",
              "                                             Subject  \\\n",
              "0                                        immigration   \n",
              "1                                               jobs   \n",
              "2                    military,veterans,voting-record   \n",
              "3  medicare,message-machine-2012,campaign-adverti...   \n",
              "4  campaign-finance,legal-issues,campaign-adverti...   \n",
              "\n",
              "                        SpeakerName              JobTitle  StateInfo  \\\n",
              "0                        rick-perry              Governor      Texas   \n",
              "1                 katrina-shankland  State representative  Wisconsin   \n",
              "2                      donald-trump       President-Elect   New York   \n",
              "3                     rob-cornilles            consultant     Oregon   \n",
              "4  state-democratic-party-wisconsin                   NaN  Wisconsin   \n",
              "\n",
              "  partyAffiliation  BarelyTrueCounts  FalseCounts  HalfTrueCounts  \\\n",
              "0       republican                30           30              42   \n",
              "1         democrat                 2            1               0   \n",
              "2       republican                63          114              51   \n",
              "3       republican                 1            1               3   \n",
              "4         democrat                 5            7               2   \n",
              "\n",
              "   MostlyTrueCounts  PantsOnFireCounts                       Context  \\\n",
              "0                23                 18               Radio interview   \n",
              "1                 0                  0             a news conference   \n",
              "2                37                 61  comments on ABC's This Week.   \n",
              "3                 1                  1                  a radio show   \n",
              "4                 2                  7                   a web video   \n",
              "\n",
              "   Encoded_Label  index                                processed_Statement  \\\n",
              "0              1      0                build wall mexico border liter year   \n",
              "1              0      1            wisconsin pace doubl number layoff year   \n",
              "2              0      2                           say john mccain help vet   \n",
              "3              1      3  suzann bonamici support plan choic medicar adv...   \n",
              "4              0      4  ask report center crimin scheme violat campaig...   \n",
              "\n",
              "  context_new  \n",
              "0       17164  \n",
              "1        6405  \n",
              "2       55860  \n",
              "3       56644  \n",
              "4       43765  "
            ]
          },
          "metadata": {
            "tags": []
          },
          "execution_count": 61
        }
      ]
    },
    {
      "cell_type": "markdown",
      "metadata": {
        "id": "62rRqoyFemEn",
        "colab_type": "text"
      },
      "source": [
        "## Results Comparision Table "
      ]
    },
    {
      "cell_type": "code",
      "metadata": {
        "id": "K18KsrFidlw9",
        "colab_type": "code",
        "colab": {
          "base_uri": "https://localhost:8080/",
          "height": 119
        },
        "outputId": "7718794a-5c9e-424c-c53e-35e8ef83397d"
      },
      "source": [
        "X_test=train_news[titlecolname]\n",
        "Y_test = train_news[labelcolname]\n",
        "X_test =  X_test.replace(np.nan,'NoParty', regex=True)\n",
        "print(Y_train.head())"
      ],
      "execution_count": 62,
      "outputs": [
        {
          "output_type": "stream",
          "text": [
            "0    0\n",
            "1    1\n",
            "2    1\n",
            "3    0\n",
            "4    1\n",
            "Name: Encoded_Label, dtype: int64\n"
          ],
          "name": "stdout"
        }
      ]
    },
    {
      "cell_type": "code",
      "metadata": {
        "id": "VlCo2gRFeBMX",
        "colab_type": "code",
        "colab": {}
      },
      "source": [
        "def code_pipeline(cv, counterV, clsf, clsf_object, x_train, y_train, x_test, y_test):\n",
        "  pipe = Pipeline([(cv, counterV), (clsf, clsf_object)])\n",
        "  pipe.fit(x_train, y_train)\n",
        "  predict = pipe.predict(x_test)\n",
        "  cls_report=classification_report(y_test,predict)\n",
        "  cnfmtx=confusion_matrix(y_test,predict)\n",
        "  mse=mean_squared_error(y_test, predict)\n",
        "  mae=mean_absolute_error(y_test, predict)\n",
        "  msse=np.sqrt(mean_squared_error(y_test, predict))\n",
        "  return np.mean(predict == y_test), cls_report, cnfmtx, mse, mae, msse"
      ],
      "execution_count": 0,
      "outputs": []
    },
    {
      "cell_type": "code",
      "metadata": {
        "id": "qA40Yz7HeFfu",
        "colab_type": "code",
        "colab": {
          "base_uri": "https://localhost:8080/",
          "height": 71
        },
        "outputId": "c4fd0500-068b-44f8-85cd-f7c72c6a05f2"
      },
      "source": [
        "\n",
        "data = code_pipeline('NB', countV, 'nbclf', MultinomialNB(), X_train, Y_train, X_test, Y_test)\n",
        "print(data)"
      ],
      "execution_count": 64,
      "outputs": [
        {
          "output_type": "stream",
          "text": [
            "(0.56298828125, '              precision    recall  f1-score   support\\n\\n           0       0.53      0.03      0.06      4488\\n           1       0.56      0.98      0.72      5752\\n\\n    accuracy                           0.56     10240\\n   macro avg       0.54      0.50      0.39     10240\\nweighted avg       0.55      0.56      0.43     10240\\n', array([[ 132, 4356],\n",
            "       [ 119, 5633]]), 0.43701171875, 0.43701171875, 0.6610686187908181)\n"
          ],
          "name": "stdout"
        }
      ]
    },
    {
      "cell_type": "code",
      "metadata": {
        "id": "MtlZ69F-eLRh",
        "colab_type": "code",
        "colab": {
          "base_uri": "https://localhost:8080/",
          "height": 1000
        },
        "outputId": "989be8a2-8625-4d98-84ee-ec946534102b"
      },
      "source": [
        "from sklearn.tree import DecisionTreeClassifier\n",
        "from sklearn.ensemble import RandomForestClassifier\n",
        "from sklearn.linear_model import LogisticRegression\n",
        "from sklearn.metrics import classification_report,confusion_matrix\n",
        "from sklearn.metrics import mean_squared_error, r2_score, mean_absolute_error\n",
        "from sklearn.naive_bayes import GaussianNB\n",
        "from sklearn.metrics import accuracy_score\n",
        "from sklearn.model_selection import train_test_split\n",
        "from sklearn.svm import SVC\n",
        "from xgboost import XGBClassifier\n",
        "from prettytable import PrettyTable\n",
        "#funcDict = {\"DescionTree\": DecisionTreeClassifier(),\"Randon Forest\": RandomForestClassifier(n_estimators=100)} #,\"naive Bayes\": GaussianNB(),\"SVC\": SVC()}\n",
        "funcDict = {\"MultiNB\": MultinomialNB(), \"DescionTree\": DecisionTreeClassifier(),\"Random Forest\": RandomForestClassifier(n_estimators=100), \"LogR_clf\":LogisticRegression(), \n",
        "            \"svm_Linear\": svm.LinearSVC(), \"SVM_SGD\": SGDClassifier(loss='hinge', penalty='l2', alpha=1e-3), \"xgb_clf\": XGBClassifier()}\n",
        "p = PrettyTable([\"Algorithim\", \"Accuracy\",\"Confusion Matrix\", \"Mean Squared Error\",\"Mean Absolute Error\" ,\"MSSE\",\"Classification Report\"])\n",
        "p.padding_width = 1\n",
        "p.float_format='.8'\n",
        "for key in p.align.keys():\n",
        "    p.align[key] = 'l'\n",
        "\n",
        "for key,value1 in funcDict.items():\n",
        "    data,cls_report,cfs1,mse,mae,msse = code_pipeline('PIPELINE', CountVectorizer(), 'nb_clf', value1, X_train, Y_train, X_test, Y_test)\n",
        "    p.add_row([key,data,cfs1,mse,mae,msse,cls_report])\n",
        "    #p.add_row([\"---\",\"---\",\"---\",\"---\",\"---\",\"---\",\"---\"])\n",
        "    p.add_row([\"--------------\",\"-------------------\",\"-------------------\",\"----------------------\",\"-----------------------\",\"------------------\",\"-------------------------------------------------------\"])\n",
        "\n",
        "print(p)"
      ],
      "execution_count": 65,
      "outputs": [
        {
          "output_type": "stream",
          "text": [
            "+----------------+---------------------+---------------------+------------------------+-------------------------+--------------------+---------------------------------------------------------+\n",
            "| Algorithim     | Accuracy            | Confusion Matrix    | Mean Squared Error     | Mean Absolute Error     | MSSE               | Classification Report                                   |\n",
            "+----------------+---------------------+---------------------+------------------------+-------------------------+--------------------+---------------------------------------------------------+\n",
            "| MultiNB        | 0.56298828          | [[ 132 4356]        | 0.43701172             | 0.43701172              | 0.66106862         |               precision    recall  f1-score   support   |\n",
            "|                |                     |  [ 119 5633]]       |                        |                         |                    |                                                         |\n",
            "|                |                     |                     |                        |                         |                    |            0       0.53      0.03      0.06      4488   |\n",
            "|                |                     |                     |                        |                         |                    |            1       0.56      0.98      0.72      5752   |\n",
            "|                |                     |                     |                        |                         |                    |                                                         |\n",
            "|                |                     |                     |                        |                         |                    |     accuracy                           0.56     10240   |\n",
            "|                |                     |                     |                        |                         |                    |    macro avg       0.54      0.50      0.39     10240   |\n",
            "|                |                     |                     |                        |                         |                    | weighted avg       0.55      0.56      0.43     10240   |\n",
            "|                |                     |                     |                        |                         |                    |                                                         |\n",
            "| -------------- | ------------------- | ------------------- | ---------------------- | ----------------------- | ------------------ | ------------------------------------------------------- |\n",
            "| DescionTree    | 0.56298828          | [[ 132 4356]        | 0.43701172             | 0.43701172              | 0.66106862         |               precision    recall  f1-score   support   |\n",
            "|                |                     |  [ 119 5633]]       |                        |                         |                    |                                                         |\n",
            "|                |                     |                     |                        |                         |                    |            0       0.53      0.03      0.06      4488   |\n",
            "|                |                     |                     |                        |                         |                    |            1       0.56      0.98      0.72      5752   |\n",
            "|                |                     |                     |                        |                         |                    |                                                         |\n",
            "|                |                     |                     |                        |                         |                    |     accuracy                           0.56     10240   |\n",
            "|                |                     |                     |                        |                         |                    |    macro avg       0.54      0.50      0.39     10240   |\n",
            "|                |                     |                     |                        |                         |                    | weighted avg       0.55      0.56      0.43     10240   |\n",
            "|                |                     |                     |                        |                         |                    |                                                         |\n",
            "| -------------- | ------------------- | ------------------- | ---------------------- | ----------------------- | ------------------ | ------------------------------------------------------- |\n",
            "| Random Forest  | 0.56298828          | [[ 132 4356]        | 0.43701172             | 0.43701172              | 0.66106862         |               precision    recall  f1-score   support   |\n",
            "|                |                     |  [ 119 5633]]       |                        |                         |                    |                                                         |\n",
            "|                |                     |                     |                        |                         |                    |            0       0.53      0.03      0.06      4488   |\n",
            "|                |                     |                     |                        |                         |                    |            1       0.56      0.98      0.72      5752   |\n",
            "|                |                     |                     |                        |                         |                    |                                                         |\n",
            "|                |                     |                     |                        |                         |                    |     accuracy                           0.56     10240   |\n",
            "|                |                     |                     |                        |                         |                    |    macro avg       0.54      0.50      0.39     10240   |\n",
            "|                |                     |                     |                        |                         |                    | weighted avg       0.55      0.56      0.43     10240   |\n",
            "|                |                     |                     |                        |                         |                    |                                                         |\n",
            "| -------------- | ------------------- | ------------------- | ---------------------- | ----------------------- | ------------------ | ------------------------------------------------------- |\n",
            "| LogR_clf       | 0.56298828          | [[ 132 4356]        | 0.43701172             | 0.43701172              | 0.66106862         |               precision    recall  f1-score   support   |\n",
            "|                |                     |  [ 119 5633]]       |                        |                         |                    |                                                         |\n",
            "|                |                     |                     |                        |                         |                    |            0       0.53      0.03      0.06      4488   |\n",
            "|                |                     |                     |                        |                         |                    |            1       0.56      0.98      0.72      5752   |\n",
            "|                |                     |                     |                        |                         |                    |                                                         |\n",
            "|                |                     |                     |                        |                         |                    |     accuracy                           0.56     10240   |\n",
            "|                |                     |                     |                        |                         |                    |    macro avg       0.54      0.50      0.39     10240   |\n",
            "|                |                     |                     |                        |                         |                    | weighted avg       0.55      0.56      0.43     10240   |\n",
            "|                |                     |                     |                        |                         |                    |                                                         |\n",
            "| -------------- | ------------------- | ------------------- | ---------------------- | ----------------------- | ------------------ | ------------------------------------------------------- |\n",
            "| svm_Linear     | 0.56298828          | [[ 132 4356]        | 0.43701172             | 0.43701172              | 0.66106862         |               precision    recall  f1-score   support   |\n",
            "|                |                     |  [ 119 5633]]       |                        |                         |                    |                                                         |\n",
            "|                |                     |                     |                        |                         |                    |            0       0.53      0.03      0.06      4488   |\n",
            "|                |                     |                     |                        |                         |                    |            1       0.56      0.98      0.72      5752   |\n",
            "|                |                     |                     |                        |                         |                    |                                                         |\n",
            "|                |                     |                     |                        |                         |                    |     accuracy                           0.56     10240   |\n",
            "|                |                     |                     |                        |                         |                    |    macro avg       0.54      0.50      0.39     10240   |\n",
            "|                |                     |                     |                        |                         |                    | weighted avg       0.55      0.56      0.43     10240   |\n",
            "|                |                     |                     |                        |                         |                    |                                                         |\n",
            "| -------------- | ------------------- | ------------------- | ---------------------- | ----------------------- | ------------------ | ------------------------------------------------------- |\n",
            "| SVM_SGD        | 0.56259766          | [[ 127 4361]        | 0.43740234             | 0.43740234              | 0.66136400         |               precision    recall  f1-score   support   |\n",
            "|                |                     |  [ 118 5634]]       |                        |                         |                    |                                                         |\n",
            "|                |                     |                     |                        |                         |                    |            0       0.52      0.03      0.05      4488   |\n",
            "|                |                     |                     |                        |                         |                    |            1       0.56      0.98      0.72      5752   |\n",
            "|                |                     |                     |                        |                         |                    |                                                         |\n",
            "|                |                     |                     |                        |                         |                    |     accuracy                           0.56     10240   |\n",
            "|                |                     |                     |                        |                         |                    |    macro avg       0.54      0.50      0.38     10240   |\n",
            "|                |                     |                     |                        |                         |                    | weighted avg       0.54      0.56      0.43     10240   |\n",
            "|                |                     |                     |                        |                         |                    |                                                         |\n",
            "| -------------- | ------------------- | ------------------- | ---------------------- | ----------------------- | ------------------ | ------------------------------------------------------- |\n",
            "| xgb_clf        | 0.56269531          | [[ 129 4359]        | 0.43730469             | 0.43730469              | 0.66129017         |               precision    recall  f1-score   support   |\n",
            "|                |                     |  [ 119 5633]]       |                        |                         |                    |                                                         |\n",
            "|                |                     |                     |                        |                         |                    |            0       0.52      0.03      0.05      4488   |\n",
            "|                |                     |                     |                        |                         |                    |            1       0.56      0.98      0.72      5752   |\n",
            "|                |                     |                     |                        |                         |                    |                                                         |\n",
            "|                |                     |                     |                        |                         |                    |     accuracy                           0.56     10240   |\n",
            "|                |                     |                     |                        |                         |                    |    macro avg       0.54      0.50      0.39     10240   |\n",
            "|                |                     |                     |                        |                         |                    | weighted avg       0.54      0.56      0.43     10240   |\n",
            "|                |                     |                     |                        |                         |                    |                                                         |\n",
            "| -------------- | ------------------- | ------------------- | ---------------------- | ----------------------- | ------------------ | ------------------------------------------------------- |\n",
            "+----------------+---------------------+---------------------+------------------------+-------------------------+--------------------+---------------------------------------------------------+\n"
          ],
          "name": "stdout"
        }
      ]
    },
    {
      "cell_type": "markdown",
      "metadata": {
        "id": "VO7elhmPwYek",
        "colab_type": "text"
      },
      "source": [
        "### Classification Algorithms\n"
      ]
    },
    {
      "cell_type": "markdown",
      "metadata": {
        "id": "-NwruOk2691M",
        "colab_type": "text"
      },
      "source": [
        "#### Building Classifier using Naives Bayes regression"
      ]
    },
    {
      "cell_type": "code",
      "metadata": {
        "id": "9lBz_pyPwYek",
        "colab_type": "code",
        "outputId": "203fe05f-284a-4fe4-dcd6-2a4a25c7700c",
        "colab": {
          "base_uri": "https://localhost:8080/",
          "height": 34
        }
      },
      "source": [
        "nb_pipeline = Pipeline([\n",
        "        ('NBCV',countV),\n",
        "        ('nb_clf',MultinomialNB())])\n",
        "\n",
        "train_news_label = train_news[labelcolname].dropna()\n",
        "train_news_title = train_news[titlecolname].dropna()\n",
        "test_news_label = test_news[labelcolname].dropna()\n",
        "nb_pipeline.fit(train_news[titlecolname].dropna(), train_news_label[0:len(train_news_title)])\n",
        "predicted_nb = nb_pipeline.predict(test_news[titlecolname].dropna())\n",
        "np.mean(predicted_nb == test_news_label[0:len(predicted_nb)])"
      ],
      "execution_count": 66,
      "outputs": [
        {
          "output_type": "execute_result",
          "data": {
            "text/plain": [
              "0.5659037095501184"
            ]
          },
          "metadata": {
            "tags": []
          },
          "execution_count": 66
        }
      ]
    },
    {
      "cell_type": "markdown",
      "metadata": {
        "id": "FUFsHwFEwYem",
        "colab_type": "text"
      },
      "source": [
        "#### Building Classifier using Logistic regression"
      ]
    },
    {
      "cell_type": "code",
      "metadata": {
        "id": "0PK26CbSwYep",
        "colab_type": "code",
        "outputId": "1c90b4f9-bf71-458b-f6c6-c6ab9d39f4de",
        "colab": {
          "base_uri": "https://localhost:8080/",
          "height": 34
        }
      },
      "source": [
        "logR_pipeline = Pipeline([('LogRCV',countV),('LogR_clf',LogisticRegression())])\n",
        "\n",
        "logR_pipeline.fit(train_news_title, train_news_label[0:len(train_news_title)])\n",
        "predicted_LogR = logR_pipeline.predict(test_news[titlecolname].dropna())\n",
        "np.mean(predicted_LogR == test_news_label[0:len(predicted_LogR)])"
      ],
      "execution_count": 67,
      "outputs": [
        {
          "output_type": "execute_result",
          "data": {
            "text/plain": [
              "0.56353591160221"
            ]
          },
          "metadata": {
            "tags": []
          },
          "execution_count": 67
        }
      ]
    },
    {
      "cell_type": "markdown",
      "metadata": {
        "id": "4rfBZhiBwYer",
        "colab_type": "text"
      },
      "source": [
        "#### Building Classifier using Linear SVM Classifier"
      ]
    },
    {
      "cell_type": "code",
      "metadata": {
        "id": "A11uZZBjwYer",
        "colab_type": "code",
        "outputId": "7fc2d86b-d592-499b-ca9a-4c6666436f93",
        "colab": {
          "base_uri": "https://localhost:8080/",
          "height": 34
        }
      },
      "source": [
        "svm_pipeline = Pipeline([('svmCV',countV),('svm_clf',svm.LinearSVC())])\n",
        "\n",
        "svm_pipeline.fit(train_news_title, train_news_label[0:len(train_news_title)])\n",
        "predicted_svm = svm_pipeline.predict(test_news[titlecolname].dropna())\n",
        "np.mean(predicted_svm == test_news_label[0:len(predicted_svm)])"
      ],
      "execution_count": 68,
      "outputs": [
        {
          "output_type": "execute_result",
          "data": {
            "text/plain": [
              "0.56353591160221"
            ]
          },
          "metadata": {
            "tags": []
          },
          "execution_count": 68
        }
      ]
    },
    {
      "cell_type": "markdown",
      "metadata": {
        "id": "I-ww0cgBwYeu",
        "colab_type": "text"
      },
      "source": [
        "#### Building Classifier using SVM Stochastic Gradient Descent on hinge loss"
      ]
    },
    {
      "cell_type": "code",
      "metadata": {
        "id": "ygfybPWpwYev",
        "colab_type": "code",
        "outputId": "e08875b2-59ab-4839-8862-8746a6803382",
        "colab": {
          "base_uri": "https://localhost:8080/",
          "height": 34
        }
      },
      "source": [
        "#sgd_pipeline = Pipeline([('svm2CV',countV),('svm2_clf',SGDClassifier(loss='hinge', penalty='l2', alpha=1e-3, n_iter=5))])\n",
        "sgd_pipeline = Pipeline([('svm2CV',countV),('svm2_clf',SGDClassifier(loss='hinge', penalty='l2', alpha=1e-3))])\n",
        "\n",
        "sgd_pipeline.fit(train_news_title, train_news_label[0:len(train_news_title)])\n",
        "predicted_sgd = sgd_pipeline.predict(test_news[titlecolname].dropna())\n",
        "np.mean(predicted_sgd == test_news_label[0:len(predicted_sgd)])"
      ],
      "execution_count": 69,
      "outputs": [
        {
          "output_type": "execute_result",
          "data": {
            "text/plain": [
              "0.56353591160221"
            ]
          },
          "metadata": {
            "tags": []
          },
          "execution_count": 69
        }
      ]
    },
    {
      "cell_type": "markdown",
      "metadata": {
        "id": "BhR16TUtwYew",
        "colab_type": "text"
      },
      "source": [
        "#### Building Classifier using RandomForestClassifier"
      ]
    },
    {
      "cell_type": "code",
      "metadata": {
        "id": "hiCSFEpfwYex",
        "colab_type": "code",
        "outputId": "cd8ae665-bf69-4b25-f1fa-35a857f71831",
        "colab": {
          "base_uri": "https://localhost:8080/",
          "height": 34
        }
      },
      "source": [
        "#random forest\n",
        "random_forest = Pipeline([\n",
        "        ('rfCV',countV),\n",
        "        ('rf_clf',RandomForestClassifier(n_estimators=200,n_jobs=3))\n",
        "        ])\n",
        "    \n",
        "random_forest.fit(train_news_title, train_news_label[0:len(train_news_title)])\n",
        "predicted_rf = random_forest.predict(test_news[titlecolname].dropna())\n",
        "np.mean(predicted_rf == test_news_label[0:len(predicted_rf)])"
      ],
      "execution_count": 70,
      "outputs": [
        {
          "output_type": "execute_result",
          "data": {
            "text/plain": [
              "0.56353591160221"
            ]
          },
          "metadata": {
            "tags": []
          },
          "execution_count": 70
        }
      ]
    },
    {
      "cell_type": "code",
      "metadata": {
        "id": "XLArxej2MRND",
        "colab_type": "code",
        "outputId": "d88cddd1-0dbb-499b-a61b-f842088278be",
        "colab": {
          "base_uri": "https://localhost:8080/",
          "height": 34
        }
      },
      "source": [
        "#Extreme Gradient Booster\n",
        "from xgboost import XGBClassifier\n",
        "xgboost_Pipeline = Pipeline([\n",
        "        ('xgbCV',countV),\n",
        "        ('xgb_clf',XGBClassifier())\n",
        "        ])\n",
        "    \n",
        "xgboost_Pipeline.fit(train_news_title, train_news_label[0:len(train_news_title)])\n",
        "predicted_xgb = xgboost_Pipeline.predict(test_news[titlecolname].dropna())\n",
        "np.mean(predicted_xgb == test_news_label[0:len(predicted_xgb)])"
      ],
      "execution_count": 71,
      "outputs": [
        {
          "output_type": "execute_result",
          "data": {
            "text/plain": [
              "0.56353591160221"
            ]
          },
          "metadata": {
            "tags": []
          },
          "execution_count": 71
        }
      ]
    },
    {
      "cell_type": "code",
      "metadata": {
        "id": "yNjoxzT0wYe2",
        "colab_type": "code",
        "colab": {}
      },
      "source": [
        "def build_confusion_matrix(classifier):\n",
        "    \n",
        "    k_fold = KFold(n_splits=5, random_state=None, shuffle=False)\n",
        "    scores = []\n",
        "    confusion = np.array([[0,0],[0,0]])\n",
        "    val= []\n",
        "    for train_ind, test_ind in k_fold.split(train_news):\n",
        "        train_text = train_news.iloc[train_ind][titlecolname].dropna() \n",
        "        train_y = train_news.iloc[train_ind][labelcolname].dropna()\n",
        "    \n",
        "        test_text = train_news.iloc[test_ind][titlecolname].dropna()\n",
        "        test_y = train_news.iloc[test_ind][labelcolname].dropna()\n",
        "        \n",
        "        classifier.fit(train_text,train_y[0:len(train_text)])\n",
        "        predictions = classifier.predict(test_text)\n",
        "        confusion += confusion_matrix(test_y[0:len(predictions)],predictions)\n",
        "        score = f1_score(test_y[0:len(predictions)],predictions)\n",
        "        scores.append(score)\n",
        "    \n",
        "    print('Total statements classified:{}'.format(len(train_news)))\n",
        "    print('Score:{}'.format(sum(scores)/len(scores)))\n",
        "    print('Score length:{}'.format(len(scores)))\n",
        "    cm = confusion\n",
        "    #sns.heatmap(pd.DataFrame(cm), annot=True, cmap=\"YlGnBu\" ,fmt='g')\n",
        "    sns.heatmap(cm, annot=True, cmap=\"Oranges\" ,fmt='g')\n",
        "    plt.tight_layout()\n",
        "    plt.title('Confusion matrix', y=1.1)\n",
        "    plt.ylabel('Actual label')\n",
        "    plt.xlabel('Predicted label')"
      ],
      "execution_count": 0,
      "outputs": []
    },
    {
      "cell_type": "code",
      "metadata": {
        "id": "WKisa6n6wYe9",
        "colab_type": "code",
        "outputId": "3fb668df-b25c-4b9b-fc69-c4318670559e",
        "colab": {
          "base_uri": "https://localhost:8080/",
          "height": 475
        }
      },
      "source": [
        "build_confusion_matrix(nb_pipeline)"
      ],
      "execution_count": 73,
      "outputs": [
        {
          "output_type": "stream",
          "text": [
            "Total statements classified:10240\n",
            "Score:0.716092696749237\n",
            "Score length:5\n"
          ],
          "name": "stdout"
        },
        {
          "output_type": "display_data",
          "data": {
            "image/png": "[encoded data removed]",
            "text/plain": [
              "<Figure size 576x396 with 2 Axes>"
            ]
          },
          "metadata": {
            "tags": []
          }
        }
      ]
    },
    {
      "cell_type": "code",
      "metadata": {
        "id": "7XjeoJtswYe-",
        "colab_type": "code",
        "outputId": "5e66a409-b2f1-4999-efc7-c864defa103b",
        "colab": {
          "base_uri": "https://localhost:8080/",
          "height": 475
        }
      },
      "source": [
        "build_confusion_matrix(logR_pipeline)"
      ],
      "execution_count": 74,
      "outputs": [
        {
          "output_type": "stream",
          "text": [
            "Total statements classified:10240\n",
            "Score:0.7164307337971738\n",
            "Score length:5\n"
          ],
          "name": "stdout"
        },
        {
          "output_type": "display_data",
          "data": {
            "image/png": "[encoded data removed]",
            "text/plain": [
              "<Figure size 576x396 with 2 Axes>"
            ]
          },
          "metadata": {
            "tags": []
          }
        }
      ]
    },
    {
      "cell_type": "code",
      "metadata": {
        "id": "lLfrYTCowYfA",
        "colab_type": "code",
        "outputId": "003caa8c-3fae-41ff-d5d4-be21fa9cbcaa",
        "colab": {
          "base_uri": "https://localhost:8080/",
          "height": 475
        }
      },
      "source": [
        "build_confusion_matrix(svm_pipeline)"
      ],
      "execution_count": 75,
      "outputs": [
        {
          "output_type": "stream",
          "text": [
            "Total statements classified:10240\n",
            "Score:0.7163486198326752\n",
            "Score length:5\n"
          ],
          "name": "stdout"
        },
        {
          "output_type": "display_data",
          "data": {
            "image/png": "[encoded data removed]",
            "text/plain": [
              "<Figure size 576x396 with 2 Axes>"
            ]
          },
          "metadata": {
            "tags": []
          }
        }
      ]
    },
    {
      "cell_type": "code",
      "metadata": {
        "id": "i8S6xIGZwYfB",
        "colab_type": "code",
        "outputId": "8df8d686-974b-4741-f372-31558ac159c0",
        "colab": {
          "base_uri": "https://localhost:8080/",
          "height": 475
        }
      },
      "source": [
        "build_confusion_matrix(sgd_pipeline)"
      ],
      "execution_count": 76,
      "outputs": [
        {
          "output_type": "stream",
          "text": [
            "Total statements classified:10240\n",
            "Score:0.7188100855371808\n",
            "Score length:5\n"
          ],
          "name": "stdout"
        },
        {
          "output_type": "display_data",
          "data": {
            "image/png": "[encoded data removed]",
            "text/plain": [
              "<Figure size 576x396 with 2 Axes>"
            ]
          },
          "metadata": {
            "tags": []
          }
        }
      ]
    },
    {
      "cell_type": "code",
      "metadata": {
        "id": "evFujcuCwYfD",
        "colab_type": "code",
        "outputId": "cf88305c-9fe9-4bb8-be0f-93ece524f937",
        "colab": {
          "base_uri": "https://localhost:8080/",
          "height": 475
        }
      },
      "source": [
        "build_confusion_matrix(random_forest)"
      ],
      "execution_count": 77,
      "outputs": [
        {
          "output_type": "stream",
          "text": [
            "Total statements classified:10240\n",
            "Score:0.7159492818961422\n",
            "Score length:5\n"
          ],
          "name": "stdout"
        },
        {
          "output_type": "display_data",
          "data": {
            "image/png": "[encoded data removed]",
            "text/plain": [
              "<Figure size 576x396 with 2 Axes>"
            ]
          },
          "metadata": {
            "tags": []
          }
        }
      ]
    },
    {
      "cell_type": "code",
      "metadata": {
        "id": "866Xa_oQO5kG",
        "colab_type": "code",
        "outputId": "7dcf40c9-72f2-4570-a3dc-2d1459bbfed0",
        "colab": {
          "base_uri": "https://localhost:8080/",
          "height": 475
        }
      },
      "source": [
        "build_confusion_matrix(xgboost_Pipeline)"
      ],
      "execution_count": 78,
      "outputs": [
        {
          "output_type": "stream",
          "text": [
            "Total statements classified:10240\n",
            "Score:0.716511514466612\n",
            "Score length:5\n"
          ],
          "name": "stdout"
        },
        {
          "output_type": "display_data",
          "data": {
            "image/png": "[encoded data removed]",
            "text/plain": [
              "<Figure size 576x396 with 2 Axes>"
            ]
          },
          "metadata": {
            "tags": []
          }
        }
      ]
    }
  ]
}